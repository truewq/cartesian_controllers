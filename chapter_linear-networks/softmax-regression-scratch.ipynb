{
  "cells": [
    {
      "cell_type": "markdown",
      "id": "b9cc5ce7",
      "metadata": {
        "id": "b9cc5ce7"
      },
      "source": [
        "The following additional libraries are needed to run this\n",
        "notebook. Note that running on Colab is experimental, please report a Github\n",
        "issue if you have any problem."
      ]
    },
    {
      "cell_type": "code",
      "execution_count": 2,
      "id": "de5bf674",
      "metadata": {
        "colab": {
          "base_uri": "https://localhost:8080/",
          "height": 1000
        },
        "id": "de5bf674",
        "outputId": "22dc2964-54c0-4bf8-ab3d-616039d4485e"
      },
      "outputs": [
        {
          "output_type": "stream",
          "name": "stdout",
          "text": [
            "Collecting d2l\n",
            "  Downloading d2l-1.0.3-py3-none-any.whl.metadata (556 bytes)\n",
            "Collecting jupyter==1.0.0 (from d2l)\n",
            "  Downloading jupyter-1.0.0-py2.py3-none-any.whl.metadata (995 bytes)\n",
            "Collecting numpy==1.23.5 (from d2l)\n",
            "  Downloading numpy-1.23.5-cp311-cp311-manylinux_2_17_x86_64.manylinux2014_x86_64.whl.metadata (2.3 kB)\n",
            "Collecting matplotlib==3.7.2 (from d2l)\n",
            "  Downloading matplotlib-3.7.2-cp311-cp311-manylinux_2_17_x86_64.manylinux2014_x86_64.whl.metadata (5.6 kB)\n",
            "Collecting matplotlib-inline==0.1.6 (from d2l)\n",
            "  Downloading matplotlib_inline-0.1.6-py3-none-any.whl.metadata (2.8 kB)\n",
            "Collecting requests==2.31.0 (from d2l)\n",
            "  Downloading requests-2.31.0-py3-none-any.whl.metadata (4.6 kB)\n",
            "Collecting pandas==2.0.3 (from d2l)\n",
            "  Downloading pandas-2.0.3-cp311-cp311-manylinux_2_17_x86_64.manylinux2014_x86_64.whl.metadata (18 kB)\n",
            "Collecting scipy==1.10.1 (from d2l)\n",
            "  Downloading scipy-1.10.1-cp311-cp311-manylinux_2_17_x86_64.manylinux2014_x86_64.whl.metadata (58 kB)\n",
            "\u001b[2K     \u001b[90m━━━━━━━━━━━━━━━━━━━━━━━━━━━━━━━━━━━━━━━━\u001b[0m \u001b[32m58.9/58.9 kB\u001b[0m \u001b[31m3.8 MB/s\u001b[0m eta \u001b[36m0:00:00\u001b[0m\n",
            "\u001b[?25hRequirement already satisfied: notebook in /usr/local/lib/python3.11/dist-packages (from jupyter==1.0.0->d2l) (6.5.7)\n",
            "Collecting qtconsole (from jupyter==1.0.0->d2l)\n",
            "  Downloading qtconsole-5.6.1-py3-none-any.whl.metadata (5.0 kB)\n",
            "Requirement already satisfied: jupyter-console in /usr/local/lib/python3.11/dist-packages (from jupyter==1.0.0->d2l) (6.1.0)\n",
            "Requirement already satisfied: nbconvert in /usr/local/lib/python3.11/dist-packages (from jupyter==1.0.0->d2l) (7.16.6)\n",
            "Requirement already satisfied: ipykernel in /usr/local/lib/python3.11/dist-packages (from jupyter==1.0.0->d2l) (6.17.1)\n",
            "Requirement already satisfied: ipywidgets in /usr/local/lib/python3.11/dist-packages (from jupyter==1.0.0->d2l) (7.7.1)\n",
            "Requirement already satisfied: contourpy>=1.0.1 in /usr/local/lib/python3.11/dist-packages (from matplotlib==3.7.2->d2l) (1.3.2)\n",
            "Requirement already satisfied: cycler>=0.10 in /usr/local/lib/python3.11/dist-packages (from matplotlib==3.7.2->d2l) (0.12.1)\n",
            "Requirement already satisfied: fonttools>=4.22.0 in /usr/local/lib/python3.11/dist-packages (from matplotlib==3.7.2->d2l) (4.58.1)\n",
            "Requirement already satisfied: kiwisolver>=1.0.1 in /usr/local/lib/python3.11/dist-packages (from matplotlib==3.7.2->d2l) (1.4.8)\n",
            "Requirement already satisfied: packaging>=20.0 in /usr/local/lib/python3.11/dist-packages (from matplotlib==3.7.2->d2l) (24.2)\n",
            "Requirement already satisfied: pillow>=6.2.0 in /usr/local/lib/python3.11/dist-packages (from matplotlib==3.7.2->d2l) (11.2.1)\n",
            "Collecting pyparsing<3.1,>=2.3.1 (from matplotlib==3.7.2->d2l)\n",
            "  Downloading pyparsing-3.0.9-py3-none-any.whl.metadata (4.2 kB)\n",
            "Requirement already satisfied: python-dateutil>=2.7 in /usr/local/lib/python3.11/dist-packages (from matplotlib==3.7.2->d2l) (2.9.0.post0)\n",
            "Requirement already satisfied: traitlets in /usr/local/lib/python3.11/dist-packages (from matplotlib-inline==0.1.6->d2l) (5.7.1)\n",
            "Requirement already satisfied: pytz>=2020.1 in /usr/local/lib/python3.11/dist-packages (from pandas==2.0.3->d2l) (2025.2)\n",
            "Requirement already satisfied: tzdata>=2022.1 in /usr/local/lib/python3.11/dist-packages (from pandas==2.0.3->d2l) (2025.2)\n",
            "Requirement already satisfied: charset-normalizer<4,>=2 in /usr/local/lib/python3.11/dist-packages (from requests==2.31.0->d2l) (3.4.2)\n",
            "Requirement already satisfied: idna<4,>=2.5 in /usr/local/lib/python3.11/dist-packages (from requests==2.31.0->d2l) (3.10)\n",
            "Requirement already satisfied: urllib3<3,>=1.21.1 in /usr/local/lib/python3.11/dist-packages (from requests==2.31.0->d2l) (2.4.0)\n",
            "Requirement already satisfied: certifi>=2017.4.17 in /usr/local/lib/python3.11/dist-packages (from requests==2.31.0->d2l) (2025.4.26)\n",
            "Requirement already satisfied: six>=1.5 in /usr/local/lib/python3.11/dist-packages (from python-dateutil>=2.7->matplotlib==3.7.2->d2l) (1.17.0)\n",
            "Requirement already satisfied: debugpy>=1.0 in /usr/local/lib/python3.11/dist-packages (from ipykernel->jupyter==1.0.0->d2l) (1.8.0)\n",
            "Requirement already satisfied: ipython>=7.23.1 in /usr/local/lib/python3.11/dist-packages (from ipykernel->jupyter==1.0.0->d2l) (7.34.0)\n",
            "Requirement already satisfied: jupyter-client>=6.1.12 in /usr/local/lib/python3.11/dist-packages (from ipykernel->jupyter==1.0.0->d2l) (6.1.12)\n",
            "Requirement already satisfied: nest-asyncio in /usr/local/lib/python3.11/dist-packages (from ipykernel->jupyter==1.0.0->d2l) (1.6.0)\n",
            "Requirement already satisfied: psutil in /usr/local/lib/python3.11/dist-packages (from ipykernel->jupyter==1.0.0->d2l) (5.9.5)\n",
            "Requirement already satisfied: pyzmq>=17 in /usr/local/lib/python3.11/dist-packages (from ipykernel->jupyter==1.0.0->d2l) (24.0.1)\n",
            "Requirement already satisfied: tornado>=6.1 in /usr/local/lib/python3.11/dist-packages (from ipykernel->jupyter==1.0.0->d2l) (6.4.2)\n",
            "Requirement already satisfied: ipython-genutils~=0.2.0 in /usr/local/lib/python3.11/dist-packages (from ipywidgets->jupyter==1.0.0->d2l) (0.2.0)\n",
            "Requirement already satisfied: widgetsnbextension~=3.6.0 in /usr/local/lib/python3.11/dist-packages (from ipywidgets->jupyter==1.0.0->d2l) (3.6.10)\n",
            "Requirement already satisfied: jupyterlab-widgets>=1.0.0 in /usr/local/lib/python3.11/dist-packages (from ipywidgets->jupyter==1.0.0->d2l) (3.0.15)\n",
            "Requirement already satisfied: prompt-toolkit!=3.0.0,!=3.0.1,<3.1.0,>=2.0.0 in /usr/local/lib/python3.11/dist-packages (from jupyter-console->jupyter==1.0.0->d2l) (3.0.51)\n",
            "Requirement already satisfied: pygments in /usr/local/lib/python3.11/dist-packages (from jupyter-console->jupyter==1.0.0->d2l) (2.19.1)\n",
            "Requirement already satisfied: beautifulsoup4 in /usr/local/lib/python3.11/dist-packages (from nbconvert->jupyter==1.0.0->d2l) (4.13.4)\n",
            "Requirement already satisfied: bleach!=5.0.0 in /usr/local/lib/python3.11/dist-packages (from bleach[css]!=5.0.0->nbconvert->jupyter==1.0.0->d2l) (6.2.0)\n",
            "Requirement already satisfied: defusedxml in /usr/local/lib/python3.11/dist-packages (from nbconvert->jupyter==1.0.0->d2l) (0.7.1)\n",
            "Requirement already satisfied: jinja2>=3.0 in /usr/local/lib/python3.11/dist-packages (from nbconvert->jupyter==1.0.0->d2l) (3.1.6)\n",
            "Requirement already satisfied: jupyter-core>=4.7 in /usr/local/lib/python3.11/dist-packages (from nbconvert->jupyter==1.0.0->d2l) (5.8.1)\n",
            "Requirement already satisfied: jupyterlab-pygments in /usr/local/lib/python3.11/dist-packages (from nbconvert->jupyter==1.0.0->d2l) (0.3.0)\n",
            "Requirement already satisfied: markupsafe>=2.0 in /usr/local/lib/python3.11/dist-packages (from nbconvert->jupyter==1.0.0->d2l) (3.0.2)\n",
            "Requirement already satisfied: mistune<4,>=2.0.3 in /usr/local/lib/python3.11/dist-packages (from nbconvert->jupyter==1.0.0->d2l) (3.1.3)\n",
            "Requirement already satisfied: nbclient>=0.5.0 in /usr/local/lib/python3.11/dist-packages (from nbconvert->jupyter==1.0.0->d2l) (0.10.2)\n",
            "Requirement already satisfied: nbformat>=5.7 in /usr/local/lib/python3.11/dist-packages (from nbconvert->jupyter==1.0.0->d2l) (5.10.4)\n",
            "Requirement already satisfied: pandocfilters>=1.4.1 in /usr/local/lib/python3.11/dist-packages (from nbconvert->jupyter==1.0.0->d2l) (1.5.1)\n",
            "Requirement already satisfied: argon2-cffi in /usr/local/lib/python3.11/dist-packages (from notebook->jupyter==1.0.0->d2l) (25.1.0)\n",
            "Requirement already satisfied: Send2Trash>=1.8.0 in /usr/local/lib/python3.11/dist-packages (from notebook->jupyter==1.0.0->d2l) (1.8.3)\n",
            "Requirement already satisfied: terminado>=0.8.3 in /usr/local/lib/python3.11/dist-packages (from notebook->jupyter==1.0.0->d2l) (0.18.1)\n",
            "Requirement already satisfied: prometheus-client in /usr/local/lib/python3.11/dist-packages (from notebook->jupyter==1.0.0->d2l) (0.22.1)\n",
            "Requirement already satisfied: nbclassic>=0.4.7 in /usr/local/lib/python3.11/dist-packages (from notebook->jupyter==1.0.0->d2l) (1.3.1)\n",
            "Collecting qtpy>=2.4.0 (from qtconsole->jupyter==1.0.0->d2l)\n",
            "  Downloading QtPy-2.4.3-py3-none-any.whl.metadata (12 kB)\n",
            "Requirement already satisfied: webencodings in /usr/local/lib/python3.11/dist-packages (from bleach!=5.0.0->bleach[css]!=5.0.0->nbconvert->jupyter==1.0.0->d2l) (0.5.1)\n",
            "Requirement already satisfied: tinycss2<1.5,>=1.1.0 in /usr/local/lib/python3.11/dist-packages (from bleach[css]!=5.0.0->nbconvert->jupyter==1.0.0->d2l) (1.4.0)\n",
            "Requirement already satisfied: setuptools>=18.5 in /usr/local/lib/python3.11/dist-packages (from ipython>=7.23.1->ipykernel->jupyter==1.0.0->d2l) (75.2.0)\n",
            "Collecting jedi>=0.16 (from ipython>=7.23.1->ipykernel->jupyter==1.0.0->d2l)\n",
            "  Downloading jedi-0.19.2-py2.py3-none-any.whl.metadata (22 kB)\n",
            "Requirement already satisfied: decorator in /usr/local/lib/python3.11/dist-packages (from ipython>=7.23.1->ipykernel->jupyter==1.0.0->d2l) (4.4.2)\n",
            "Requirement already satisfied: pickleshare in /usr/local/lib/python3.11/dist-packages (from ipython>=7.23.1->ipykernel->jupyter==1.0.0->d2l) (0.7.5)\n",
            "Requirement already satisfied: backcall in /usr/local/lib/python3.11/dist-packages (from ipython>=7.23.1->ipykernel->jupyter==1.0.0->d2l) (0.2.0)\n",
            "Requirement already satisfied: pexpect>4.3 in /usr/local/lib/python3.11/dist-packages (from ipython>=7.23.1->ipykernel->jupyter==1.0.0->d2l) (4.9.0)\n",
            "Requirement already satisfied: platformdirs>=2.5 in /usr/local/lib/python3.11/dist-packages (from jupyter-core>=4.7->nbconvert->jupyter==1.0.0->d2l) (4.3.8)\n",
            "Requirement already satisfied: notebook-shim>=0.2.3 in /usr/local/lib/python3.11/dist-packages (from nbclassic>=0.4.7->notebook->jupyter==1.0.0->d2l) (0.2.4)\n",
            "Requirement already satisfied: fastjsonschema>=2.15 in /usr/local/lib/python3.11/dist-packages (from nbformat>=5.7->nbconvert->jupyter==1.0.0->d2l) (2.21.1)\n",
            "Requirement already satisfied: jsonschema>=2.6 in /usr/local/lib/python3.11/dist-packages (from nbformat>=5.7->nbconvert->jupyter==1.0.0->d2l) (4.24.0)\n",
            "Requirement already satisfied: wcwidth in /usr/local/lib/python3.11/dist-packages (from prompt-toolkit!=3.0.0,!=3.0.1,<3.1.0,>=2.0.0->jupyter-console->jupyter==1.0.0->d2l) (0.2.13)\n",
            "Requirement already satisfied: ptyprocess in /usr/local/lib/python3.11/dist-packages (from terminado>=0.8.3->notebook->jupyter==1.0.0->d2l) (0.7.0)\n",
            "Requirement already satisfied: argon2-cffi-bindings in /usr/local/lib/python3.11/dist-packages (from argon2-cffi->notebook->jupyter==1.0.0->d2l) (21.2.0)\n",
            "Requirement already satisfied: soupsieve>1.2 in /usr/local/lib/python3.11/dist-packages (from beautifulsoup4->nbconvert->jupyter==1.0.0->d2l) (2.7)\n",
            "Requirement already satisfied: typing-extensions>=4.0.0 in /usr/local/lib/python3.11/dist-packages (from beautifulsoup4->nbconvert->jupyter==1.0.0->d2l) (4.14.0)\n",
            "Requirement already satisfied: parso<0.9.0,>=0.8.4 in /usr/local/lib/python3.11/dist-packages (from jedi>=0.16->ipython>=7.23.1->ipykernel->jupyter==1.0.0->d2l) (0.8.4)\n",
            "Requirement already satisfied: attrs>=22.2.0 in /usr/local/lib/python3.11/dist-packages (from jsonschema>=2.6->nbformat>=5.7->nbconvert->jupyter==1.0.0->d2l) (25.3.0)\n",
            "Requirement already satisfied: jsonschema-specifications>=2023.03.6 in /usr/local/lib/python3.11/dist-packages (from jsonschema>=2.6->nbformat>=5.7->nbconvert->jupyter==1.0.0->d2l) (2025.4.1)\n",
            "Requirement already satisfied: referencing>=0.28.4 in /usr/local/lib/python3.11/dist-packages (from jsonschema>=2.6->nbformat>=5.7->nbconvert->jupyter==1.0.0->d2l) (0.36.2)\n",
            "Requirement already satisfied: rpds-py>=0.7.1 in /usr/local/lib/python3.11/dist-packages (from jsonschema>=2.6->nbformat>=5.7->nbconvert->jupyter==1.0.0->d2l) (0.25.1)\n",
            "Requirement already satisfied: jupyter-server<3,>=1.8 in /usr/local/lib/python3.11/dist-packages (from notebook-shim>=0.2.3->nbclassic>=0.4.7->notebook->jupyter==1.0.0->d2l) (1.16.0)\n",
            "Requirement already satisfied: cffi>=1.0.1 in /usr/local/lib/python3.11/dist-packages (from argon2-cffi-bindings->argon2-cffi->notebook->jupyter==1.0.0->d2l) (1.17.1)\n",
            "Requirement already satisfied: pycparser in /usr/local/lib/python3.11/dist-packages (from cffi>=1.0.1->argon2-cffi-bindings->argon2-cffi->notebook->jupyter==1.0.0->d2l) (2.22)\n",
            "Requirement already satisfied: anyio>=3.1.0 in /usr/local/lib/python3.11/dist-packages (from jupyter-server<3,>=1.8->notebook-shim>=0.2.3->nbclassic>=0.4.7->notebook->jupyter==1.0.0->d2l) (4.9.0)\n",
            "Requirement already satisfied: websocket-client in /usr/local/lib/python3.11/dist-packages (from jupyter-server<3,>=1.8->notebook-shim>=0.2.3->nbclassic>=0.4.7->notebook->jupyter==1.0.0->d2l) (1.8.0)\n",
            "Requirement already satisfied: sniffio>=1.1 in /usr/local/lib/python3.11/dist-packages (from anyio>=3.1.0->jupyter-server<3,>=1.8->notebook-shim>=0.2.3->nbclassic>=0.4.7->notebook->jupyter==1.0.0->d2l) (1.3.1)\n",
            "Downloading d2l-1.0.3-py3-none-any.whl (111 kB)\n",
            "\u001b[2K   \u001b[90m━━━━━━━━━━━━━━━━━━━━━━━━━━━━━━━━━━━━━━━━\u001b[0m \u001b[32m111.7/111.7 kB\u001b[0m \u001b[31m7.1 MB/s\u001b[0m eta \u001b[36m0:00:00\u001b[0m\n",
            "\u001b[?25hDownloading jupyter-1.0.0-py2.py3-none-any.whl (2.7 kB)\n",
            "Downloading matplotlib-3.7.2-cp311-cp311-manylinux_2_17_x86_64.manylinux2014_x86_64.whl (11.6 MB)\n",
            "\u001b[2K   \u001b[90m━━━━━━━━━━━━━━━━━━━━━━━━━━━━━━━━━━━━━━━━\u001b[0m \u001b[32m11.6/11.6 MB\u001b[0m \u001b[31m87.8 MB/s\u001b[0m eta \u001b[36m0:00:00\u001b[0m\n",
            "\u001b[?25hDownloading matplotlib_inline-0.1.6-py3-none-any.whl (9.4 kB)\n",
            "Downloading numpy-1.23.5-cp311-cp311-manylinux_2_17_x86_64.manylinux2014_x86_64.whl (17.1 MB)\n",
            "\u001b[2K   \u001b[90m━━━━━━━━━━━━━━━━━━━━━━━━━━━━━━━━━━━━━━━━\u001b[0m \u001b[32m17.1/17.1 MB\u001b[0m \u001b[31m82.2 MB/s\u001b[0m eta \u001b[36m0:00:00\u001b[0m\n",
            "\u001b[?25hDownloading pandas-2.0.3-cp311-cp311-manylinux_2_17_x86_64.manylinux2014_x86_64.whl (12.2 MB)\n",
            "\u001b[2K   \u001b[90m━━━━━━━━━━━━━━━━━━━━━━━━━━━━━━━━━━━━━━━━\u001b[0m \u001b[32m12.2/12.2 MB\u001b[0m \u001b[31m106.7 MB/s\u001b[0m eta \u001b[36m0:00:00\u001b[0m\n",
            "\u001b[?25hDownloading requests-2.31.0-py3-none-any.whl (62 kB)\n",
            "\u001b[2K   \u001b[90m━━━━━━━━━━━━━━━━━━━━━━━━━━━━━━━━━━━━━━━━\u001b[0m \u001b[32m62.6/62.6 kB\u001b[0m \u001b[31m4.4 MB/s\u001b[0m eta \u001b[36m0:00:00\u001b[0m\n",
            "\u001b[?25hDownloading scipy-1.10.1-cp311-cp311-manylinux_2_17_x86_64.manylinux2014_x86_64.whl (34.1 MB)\n",
            "\u001b[2K   \u001b[90m━━━━━━━━━━━━━━━━━━━━━━━━━━━━━━━━━━━━━━━━\u001b[0m \u001b[32m34.1/34.1 MB\u001b[0m \u001b[31m23.4 MB/s\u001b[0m eta \u001b[36m0:00:00\u001b[0m\n",
            "\u001b[?25hDownloading pyparsing-3.0.9-py3-none-any.whl (98 kB)\n",
            "\u001b[2K   \u001b[90m━━━━━━━━━━━━━━━━━━━━━━━━━━━━━━━━━━━━━━━━\u001b[0m \u001b[32m98.3/98.3 kB\u001b[0m \u001b[31m6.1 MB/s\u001b[0m eta \u001b[36m0:00:00\u001b[0m\n",
            "\u001b[?25hDownloading qtconsole-5.6.1-py3-none-any.whl (125 kB)\n",
            "\u001b[2K   \u001b[90m━━━━━━━━━━━━━━━━━━━━━━━━━━━━━━━━━━━━━━━━\u001b[0m \u001b[32m125.0/125.0 kB\u001b[0m \u001b[31m9.1 MB/s\u001b[0m eta \u001b[36m0:00:00\u001b[0m\n",
            "\u001b[?25hDownloading QtPy-2.4.3-py3-none-any.whl (95 kB)\n",
            "\u001b[2K   \u001b[90m━━━━━━━━━━━━━━━━━━━━━━━━━━━━━━━━━━━━━━━━\u001b[0m \u001b[32m95.0/95.0 kB\u001b[0m \u001b[31m6.9 MB/s\u001b[0m eta \u001b[36m0:00:00\u001b[0m\n",
            "\u001b[?25hDownloading jedi-0.19.2-py2.py3-none-any.whl (1.6 MB)\n",
            "\u001b[2K   \u001b[90m━━━━━━━━━━━━━━━━━━━━━━━━━━━━━━━━━━━━━━━━\u001b[0m \u001b[32m1.6/1.6 MB\u001b[0m \u001b[31m53.0 MB/s\u001b[0m eta \u001b[36m0:00:00\u001b[0m\n",
            "\u001b[?25hInstalling collected packages: requests, qtpy, pyparsing, numpy, matplotlib-inline, jedi, scipy, pandas, matplotlib, qtconsole, jupyter, d2l\n",
            "  Attempting uninstall: requests\n",
            "    Found existing installation: requests 2.32.3\n",
            "    Uninstalling requests-2.32.3:\n",
            "      Successfully uninstalled requests-2.32.3\n",
            "  Attempting uninstall: pyparsing\n",
            "    Found existing installation: pyparsing 3.2.3\n",
            "    Uninstalling pyparsing-3.2.3:\n",
            "      Successfully uninstalled pyparsing-3.2.3\n",
            "  Attempting uninstall: numpy\n",
            "    Found existing installation: numpy 2.0.2\n",
            "    Uninstalling numpy-2.0.2:\n",
            "      Successfully uninstalled numpy-2.0.2\n",
            "  Attempting uninstall: matplotlib-inline\n",
            "    Found existing installation: matplotlib-inline 0.1.7\n",
            "    Uninstalling matplotlib-inline-0.1.7:\n",
            "      Successfully uninstalled matplotlib-inline-0.1.7\n",
            "  Attempting uninstall: scipy\n",
            "    Found existing installation: scipy 1.15.3\n",
            "    Uninstalling scipy-1.15.3:\n",
            "      Successfully uninstalled scipy-1.15.3\n",
            "  Attempting uninstall: pandas\n",
            "    Found existing installation: pandas 2.2.2\n",
            "    Uninstalling pandas-2.2.2:\n",
            "      Successfully uninstalled pandas-2.2.2\n",
            "  Attempting uninstall: matplotlib\n",
            "    Found existing installation: matplotlib 3.10.0\n",
            "    Uninstalling matplotlib-3.10.0:\n",
            "      Successfully uninstalled matplotlib-3.10.0\n",
            "\u001b[31mERROR: pip's dependency resolver does not currently take into account all the packages that are installed. This behaviour is the source of the following dependency conflicts.\n",
            "google-colab 1.0.0 requires pandas==2.2.2, but you have pandas 2.0.3 which is incompatible.\n",
            "google-colab 1.0.0 requires requests==2.32.3, but you have requests 2.31.0 which is incompatible.\n",
            "albumentations 2.0.8 requires numpy>=1.24.4, but you have numpy 1.23.5 which is incompatible.\n",
            "thinc 8.3.6 requires numpy<3.0.0,>=2.0.0, but you have numpy 1.23.5 which is incompatible.\n",
            "scikit-image 0.25.2 requires numpy>=1.24, but you have numpy 1.23.5 which is incompatible.\n",
            "scikit-image 0.25.2 requires scipy>=1.11.4, but you have scipy 1.10.1 which is incompatible.\n",
            "jaxlib 0.5.1 requires numpy>=1.25, but you have numpy 1.23.5 which is incompatible.\n",
            "jaxlib 0.5.1 requires scipy>=1.11.1, but you have scipy 1.10.1 which is incompatible.\n",
            "albucore 0.0.24 requires numpy>=1.24.4, but you have numpy 1.23.5 which is incompatible.\n",
            "db-dtypes 1.4.3 requires numpy>=1.24.0, but you have numpy 1.23.5 which is incompatible.\n",
            "imbalanced-learn 0.13.0 requires numpy<3,>=1.24.3, but you have numpy 1.23.5 which is incompatible.\n",
            "tensorflow 2.18.0 requires numpy<2.1.0,>=1.26.0, but you have numpy 1.23.5 which is incompatible.\n",
            "plotnine 0.14.5 requires matplotlib>=3.8.0, but you have matplotlib 3.7.2 which is incompatible.\n",
            "plotnine 0.14.5 requires pandas>=2.2.0, but you have pandas 2.0.3 which is incompatible.\n",
            "cvxpy 1.6.5 requires scipy>=1.11.0, but you have scipy 1.10.1 which is incompatible.\n",
            "treescope 0.1.9 requires numpy>=1.25.2, but you have numpy 1.23.5 which is incompatible.\n",
            "xarray 2025.3.1 requires numpy>=1.24, but you have numpy 1.23.5 which is incompatible.\n",
            "xarray 2025.3.1 requires pandas>=2.1, but you have pandas 2.0.3 which is incompatible.\n",
            "bigframes 2.5.0 requires numpy>=1.24.0, but you have numpy 1.23.5 which is incompatible.\n",
            "blosc2 3.3.4 requires numpy>=1.26, but you have numpy 1.23.5 which is incompatible.\n",
            "tsfresh 0.21.0 requires scipy>=1.14.0; python_version >= \"3.10\", but you have scipy 1.10.1 which is incompatible.\n",
            "mizani 0.13.5 requires pandas>=2.2.0, but you have pandas 2.0.3 which is incompatible.\n",
            "xarray-einstats 0.9.0 requires numpy>=1.25, but you have numpy 1.23.5 which is incompatible.\n",
            "xarray-einstats 0.9.0 requires scipy>=1.11, but you have scipy 1.10.1 which is incompatible.\n",
            "pymc 5.23.0 requires numpy>=1.25.0, but you have numpy 1.23.5 which is incompatible.\n",
            "chex 0.1.89 requires numpy>=1.24.1, but you have numpy 1.23.5 which is incompatible.\n",
            "jax 0.5.2 requires numpy>=1.25, but you have numpy 1.23.5 which is incompatible.\n",
            "jax 0.5.2 requires scipy>=1.11.1, but you have scipy 1.10.1 which is incompatible.\u001b[0m\u001b[31m\n",
            "\u001b[0mSuccessfully installed d2l-1.0.3 jedi-0.19.2 jupyter-1.0.0 matplotlib-3.7.2 matplotlib-inline-0.1.6 numpy-1.23.5 pandas-2.0.3 pyparsing-3.0.9 qtconsole-5.6.1 qtpy-2.4.3 requests-2.31.0 scipy-1.10.1\n"
          ]
        },
        {
          "output_type": "display_data",
          "data": {
            "application/vnd.colab-display-data+json": {
              "pip_warning": {
                "packages": [
                  "matplotlib",
                  "matplotlib_inline",
                  "mpl_toolkits",
                  "numpy",
                  "pyparsing"
                ]
              },
              "id": "fbf676151d7d4b1a8bd7962fa9a9ce9c"
            }
          },
          "metadata": {}
        }
      ],
      "source": [
        "!pip install d2l\n"
      ]
    },
    {
      "cell_type": "markdown",
      "id": "92354008",
      "metadata": {
        "origin_pos": 0,
        "id": "92354008"
      },
      "source": [
        "# softmax回归的从零开始实现\n",
        ":label:`sec_softmax_scratch`\n",
        "\n",
        "(**就像我们从零开始实现线性回归一样，**)\n",
        "我们认为softmax回归也是重要的基础，因此(**应该知道实现softmax回归的细节**)。\n",
        "本节我们将使用刚刚在 :numref:`sec_fashion_mnist`中引入的Fashion-MNIST数据集，\n",
        "并设置数据迭代器的批量大小为256。\n"
      ]
    },
    {
      "cell_type": "code",
      "execution_count": 1,
      "id": "d5454103",
      "metadata": {
        "execution": {
          "iopub.execute_input": "2023-08-18T07:05:34.568185Z",
          "iopub.status.busy": "2023-08-18T07:05:34.567550Z",
          "iopub.status.idle": "2023-08-18T07:05:36.481085Z",
          "shell.execute_reply": "2023-08-18T07:05:36.480189Z"
        },
        "origin_pos": 2,
        "tab": [
          "pytorch"
        ],
        "id": "d5454103"
      },
      "outputs": [],
      "source": [
        "import torch\n",
        "from IPython import display\n",
        "from d2l import torch as d2l"
      ]
    },
    {
      "cell_type": "code",
      "execution_count": 3,
      "id": "b8bd138c",
      "metadata": {
        "execution": {
          "iopub.execute_input": "2023-08-18T07:05:36.486713Z",
          "iopub.status.busy": "2023-08-18T07:05:36.486051Z",
          "iopub.status.idle": "2023-08-18T07:05:36.589161Z",
          "shell.execute_reply": "2023-08-18T07:05:36.588107Z"
        },
        "origin_pos": 5,
        "tab": [
          "pytorch"
        ],
        "colab": {
          "base_uri": "https://localhost:8080/"
        },
        "id": "b8bd138c",
        "outputId": "15419104-b2ca-4f1e-fd07-ef38bf34e901"
      },
      "outputs": [
        {
          "output_type": "stream",
          "name": "stderr",
          "text": [
            "100%|██████████| 26.4M/26.4M [00:00<00:00, 116MB/s]\n",
            "100%|██████████| 29.5k/29.5k [00:00<00:00, 3.80MB/s]\n",
            "100%|██████████| 4.42M/4.42M [00:00<00:00, 55.9MB/s]\n",
            "100%|██████████| 5.15k/5.15k [00:00<00:00, 7.54MB/s]\n",
            "/usr/local/lib/python3.11/dist-packages/torch/utils/data/dataloader.py:624: UserWarning: This DataLoader will create 4 worker processes in total. Our suggested max number of worker in current system is 2, which is smaller than what this DataLoader is going to create. Please be aware that excessive worker creation might get DataLoader running slow or even freeze, lower the worker number to avoid potential slowness/freeze if necessary.\n",
            "  warnings.warn(\n"
          ]
        }
      ],
      "source": [
        "batch_size = 256\n",
        "train_iter, test_iter = d2l.load_data_fashion_mnist(batch_size)"
      ]
    },
    {
      "cell_type": "markdown",
      "id": "0c00d722",
      "metadata": {
        "origin_pos": 6,
        "id": "0c00d722"
      },
      "source": [
        "## 初始化模型参数\n",
        "\n",
        "和之前线性回归的例子一样，这里的每个样本都将用固定长度的向量表示。\n",
        "原始数据集中的每个样本都是$28 \\times 28$的图像。\n",
        "本节[**将展平每个图像，把它们看作长度为784的向量。**]\n",
        "在后面的章节中，我们将讨论能够利用图像空间结构的特征，\n",
        "但现在我们暂时只把每个像素位置看作一个特征。\n",
        "\n",
        "回想一下，在softmax回归中，我们的输出与类别一样多。\n",
        "(**因为我们的数据集有10个类别，所以网络输出维度为10**)。\n",
        "因此，权重将构成一个$784 \\times 10$的矩阵，\n",
        "偏置将构成一个$1 \\times 10$的行向量。\n",
        "与线性回归一样，我们将使用正态分布初始化我们的权重`W`，偏置初始化为0。\n"
      ]
    },
    {
      "cell_type": "code",
      "execution_count": 2,
      "id": "4016fe6d",
      "metadata": {
        "execution": {
          "iopub.execute_input": "2023-08-18T07:05:36.594606Z",
          "iopub.status.busy": "2023-08-18T07:05:36.594134Z",
          "iopub.status.idle": "2023-08-18T07:05:36.599637Z",
          "shell.execute_reply": "2023-08-18T07:05:36.598552Z"
        },
        "origin_pos": 8,
        "tab": [
          "pytorch"
        ],
        "colab": {
          "base_uri": "https://localhost:8080/"
        },
        "id": "4016fe6d",
        "outputId": "6b01e776-d8cf-4996-bfa9-540be6de7d63"
      },
      "outputs": [
        {
          "output_type": "stream",
          "name": "stdout",
          "text": [
            "tensor([[-1.8548e-02, -1.5296e-02,  3.0622e-03,  ...,  1.3101e-02,\n",
            "          1.9366e-02, -9.4241e-04],\n",
            "        [-8.7422e-04, -3.4227e-03,  4.9556e-03,  ...,  1.7959e-02,\n",
            "         -1.0069e-02, -6.0650e-03],\n",
            "        [ 9.0263e-03, -6.7122e-03,  2.1739e-02,  ...,  4.3538e-04,\n",
            "          2.3797e-03,  6.5532e-04],\n",
            "        ...,\n",
            "        [-1.1739e-03,  1.2919e-02, -3.0020e-04,  ...,  6.0635e-03,\n",
            "          5.7862e-03, -1.7289e-02],\n",
            "        [-2.9302e-05, -8.1529e-03, -6.9191e-03,  ..., -9.4718e-03,\n",
            "          3.4730e-03, -1.5696e-02],\n",
            "        [-5.1165e-03, -1.9081e-03,  3.7185e-03,  ...,  1.9913e-03,\n",
            "         -5.2478e-03,  1.0451e-02]], requires_grad=True)\n",
            "tensor([0., 0., 0., 0., 0., 0., 0., 0., 0., 0.], requires_grad=True)\n"
          ]
        }
      ],
      "source": [
        "num_inputs = 784\n",
        "num_outputs = 10\n",
        "\n",
        "W = torch.normal(0, 0.01, size=(num_inputs, num_outputs), requires_grad=True)\n",
        "print(W)\n",
        "b = torch.zeros(num_outputs, requires_grad=True)\n",
        "print(b)"
      ]
    },
    {
      "cell_type": "markdown",
      "id": "bcc89948",
      "metadata": {
        "origin_pos": 11,
        "id": "bcc89948"
      },
      "source": [
        "## 定义softmax操作\n",
        "\n",
        "在实现softmax回归模型之前，我们简要回顾一下`sum`运算符如何沿着张量中的特定维度工作。\n",
        "如 :numref:`subseq_lin-alg-reduction`和\n",
        " :numref:`subseq_lin-alg-non-reduction`所述，\n",
        " [**给定一个矩阵`X`，我们可以对所有元素求和**]（默认情况下）。\n",
        " 也可以只求同一个轴上的元素，即同一列（轴0）或同一行（轴1）。\n",
        " 如果`X`是一个形状为`(2, 3)`的张量，我们对列进行求和，\n",
        " 则结果将是一个具有形状`(3,)`的向量。\n",
        " 当调用`sum`运算符时，我们可以指定保持在原始张量的轴数，而不折叠求和的维度。\n",
        " 这将产生一个具有形状`(1, 3)`的二维张量。\n"
      ]
    },
    {
      "cell_type": "code",
      "execution_count": 20,
      "id": "c0df140e",
      "metadata": {
        "execution": {
          "iopub.execute_input": "2023-08-18T07:05:36.604982Z",
          "iopub.status.busy": "2023-08-18T07:05:36.604096Z",
          "iopub.status.idle": "2023-08-18T07:05:36.615513Z",
          "shell.execute_reply": "2023-08-18T07:05:36.614620Z"
        },
        "origin_pos": 12,
        "tab": [
          "pytorch"
        ],
        "colab": {
          "base_uri": "https://localhost:8080/"
        },
        "id": "c0df140e",
        "outputId": "9c3a9653-6bec-4239-8c89-af60a946e3a0"
      },
      "outputs": [
        {
          "output_type": "stream",
          "name": "stdout",
          "text": [
            "tensor([[1., 2., 3.],\n",
            "        [4., 5., 6.]])\n",
            "tensor([[ 6.],\n",
            "        [15.]])\n",
            "tensor([[0.1667, 0.3333, 0.5000],\n",
            "        [0.2667, 0.3333, 0.4000]])\n"
          ]
        }
      ],
      "source": [
        "X = torch.tensor([[1.0, 2.0, 3.0], [4.0, 5.0, 6.0]])\n",
        "#X.sum(0, keepdim=True),X.sum(0, keepdim=True).shape, X.sum(1, keepdim=True), X.shape\n",
        "\n",
        "print(X)\n",
        "\n",
        "a = X.sum(1, keepdim=True)\n",
        "print(a)\n",
        "b = X/a\n",
        "print(b)"
      ]
    },
    {
      "cell_type": "markdown",
      "id": "3b78565c",
      "metadata": {
        "origin_pos": 14,
        "id": "3b78565c"
      },
      "source": [
        "回想一下，[**实现softmax**]由三个步骤组成：\n",
        "\n",
        "1. 对每个项求幂（使用`exp`）；\n",
        "1. 对每一行求和（小批量中每个样本是一行），得到每个样本的规范化常数；\n",
        "1. 将每一行除以其规范化常数，确保结果的和为1。\n",
        "\n",
        "在查看代码之前，我们回顾一下这个表达式：\n",
        "\n",
        "(**\n",
        "$$\n",
        "\\mathrm{softmax}(\\mathbf{X})_{ij} = \\frac{\\exp(\\mathbf{X}_{ij})}{\\sum_k \\exp(\\mathbf{X}_{ik})}.\n",
        "$$\n",
        "**)\n",
        "\n",
        "分母或规范化常数，有时也称为*配分函数*（其对数称为对数-配分函数）。\n",
        "该名称来自[统计物理学](https://en.wikipedia.org/wiki/Partition_function_(statistical_mechanics))中一个模拟粒子群分布的方程。\n"
      ]
    },
    {
      "cell_type": "code",
      "execution_count": 4,
      "id": "4c0be245",
      "metadata": {
        "execution": {
          "iopub.execute_input": "2023-08-18T07:05:36.620749Z",
          "iopub.status.busy": "2023-08-18T07:05:36.620003Z",
          "iopub.status.idle": "2023-08-18T07:05:36.624603Z",
          "shell.execute_reply": "2023-08-18T07:05:36.623701Z"
        },
        "origin_pos": 16,
        "tab": [
          "pytorch"
        ],
        "id": "4c0be245"
      },
      "outputs": [],
      "source": [
        "def softmax(X):\n",
        "    X_exp = torch.exp(X)\n",
        "    partition = X_exp.sum(1, keepdim=True)\n",
        "    return X_exp / partition  # 这里应用了广播机制"
      ]
    },
    {
      "cell_type": "markdown",
      "id": "b641b9eb",
      "metadata": {
        "origin_pos": 17,
        "id": "b641b9eb"
      },
      "source": [
        "正如上述代码，对于任何随机输入，[**我们将每个元素变成一个非负数。\n",
        "此外，依据概率原理，每行总和为1**]。\n"
      ]
    },
    {
      "cell_type": "code",
      "execution_count": 5,
      "id": "a357bb20",
      "metadata": {
        "execution": {
          "iopub.execute_input": "2023-08-18T07:05:36.629240Z",
          "iopub.status.busy": "2023-08-18T07:05:36.628878Z",
          "iopub.status.idle": "2023-08-18T07:05:36.640613Z",
          "shell.execute_reply": "2023-08-18T07:05:36.639677Z"
        },
        "origin_pos": 18,
        "tab": [
          "pytorch"
        ],
        "colab": {
          "base_uri": "https://localhost:8080/"
        },
        "id": "a357bb20",
        "outputId": "39e9eeed-c851-426c-9e26-e466ffb22ef2"
      },
      "outputs": [
        {
          "output_type": "execute_result",
          "data": {
            "text/plain": [
              "(tensor([[0.3648, 0.0726, 0.1057, 0.0956, 0.3613],\n",
              "         [0.1308, 0.2142, 0.1822, 0.3956, 0.0772]]),\n",
              " tensor([1., 1.]))"
            ]
          },
          "metadata": {},
          "execution_count": 5
        }
      ],
      "source": [
        "X = torch.normal(0, 1, (2, 5))\n",
        "X_prob = softmax(X)\n",
        "X_prob, X_prob.sum(1)"
      ]
    },
    {
      "cell_type": "markdown",
      "id": "b5943861",
      "metadata": {
        "origin_pos": 20,
        "id": "b5943861"
      },
      "source": [
        "注意，虽然这在数学上看起来是正确的，但我们在代码实现中有点草率。\n",
        "矩阵中的非常大或非常小的元素可能造成数值上溢或下溢，但我们没有采取措施来防止这点。\n",
        "\n",
        "## 定义模型\n",
        "\n",
        "定义softmax操作后，我们可以[**实现softmax回归模型**]。\n",
        "下面的代码定义了输入如何通过网络映射到输出。\n",
        "注意，将数据传递到模型之前，我们使用`reshape`函数将每张原始图像展平为向量。\n"
      ]
    },
    {
      "cell_type": "code",
      "execution_count": 6,
      "id": "098246b8",
      "metadata": {
        "execution": {
          "iopub.execute_input": "2023-08-18T07:05:36.644224Z",
          "iopub.status.busy": "2023-08-18T07:05:36.643949Z",
          "iopub.status.idle": "2023-08-18T07:05:36.648644Z",
          "shell.execute_reply": "2023-08-18T07:05:36.647745Z"
        },
        "origin_pos": 21,
        "tab": [
          "pytorch"
        ],
        "id": "098246b8"
      },
      "outputs": [],
      "source": [
        "def net(X):\n",
        "    return softmax(torch.matmul(X.reshape((-1, W.shape[0])), W) + b)"
      ]
    },
    {
      "cell_type": "markdown",
      "id": "e46f8133",
      "metadata": {
        "origin_pos": 22,
        "id": "e46f8133"
      },
      "source": [
        "## 定义损失函数\n",
        "\n",
        "接下来，我们实现 :numref:`sec_softmax`中引入的交叉熵损失函数。\n",
        "这可能是深度学习中最常见的损失函数，因为目前分类问题的数量远远超过回归问题的数量。\n",
        "\n",
        "回顾一下，交叉熵采用真实标签的预测概率的负对数似然。\n",
        "这里我们不使用Python的for循环迭代预测（这往往是低效的），\n",
        "而是通过一个运算符选择所有元素。\n",
        "下面，我们[**创建一个数据样本`y_hat`，其中包含2个样本在3个类别的预测概率，\n",
        "以及它们对应的标签`y`。**]\n",
        "有了`y`，我们知道在第一个样本中，第一类是正确的预测；\n",
        "而在第二个样本中，第三类是正确的预测。\n",
        "然后(**使用`y`作为`y_hat`中概率的索引**)，\n",
        "我们选择第一个样本中第一个类的概率和第二个样本中第三个类的概率。\n"
      ]
    },
    {
      "cell_type": "code",
      "execution_count": 7,
      "id": "d7196ba4",
      "metadata": {
        "execution": {
          "iopub.execute_input": "2023-08-18T07:05:36.652705Z",
          "iopub.status.busy": "2023-08-18T07:05:36.652434Z",
          "iopub.status.idle": "2023-08-18T07:05:36.660790Z",
          "shell.execute_reply": "2023-08-18T07:05:36.659617Z"
        },
        "origin_pos": 23,
        "tab": [
          "pytorch"
        ],
        "colab": {
          "base_uri": "https://localhost:8080/"
        },
        "id": "d7196ba4",
        "outputId": "2afe04d9-637d-486d-d968-cc89724c182a"
      },
      "outputs": [
        {
          "output_type": "execute_result",
          "data": {
            "text/plain": [
              "tensor([0.1000, 0.5000])"
            ]
          },
          "metadata": {},
          "execution_count": 7
        }
      ],
      "source": [
        "y = torch.tensor([0, 2])\n",
        "y_hat = torch.tensor([[0.1, 0.3, 0.6], [0.3, 0.2, 0.5]])\n",
        "y_hat[[0, 1], y]"
      ]
    },
    {
      "cell_type": "markdown",
      "id": "f60bb6e4",
      "metadata": {
        "origin_pos": 25,
        "id": "f60bb6e4"
      },
      "source": [
        "现在我们只需一行代码就可以[**实现交叉熵损失函数**]。\n"
      ]
    },
    {
      "cell_type": "code",
      "execution_count": 8,
      "id": "8a2ec204",
      "metadata": {
        "execution": {
          "iopub.execute_input": "2023-08-18T07:05:36.665898Z",
          "iopub.status.busy": "2023-08-18T07:05:36.665109Z",
          "iopub.status.idle": "2023-08-18T07:05:36.672113Z",
          "shell.execute_reply": "2023-08-18T07:05:36.671215Z"
        },
        "origin_pos": 26,
        "tab": [
          "pytorch"
        ],
        "colab": {
          "base_uri": "https://localhost:8080/"
        },
        "id": "8a2ec204",
        "outputId": "341b376f-4a38-4a44-8128-9c1feab7c538"
      },
      "outputs": [
        {
          "output_type": "execute_result",
          "data": {
            "text/plain": [
              "tensor([2.3026, 0.6931])"
            ]
          },
          "metadata": {},
          "execution_count": 8
        }
      ],
      "source": [
        "def cross_entropy(y_hat, y):\n",
        "    return - torch.log(y_hat[range(len(y_hat)), y])\n",
        "\n",
        "cross_entropy(y_hat, y)"
      ]
    },
    {
      "cell_type": "markdown",
      "id": "889a4000",
      "metadata": {
        "origin_pos": 29,
        "id": "889a4000"
      },
      "source": [
        "## 分类精度\n",
        "\n",
        "给定预测概率分布`y_hat`，当我们必须输出硬预测（hard prediction）时，\n",
        "我们通常选择预测概率最高的类。\n",
        "许多应用都要求我们做出选择。如Gmail必须将电子邮件分类为“Primary（主要邮件）”、\n",
        "“Social（社交邮件）”“Updates（更新邮件）”或“Forums（论坛邮件）”。\n",
        "Gmail做分类时可能在内部估计概率，但最终它必须在类中选择一个。\n",
        "\n",
        "当预测与标签分类`y`一致时，即是正确的。\n",
        "分类精度即正确预测数量与总预测数量之比。\n",
        "虽然直接优化精度可能很困难（因为精度的计算不可导），\n",
        "但精度通常是我们最关心的性能衡量标准，我们在训练分类器时几乎总会关注它。\n",
        "\n",
        "为了计算精度，我们执行以下操作。\n",
        "首先，如果`y_hat`是矩阵，那么假定第二个维度存储每个类的预测分数。\n",
        "我们使用`argmax`获得每行中最大元素的索引来获得预测类别。\n",
        "然后我们[**将预测类别与真实`y`元素进行比较**]。\n",
        "由于等式运算符“`==`”对数据类型很敏感，\n",
        "因此我们将`y_hat`的数据类型转换为与`y`的数据类型一致。\n",
        "结果是一个包含0（错）和1（对）的张量。\n",
        "最后，我们求和会得到正确预测的数量。\n"
      ]
    },
    {
      "cell_type": "code",
      "execution_count": 9,
      "id": "2038b97d",
      "metadata": {
        "execution": {
          "iopub.execute_input": "2023-08-18T07:05:36.676633Z",
          "iopub.status.busy": "2023-08-18T07:05:36.676080Z",
          "iopub.status.idle": "2023-08-18T07:05:36.681962Z",
          "shell.execute_reply": "2023-08-18T07:05:36.680997Z"
        },
        "origin_pos": 30,
        "tab": [
          "pytorch"
        ],
        "id": "2038b97d"
      },
      "outputs": [],
      "source": [
        "def accuracy(y_hat, y):\n",
        "    \"\"\"计算预测正确的数量\"\"\"\n",
        "    if len(y_hat.shape) > 1 and y_hat.shape[1] > 1:\n",
        "        y_hat = y_hat.argmax(axis=1)\n",
        "    cmp = y_hat.type(y.dtype) == y\n",
        "    return float(cmp.type(y.dtype).sum())"
      ]
    },
    {
      "cell_type": "markdown",
      "id": "51a65a85",
      "metadata": {
        "origin_pos": 32,
        "id": "51a65a85"
      },
      "source": [
        "我们将继续使用之前定义的变量`y_hat`和`y`分别作为预测的概率分布和标签。\n",
        "可以看到，第一个样本的预测类别是2（该行的最大元素为0.6，索引为2），这与实际标签0不一致。\n",
        "第二个样本的预测类别是2（该行的最大元素为0.5，索引为2），这与实际标签2一致。\n",
        "因此，这两个样本的分类精度率为0.5。\n"
      ]
    },
    {
      "cell_type": "code",
      "execution_count": 10,
      "id": "6337adf4",
      "metadata": {
        "execution": {
          "iopub.execute_input": "2023-08-18T07:05:36.686076Z",
          "iopub.status.busy": "2023-08-18T07:05:36.685804Z",
          "iopub.status.idle": "2023-08-18T07:05:36.692192Z",
          "shell.execute_reply": "2023-08-18T07:05:36.691298Z"
        },
        "origin_pos": 33,
        "tab": [
          "pytorch"
        ],
        "colab": {
          "base_uri": "https://localhost:8080/"
        },
        "id": "6337adf4",
        "outputId": "a9a5b14e-62d5-49e5-bf31-eb82b301c0c6"
      },
      "outputs": [
        {
          "output_type": "execute_result",
          "data": {
            "text/plain": [
              "0.5"
            ]
          },
          "metadata": {},
          "execution_count": 10
        }
      ],
      "source": [
        "accuracy(y_hat, y) / len(y)"
      ]
    },
    {
      "cell_type": "markdown",
      "id": "f553b37b",
      "metadata": {
        "origin_pos": 34,
        "id": "f553b37b"
      },
      "source": [
        "同样，对于任意数据迭代器`data_iter`可访问的数据集，\n",
        "[**我们可以评估在任意模型`net`的精度**]。\n"
      ]
    },
    {
      "cell_type": "code",
      "execution_count": 11,
      "id": "41ea8ca1",
      "metadata": {
        "execution": {
          "iopub.execute_input": "2023-08-18T07:05:36.696515Z",
          "iopub.status.busy": "2023-08-18T07:05:36.696074Z",
          "iopub.status.idle": "2023-08-18T07:05:36.702503Z",
          "shell.execute_reply": "2023-08-18T07:05:36.701545Z"
        },
        "origin_pos": 36,
        "tab": [
          "pytorch"
        ],
        "id": "41ea8ca1"
      },
      "outputs": [],
      "source": [
        "def evaluate_accuracy(net, data_iter):\n",
        "    \"\"\"计算在指定数据集上模型的精度\"\"\"\n",
        "    if isinstance(net, torch.nn.Module):\n",
        "        net.eval()  # 将模型设置为评估模式\n",
        "    metric = Accumulator(2)  # 正确预测数、预测总数\n",
        "    with torch.no_grad():\n",
        "        for X, y in data_iter:\n",
        "            metric.add(accuracy(net(X), y), y.numel())\n",
        "    return metric[0] / metric[1]"
      ]
    },
    {
      "cell_type": "markdown",
      "id": "eb10ad98",
      "metadata": {
        "origin_pos": 38,
        "id": "eb10ad98"
      },
      "source": [
        "这里定义一个实用程序类`Accumulator`，用于对多个变量进行累加。\n",
        "在上面的`evaluate_accuracy`函数中，\n",
        "我们在(**`Accumulator`实例中创建了2个变量，\n",
        "分别用于存储正确预测的数量和预测的总数量**)。\n",
        "当我们遍历数据集时，两者都将随着时间的推移而累加。\n"
      ]
    },
    {
      "cell_type": "code",
      "execution_count": 12,
      "id": "381e6f11",
      "metadata": {
        "execution": {
          "iopub.execute_input": "2023-08-18T07:05:36.707084Z",
          "iopub.status.busy": "2023-08-18T07:05:36.706353Z",
          "iopub.status.idle": "2023-08-18T07:05:36.712280Z",
          "shell.execute_reply": "2023-08-18T07:05:36.711359Z"
        },
        "origin_pos": 39,
        "tab": [
          "pytorch"
        ],
        "id": "381e6f11"
      },
      "outputs": [],
      "source": [
        "class Accumulator:\n",
        "    \"\"\"在n个变量上累加\"\"\"\n",
        "    def __init__(self, n):\n",
        "        self.data = [0.0] * n\n",
        "\n",
        "    def add(self, *args):\n",
        "        self.data = [a + float(b) for a, b in zip(self.data, args)]\n",
        "\n",
        "    def reset(self):\n",
        "        self.data = [0.0] * len(self.data)\n",
        "\n",
        "    def __getitem__(self, idx):\n",
        "        return self.data[idx]"
      ]
    },
    {
      "cell_type": "markdown",
      "id": "cd7411c0",
      "metadata": {
        "origin_pos": 40,
        "id": "cd7411c0"
      },
      "source": [
        "由于我们使用随机权重初始化`net`模型，\n",
        "因此该模型的精度应接近于随机猜测。\n",
        "例如在有10个类别情况下的精度为0.1。\n"
      ]
    },
    {
      "cell_type": "code",
      "execution_count": 13,
      "id": "77706f95",
      "metadata": {
        "execution": {
          "iopub.execute_input": "2023-08-18T07:05:36.716926Z",
          "iopub.status.busy": "2023-08-18T07:05:36.716179Z",
          "iopub.status.idle": "2023-08-18T07:05:37.338754Z",
          "shell.execute_reply": "2023-08-18T07:05:37.337496Z"
        },
        "origin_pos": 41,
        "tab": [
          "pytorch"
        ],
        "colab": {
          "base_uri": "https://localhost:8080/"
        },
        "id": "77706f95",
        "outputId": "af7e3cab-7af3-489f-9c08-3c8ce6d41af7"
      },
      "outputs": [
        {
          "output_type": "execute_result",
          "data": {
            "text/plain": [
              "0.0524"
            ]
          },
          "metadata": {},
          "execution_count": 13
        }
      ],
      "source": [
        "evaluate_accuracy(net, test_iter)"
      ]
    },
    {
      "cell_type": "markdown",
      "id": "7eba262d",
      "metadata": {
        "origin_pos": 42,
        "id": "7eba262d"
      },
      "source": [
        "## 训练\n",
        "\n",
        "在我们看过 :numref:`sec_linear_scratch`中的线性回归实现，\n",
        "[**softmax回归的训练**]过程代码应该看起来非常眼熟。\n",
        "在这里，我们重构训练过程的实现以使其可重复使用。\n",
        "首先，我们定义一个函数来训练一个迭代周期。\n",
        "请注意，`updater`是更新模型参数的常用函数，它接受批量大小作为参数。\n",
        "它可以是`d2l.sgd`函数，也可以是框架的内置优化函数。\n"
      ]
    },
    {
      "cell_type": "code",
      "execution_count": 14,
      "id": "a2e8f2ba",
      "metadata": {
        "execution": {
          "iopub.execute_input": "2023-08-18T07:05:37.344329Z",
          "iopub.status.busy": "2023-08-18T07:05:37.343921Z",
          "iopub.status.idle": "2023-08-18T07:05:37.354464Z",
          "shell.execute_reply": "2023-08-18T07:05:37.353391Z"
        },
        "origin_pos": 44,
        "tab": [
          "pytorch"
        ],
        "id": "a2e8f2ba"
      },
      "outputs": [],
      "source": [
        "def train_epoch_ch3(net, train_iter, loss, updater):\n",
        "    \"\"\"训练模型一个迭代周期（定义见第3章）\"\"\"\n",
        "    # 将模型设置为训练模式\n",
        "    if isinstance(net, torch.nn.Module):\n",
        "        net.train()\n",
        "    # 训练损失总和、训练准确度总和、样本数\n",
        "    metric = Accumulator(3)\n",
        "    for X, y in train_iter:\n",
        "        # 计算梯度并更新参数\n",
        "        y_hat = net(X)\n",
        "        l = loss(y_hat, y)\n",
        "        if isinstance(updater, torch.optim.Optimizer):\n",
        "            # 使用PyTorch内置的优化器和损失函数\n",
        "            updater.zero_grad()\n",
        "            l.mean().backward()\n",
        "            updater.step()\n",
        "        else:\n",
        "            # 使用定制的优化器和损失函数\n",
        "            l.sum().backward()\n",
        "            updater(X.shape[0])\n",
        "        metric.add(float(l.sum()), accuracy(y_hat, y), y.numel())\n",
        "    # 返回训练损失和训练精度\n",
        "    return metric[0] / metric[2], metric[1] / metric[2]"
      ]
    },
    {
      "cell_type": "markdown",
      "id": "041a8166",
      "metadata": {
        "origin_pos": 47,
        "id": "041a8166"
      },
      "source": [
        "在展示训练函数的实现之前，我们[**定义一个在动画中绘制数据的实用程序类**]`Animator`，\n",
        "它能够简化本书其余部分的代码。\n"
      ]
    },
    {
      "cell_type": "code",
      "execution_count": 15,
      "id": "9d3bab29",
      "metadata": {
        "execution": {
          "iopub.execute_input": "2023-08-18T07:05:37.360211Z",
          "iopub.status.busy": "2023-08-18T07:05:37.359378Z",
          "iopub.status.idle": "2023-08-18T07:05:37.375759Z",
          "shell.execute_reply": "2023-08-18T07:05:37.374685Z"
        },
        "origin_pos": 48,
        "tab": [
          "pytorch"
        ],
        "id": "9d3bab29"
      },
      "outputs": [],
      "source": [
        "class Animator:\n",
        "    \"\"\"在动画中绘制数据\"\"\"\n",
        "    def __init__(self, xlabel=None, ylabel=None, legend=None, xlim=None,\n",
        "                 ylim=None, xscale='linear', yscale='linear',\n",
        "                 fmts=('-', 'm--', 'g-.', 'r:'), nrows=1, ncols=1,\n",
        "                 figsize=(3.5, 2.5)):\n",
        "        # 增量地绘制多条线\n",
        "        if legend is None:\n",
        "            legend = []\n",
        "        d2l.use_svg_display()\n",
        "        self.fig, self.axes = d2l.plt.subplots(nrows, ncols, figsize=figsize)\n",
        "        if nrows * ncols == 1:\n",
        "            self.axes = [self.axes, ]\n",
        "        # 使用lambda函数捕获参数\n",
        "        self.config_axes = lambda: d2l.set_axes(\n",
        "            self.axes[0], xlabel, ylabel, xlim, ylim, xscale, yscale, legend)\n",
        "        self.X, self.Y, self.fmts = None, None, fmts\n",
        "\n",
        "    def add(self, x, y):\n",
        "        # 向图表中添加多个数据点\n",
        "        if not hasattr(y, \"__len__\"):\n",
        "            y = [y]\n",
        "        n = len(y)\n",
        "        if not hasattr(x, \"__len__\"):\n",
        "            x = [x] * n\n",
        "        if not self.X:\n",
        "            self.X = [[] for _ in range(n)]\n",
        "        if not self.Y:\n",
        "            self.Y = [[] for _ in range(n)]\n",
        "        for i, (a, b) in enumerate(zip(x, y)):\n",
        "            if a is not None and b is not None:\n",
        "                self.X[i].append(a)\n",
        "                self.Y[i].append(b)\n",
        "        self.axes[0].cla()\n",
        "        for x, y, fmt in zip(self.X, self.Y, self.fmts):\n",
        "            self.axes[0].plot(x, y, fmt)\n",
        "        self.config_axes()\n",
        "        display.display(self.fig)\n",
        "        display.clear_output(wait=True)"
      ]
    },
    {
      "cell_type": "markdown",
      "id": "7c09ec7c",
      "metadata": {
        "origin_pos": 49,
        "id": "7c09ec7c"
      },
      "source": [
        "接下来我们实现一个[**训练函数**]，\n",
        "它会在`train_iter`访问到的训练数据集上训练一个模型`net`。\n",
        "该训练函数将会运行多个迭代周期（由`num_epochs`指定）。\n",
        "在每个迭代周期结束时，利用`test_iter`访问到的测试数据集对模型进行评估。\n",
        "我们将利用`Animator`类来可视化训练进度。\n"
      ]
    },
    {
      "cell_type": "code",
      "execution_count": 16,
      "id": "7ff0a317",
      "metadata": {
        "execution": {
          "iopub.execute_input": "2023-08-18T07:05:37.381304Z",
          "iopub.status.busy": "2023-08-18T07:05:37.380550Z",
          "iopub.status.idle": "2023-08-18T07:05:37.389072Z",
          "shell.execute_reply": "2023-08-18T07:05:37.387971Z"
        },
        "origin_pos": 50,
        "tab": [
          "pytorch"
        ],
        "id": "7ff0a317"
      },
      "outputs": [],
      "source": [
        "def train_ch3(net, train_iter, test_iter, loss, num_epochs, updater):\n",
        "    \"\"\"训练模型（定义见第3章）\"\"\"\n",
        "    animator = Animator(xlabel='epoch', xlim=[1, num_epochs], ylim=[0.3, 0.9],\n",
        "                        legend=['train loss', 'train acc', 'test acc'])\n",
        "    for epoch in range(num_epochs):\n",
        "        train_metrics = train_epoch_ch3(net, train_iter, loss, updater)\n",
        "        test_acc = evaluate_accuracy(net, test_iter)\n",
        "        animator.add(epoch + 1, train_metrics + (test_acc,))\n",
        "    train_loss, train_acc = train_metrics\n",
        "    assert train_loss < 0.5, train_loss\n",
        "    assert train_acc <= 1 and train_acc > 0.7, train_acc\n",
        "    assert test_acc <= 1 and test_acc > 0.7, test_acc"
      ]
    },
    {
      "cell_type": "markdown",
      "id": "a5add373",
      "metadata": {
        "origin_pos": 51,
        "id": "a5add373"
      },
      "source": [
        "作为一个从零开始的实现，我们使用 :numref:`sec_linear_scratch`中定义的\n",
        "[**小批量随机梯度下降来优化模型的损失函数**]，设置学习率为0.1。\n"
      ]
    },
    {
      "cell_type": "code",
      "execution_count": 17,
      "id": "44cfab15",
      "metadata": {
        "execution": {
          "iopub.execute_input": "2023-08-18T07:05:37.393966Z",
          "iopub.status.busy": "2023-08-18T07:05:37.393127Z",
          "iopub.status.idle": "2023-08-18T07:05:37.398492Z",
          "shell.execute_reply": "2023-08-18T07:05:37.397420Z"
        },
        "origin_pos": 52,
        "tab": [
          "pytorch"
        ],
        "id": "44cfab15"
      },
      "outputs": [],
      "source": [
        "lr = 0.1\n",
        "\n",
        "def updater(batch_size):\n",
        "    return d2l.sgd([W, b], lr, batch_size)"
      ]
    },
    {
      "cell_type": "markdown",
      "id": "0291691f",
      "metadata": {
        "origin_pos": 54,
        "id": "0291691f"
      },
      "source": [
        "现在，我们[**训练模型10个迭代周期**]。\n",
        "请注意，迭代周期（`num_epochs`）和学习率（`lr`）都是可调节的超参数。\n",
        "通过更改它们的值，我们可以提高模型的分类精度。\n"
      ]
    },
    {
      "cell_type": "code",
      "execution_count": 18,
      "id": "fb9c12f8",
      "metadata": {
        "execution": {
          "iopub.execute_input": "2023-08-18T07:05:37.403054Z",
          "iopub.status.busy": "2023-08-18T07:05:37.402682Z",
          "iopub.status.idle": "2023-08-18T07:06:16.273679Z",
          "shell.execute_reply": "2023-08-18T07:06:16.272655Z"
        },
        "origin_pos": 55,
        "tab": [
          "pytorch"
        ],
        "colab": {
          "base_uri": "https://localhost:8080/",
          "height": 264
        },
        "id": "fb9c12f8",
        "outputId": "37ede9fc-7818-49f6-bc83-86eb8a0ec89b"
      },
      "outputs": [
        {
          "output_type": "display_data",
          "data": {
            "text/plain": [
              "<Figure size 350x250 with 1 Axes>"
            ],
            "image/svg+xml": "<?xml version=\"1.0\" encoding=\"utf-8\" standalone=\"no\"?>\n<!DOCTYPE svg PUBLIC \"-//W3C//DTD SVG 1.1//EN\"\n  \"http://www.w3.org/Graphics/SVG/1.1/DTD/svg11.dtd\">\n<svg xmlns:xlink=\"http://www.w3.org/1999/xlink\" width=\"238.965625pt\" height=\"183.35625pt\" viewBox=\"0 0 238.965625 183.35625\" xmlns=\"http://www.w3.org/2000/svg\" version=\"1.1\">\n <metadata>\n  <rdf:RDF xmlns:dc=\"http://purl.org/dc/elements/1.1/\" xmlns:cc=\"http://creativecommons.org/ns#\" xmlns:rdf=\"http://www.w3.org/1999/02/22-rdf-syntax-ns#\">\n   <cc:Work>\n    <dc:type rdf:resource=\"http://purl.org/dc/dcmitype/StillImage\"/>\n    <dc:date>2025-06-13T14:18:20.156824</dc:date>\n    <dc:format>image/svg+xml</dc:format>\n    <dc:creator>\n     <cc:Agent>\n      <dc:title>Matplotlib v3.7.2, https://matplotlib.org/</dc:title>\n     </cc:Agent>\n    </dc:creator>\n   </cc:Work>\n  </rdf:RDF>\n </metadata>\n <defs>\n  <style type=\"text/css\">*{stroke-linejoin: round; stroke-linecap: butt}</style>\n </defs>\n <g id=\"figure_1\">\n  <g id=\"patch_1\">\n   <path d=\"M 0 183.35625 \nL 238.965625 183.35625 \nL 238.965625 0 \nL 0 0 \nz\n\" style=\"fill: #ffffff\"/>\n  </g>\n  <g id=\"axes_1\">\n   <g id=\"patch_2\">\n    <path d=\"M 30.103125 145.8 \nL 225.403125 145.8 \nL 225.403125 7.2 \nL 30.103125 7.2 \nz\n\" style=\"fill: #ffffff\"/>\n   </g>\n   <g id=\"matplotlib.axis_1\">\n    <g id=\"xtick_1\">\n     <g id=\"line2d_1\">\n      <path d=\"M 51.803125 145.8 \nL 51.803125 7.2 \n\" clip-path=\"url(#pc9198035d9)\" style=\"fill: none; stroke: #b0b0b0; stroke-width: 0.8; stroke-linecap: square\"/>\n     </g>\n     <g id=\"line2d_2\">\n      <defs>\n       <path id=\"m2d885543a2\" d=\"M 0 0 \nL 0 3.5 \n\" style=\"stroke: #000000; stroke-width: 0.8\"/>\n      </defs>\n      <g>\n       <use xlink:href=\"#m2d885543a2\" x=\"51.803125\" y=\"145.8\" style=\"stroke: #000000; stroke-width: 0.8\"/>\n      </g>\n     </g>\n     <g id=\"text_1\">\n      <!-- 2 -->\n      <g transform=\"translate(48.621875 160.398438) scale(0.1 -0.1)\">\n       <defs>\n        <path id=\"DejaVuSans-32\" d=\"M 1228 531 \nL 3431 531 \nL 3431 0 \nL 469 0 \nL 469 531 \nQ 828 903 1448 1529 \nQ 2069 2156 2228 2338 \nQ 2531 2678 2651 2914 \nQ 2772 3150 2772 3378 \nQ 2772 3750 2511 3984 \nQ 2250 4219 1831 4219 \nQ 1534 4219 1204 4116 \nQ 875 4013 500 3803 \nL 500 4441 \nQ 881 4594 1212 4672 \nQ 1544 4750 1819 4750 \nQ 2544 4750 2975 4387 \nQ 3406 4025 3406 3419 \nQ 3406 3131 3298 2873 \nQ 3191 2616 2906 2266 \nQ 2828 2175 2409 1742 \nQ 1991 1309 1228 531 \nz\n\" transform=\"scale(0.015625)\"/>\n       </defs>\n       <use xlink:href=\"#DejaVuSans-32\"/>\n      </g>\n     </g>\n    </g>\n    <g id=\"xtick_2\">\n     <g id=\"line2d_3\">\n      <path d=\"M 95.203125 145.8 \nL 95.203125 7.2 \n\" clip-path=\"url(#pc9198035d9)\" style=\"fill: none; stroke: #b0b0b0; stroke-width: 0.8; stroke-linecap: square\"/>\n     </g>\n     <g id=\"line2d_4\">\n      <g>\n       <use xlink:href=\"#m2d885543a2\" x=\"95.203125\" y=\"145.8\" style=\"stroke: #000000; stroke-width: 0.8\"/>\n      </g>\n     </g>\n     <g id=\"text_2\">\n      <!-- 4 -->\n      <g transform=\"translate(92.021875 160.398438) scale(0.1 -0.1)\">\n       <defs>\n        <path id=\"DejaVuSans-34\" d=\"M 2419 4116 \nL 825 1625 \nL 2419 1625 \nL 2419 4116 \nz\nM 2253 4666 \nL 3047 4666 \nL 3047 1625 \nL 3713 1625 \nL 3713 1100 \nL 3047 1100 \nL 3047 0 \nL 2419 0 \nL 2419 1100 \nL 313 1100 \nL 313 1709 \nL 2253 4666 \nz\n\" transform=\"scale(0.015625)\"/>\n       </defs>\n       <use xlink:href=\"#DejaVuSans-34\"/>\n      </g>\n     </g>\n    </g>\n    <g id=\"xtick_3\">\n     <g id=\"line2d_5\">\n      <path d=\"M 138.603125 145.8 \nL 138.603125 7.2 \n\" clip-path=\"url(#pc9198035d9)\" style=\"fill: none; stroke: #b0b0b0; stroke-width: 0.8; stroke-linecap: square\"/>\n     </g>\n     <g id=\"line2d_6\">\n      <g>\n       <use xlink:href=\"#m2d885543a2\" x=\"138.603125\" y=\"145.8\" style=\"stroke: #000000; stroke-width: 0.8\"/>\n      </g>\n     </g>\n     <g id=\"text_3\">\n      <!-- 6 -->\n      <g transform=\"translate(135.421875 160.398438) scale(0.1 -0.1)\">\n       <defs>\n        <path id=\"DejaVuSans-36\" d=\"M 2113 2584 \nQ 1688 2584 1439 2293 \nQ 1191 2003 1191 1497 \nQ 1191 994 1439 701 \nQ 1688 409 2113 409 \nQ 2538 409 2786 701 \nQ 3034 994 3034 1497 \nQ 3034 2003 2786 2293 \nQ 2538 2584 2113 2584 \nz\nM 3366 4563 \nL 3366 3988 \nQ 3128 4100 2886 4159 \nQ 2644 4219 2406 4219 \nQ 1781 4219 1451 3797 \nQ 1122 3375 1075 2522 \nQ 1259 2794 1537 2939 \nQ 1816 3084 2150 3084 \nQ 2853 3084 3261 2657 \nQ 3669 2231 3669 1497 \nQ 3669 778 3244 343 \nQ 2819 -91 2113 -91 \nQ 1303 -91 875 529 \nQ 447 1150 447 2328 \nQ 447 3434 972 4092 \nQ 1497 4750 2381 4750 \nQ 2619 4750 2861 4703 \nQ 3103 4656 3366 4563 \nz\n\" transform=\"scale(0.015625)\"/>\n       </defs>\n       <use xlink:href=\"#DejaVuSans-36\"/>\n      </g>\n     </g>\n    </g>\n    <g id=\"xtick_4\">\n     <g id=\"line2d_7\">\n      <path d=\"M 182.003125 145.8 \nL 182.003125 7.2 \n\" clip-path=\"url(#pc9198035d9)\" style=\"fill: none; stroke: #b0b0b0; stroke-width: 0.8; stroke-linecap: square\"/>\n     </g>\n     <g id=\"line2d_8\">\n      <g>\n       <use xlink:href=\"#m2d885543a2\" x=\"182.003125\" y=\"145.8\" style=\"stroke: #000000; stroke-width: 0.8\"/>\n      </g>\n     </g>\n     <g id=\"text_4\">\n      <!-- 8 -->\n      <g transform=\"translate(178.821875 160.398438) scale(0.1 -0.1)\">\n       <defs>\n        <path id=\"DejaVuSans-38\" d=\"M 2034 2216 \nQ 1584 2216 1326 1975 \nQ 1069 1734 1069 1313 \nQ 1069 891 1326 650 \nQ 1584 409 2034 409 \nQ 2484 409 2743 651 \nQ 3003 894 3003 1313 \nQ 3003 1734 2745 1975 \nQ 2488 2216 2034 2216 \nz\nM 1403 2484 \nQ 997 2584 770 2862 \nQ 544 3141 544 3541 \nQ 544 4100 942 4425 \nQ 1341 4750 2034 4750 \nQ 2731 4750 3128 4425 \nQ 3525 4100 3525 3541 \nQ 3525 3141 3298 2862 \nQ 3072 2584 2669 2484 \nQ 3125 2378 3379 2068 \nQ 3634 1759 3634 1313 \nQ 3634 634 3220 271 \nQ 2806 -91 2034 -91 \nQ 1263 -91 848 271 \nQ 434 634 434 1313 \nQ 434 1759 690 2068 \nQ 947 2378 1403 2484 \nz\nM 1172 3481 \nQ 1172 3119 1398 2916 \nQ 1625 2713 2034 2713 \nQ 2441 2713 2670 2916 \nQ 2900 3119 2900 3481 \nQ 2900 3844 2670 4047 \nQ 2441 4250 2034 4250 \nQ 1625 4250 1398 4047 \nQ 1172 3844 1172 3481 \nz\n\" transform=\"scale(0.015625)\"/>\n       </defs>\n       <use xlink:href=\"#DejaVuSans-38\"/>\n      </g>\n     </g>\n    </g>\n    <g id=\"xtick_5\">\n     <g id=\"line2d_9\">\n      <path d=\"M 225.403125 145.8 \nL 225.403125 7.2 \n\" clip-path=\"url(#pc9198035d9)\" style=\"fill: none; stroke: #b0b0b0; stroke-width: 0.8; stroke-linecap: square\"/>\n     </g>\n     <g id=\"line2d_10\">\n      <g>\n       <use xlink:href=\"#m2d885543a2\" x=\"225.403125\" y=\"145.8\" style=\"stroke: #000000; stroke-width: 0.8\"/>\n      </g>\n     </g>\n     <g id=\"text_5\">\n      <!-- 10 -->\n      <g transform=\"translate(219.040625 160.398438) scale(0.1 -0.1)\">\n       <defs>\n        <path id=\"DejaVuSans-31\" d=\"M 794 531 \nL 1825 531 \nL 1825 4091 \nL 703 3866 \nL 703 4441 \nL 1819 4666 \nL 2450 4666 \nL 2450 531 \nL 3481 531 \nL 3481 0 \nL 794 0 \nL 794 531 \nz\n\" transform=\"scale(0.015625)\"/>\n        <path id=\"DejaVuSans-30\" d=\"M 2034 4250 \nQ 1547 4250 1301 3770 \nQ 1056 3291 1056 2328 \nQ 1056 1369 1301 889 \nQ 1547 409 2034 409 \nQ 2525 409 2770 889 \nQ 3016 1369 3016 2328 \nQ 3016 3291 2770 3770 \nQ 2525 4250 2034 4250 \nz\nM 2034 4750 \nQ 2819 4750 3233 4129 \nQ 3647 3509 3647 2328 \nQ 3647 1150 3233 529 \nQ 2819 -91 2034 -91 \nQ 1250 -91 836 529 \nQ 422 1150 422 2328 \nQ 422 3509 836 4129 \nQ 1250 4750 2034 4750 \nz\n\" transform=\"scale(0.015625)\"/>\n       </defs>\n       <use xlink:href=\"#DejaVuSans-31\"/>\n       <use xlink:href=\"#DejaVuSans-30\" x=\"63.623047\"/>\n      </g>\n     </g>\n    </g>\n    <g id=\"text_6\">\n     <!-- epoch -->\n     <g transform=\"translate(112.525 174.076563) scale(0.1 -0.1)\">\n      <defs>\n       <path id=\"DejaVuSans-65\" d=\"M 3597 1894 \nL 3597 1613 \nL 953 1613 \nQ 991 1019 1311 708 \nQ 1631 397 2203 397 \nQ 2534 397 2845 478 \nQ 3156 559 3463 722 \nL 3463 178 \nQ 3153 47 2828 -22 \nQ 2503 -91 2169 -91 \nQ 1331 -91 842 396 \nQ 353 884 353 1716 \nQ 353 2575 817 3079 \nQ 1281 3584 2069 3584 \nQ 2775 3584 3186 3129 \nQ 3597 2675 3597 1894 \nz\nM 3022 2063 \nQ 3016 2534 2758 2815 \nQ 2500 3097 2075 3097 \nQ 1594 3097 1305 2825 \nQ 1016 2553 972 2059 \nL 3022 2063 \nz\n\" transform=\"scale(0.015625)\"/>\n       <path id=\"DejaVuSans-70\" d=\"M 1159 525 \nL 1159 -1331 \nL 581 -1331 \nL 581 3500 \nL 1159 3500 \nL 1159 2969 \nQ 1341 3281 1617 3432 \nQ 1894 3584 2278 3584 \nQ 2916 3584 3314 3078 \nQ 3713 2572 3713 1747 \nQ 3713 922 3314 415 \nQ 2916 -91 2278 -91 \nQ 1894 -91 1617 61 \nQ 1341 213 1159 525 \nz\nM 3116 1747 \nQ 3116 2381 2855 2742 \nQ 2594 3103 2138 3103 \nQ 1681 3103 1420 2742 \nQ 1159 2381 1159 1747 \nQ 1159 1113 1420 752 \nQ 1681 391 2138 391 \nQ 2594 391 2855 752 \nQ 3116 1113 3116 1747 \nz\n\" transform=\"scale(0.015625)\"/>\n       <path id=\"DejaVuSans-6f\" d=\"M 1959 3097 \nQ 1497 3097 1228 2736 \nQ 959 2375 959 1747 \nQ 959 1119 1226 758 \nQ 1494 397 1959 397 \nQ 2419 397 2687 759 \nQ 2956 1122 2956 1747 \nQ 2956 2369 2687 2733 \nQ 2419 3097 1959 3097 \nz\nM 1959 3584 \nQ 2709 3584 3137 3096 \nQ 3566 2609 3566 1747 \nQ 3566 888 3137 398 \nQ 2709 -91 1959 -91 \nQ 1206 -91 779 398 \nQ 353 888 353 1747 \nQ 353 2609 779 3096 \nQ 1206 3584 1959 3584 \nz\n\" transform=\"scale(0.015625)\"/>\n       <path id=\"DejaVuSans-63\" d=\"M 3122 3366 \nL 3122 2828 \nQ 2878 2963 2633 3030 \nQ 2388 3097 2138 3097 \nQ 1578 3097 1268 2742 \nQ 959 2388 959 1747 \nQ 959 1106 1268 751 \nQ 1578 397 2138 397 \nQ 2388 397 2633 464 \nQ 2878 531 3122 666 \nL 3122 134 \nQ 2881 22 2623 -34 \nQ 2366 -91 2075 -91 \nQ 1284 -91 818 406 \nQ 353 903 353 1747 \nQ 353 2603 823 3093 \nQ 1294 3584 2113 3584 \nQ 2378 3584 2631 3529 \nQ 2884 3475 3122 3366 \nz\n\" transform=\"scale(0.015625)\"/>\n       <path id=\"DejaVuSans-68\" d=\"M 3513 2113 \nL 3513 0 \nL 2938 0 \nL 2938 2094 \nQ 2938 2591 2744 2837 \nQ 2550 3084 2163 3084 \nQ 1697 3084 1428 2787 \nQ 1159 2491 1159 1978 \nL 1159 0 \nL 581 0 \nL 581 4863 \nL 1159 4863 \nL 1159 2956 \nQ 1366 3272 1645 3428 \nQ 1925 3584 2291 3584 \nQ 2894 3584 3203 3211 \nQ 3513 2838 3513 2113 \nz\n\" transform=\"scale(0.015625)\"/>\n      </defs>\n      <use xlink:href=\"#DejaVuSans-65\"/>\n      <use xlink:href=\"#DejaVuSans-70\" x=\"61.523438\"/>\n      <use xlink:href=\"#DejaVuSans-6f\" x=\"125\"/>\n      <use xlink:href=\"#DejaVuSans-63\" x=\"186.181641\"/>\n      <use xlink:href=\"#DejaVuSans-68\" x=\"241.162109\"/>\n     </g>\n    </g>\n   </g>\n   <g id=\"matplotlib.axis_2\">\n    <g id=\"ytick_1\">\n     <g id=\"line2d_11\">\n      <path d=\"M 30.103125 122.7 \nL 225.403125 122.7 \n\" clip-path=\"url(#pc9198035d9)\" style=\"fill: none; stroke: #b0b0b0; stroke-width: 0.8; stroke-linecap: square\"/>\n     </g>\n     <g id=\"line2d_12\">\n      <defs>\n       <path id=\"m13b9dcc3be\" d=\"M 0 0 \nL -3.5 0 \n\" style=\"stroke: #000000; stroke-width: 0.8\"/>\n      </defs>\n      <g>\n       <use xlink:href=\"#m13b9dcc3be\" x=\"30.103125\" y=\"122.7\" style=\"stroke: #000000; stroke-width: 0.8\"/>\n      </g>\n     </g>\n     <g id=\"text_7\">\n      <!-- 0.4 -->\n      <g transform=\"translate(7.2 126.499219) scale(0.1 -0.1)\">\n       <defs>\n        <path id=\"DejaVuSans-2e\" d=\"M 684 794 \nL 1344 794 \nL 1344 0 \nL 684 0 \nL 684 794 \nz\n\" transform=\"scale(0.015625)\"/>\n       </defs>\n       <use xlink:href=\"#DejaVuSans-30\"/>\n       <use xlink:href=\"#DejaVuSans-2e\" x=\"63.623047\"/>\n       <use xlink:href=\"#DejaVuSans-34\" x=\"95.410156\"/>\n      </g>\n     </g>\n    </g>\n    <g id=\"ytick_2\">\n     <g id=\"line2d_13\">\n      <path d=\"M 30.103125 76.5 \nL 225.403125 76.5 \n\" clip-path=\"url(#pc9198035d9)\" style=\"fill: none; stroke: #b0b0b0; stroke-width: 0.8; stroke-linecap: square\"/>\n     </g>\n     <g id=\"line2d_14\">\n      <g>\n       <use xlink:href=\"#m13b9dcc3be\" x=\"30.103125\" y=\"76.5\" style=\"stroke: #000000; stroke-width: 0.8\"/>\n      </g>\n     </g>\n     <g id=\"text_8\">\n      <!-- 0.6 -->\n      <g transform=\"translate(7.2 80.299219) scale(0.1 -0.1)\">\n       <use xlink:href=\"#DejaVuSans-30\"/>\n       <use xlink:href=\"#DejaVuSans-2e\" x=\"63.623047\"/>\n       <use xlink:href=\"#DejaVuSans-36\" x=\"95.410156\"/>\n      </g>\n     </g>\n    </g>\n    <g id=\"ytick_3\">\n     <g id=\"line2d_15\">\n      <path d=\"M 30.103125 30.3 \nL 225.403125 30.3 \n\" clip-path=\"url(#pc9198035d9)\" style=\"fill: none; stroke: #b0b0b0; stroke-width: 0.8; stroke-linecap: square\"/>\n     </g>\n     <g id=\"line2d_16\">\n      <g>\n       <use xlink:href=\"#m13b9dcc3be\" x=\"30.103125\" y=\"30.3\" style=\"stroke: #000000; stroke-width: 0.8\"/>\n      </g>\n     </g>\n     <g id=\"text_9\">\n      <!-- 0.8 -->\n      <g transform=\"translate(7.2 34.099219) scale(0.1 -0.1)\">\n       <use xlink:href=\"#DejaVuSans-30\"/>\n       <use xlink:href=\"#DejaVuSans-2e\" x=\"63.623047\"/>\n       <use xlink:href=\"#DejaVuSans-38\" x=\"95.410156\"/>\n      </g>\n     </g>\n    </g>\n   </g>\n   <g id=\"line2d_17\">\n    <path d=\"M 30.103125 33.68438 \nL 51.803125 83.244111 \nL 73.503125 93.834131 \nL 95.203125 99.170402 \nL 116.903125 103.067949 \nL 138.603125 105.484752 \nL 160.303125 107.507939 \nL 182.003125 109.377671 \nL 203.703125 110.538844 \nL 225.403125 111.805723 \n\" clip-path=\"url(#pc9198035d9)\" style=\"fill: none; stroke: #1f77b4; stroke-width: 1.5; stroke-linecap: square\"/>\n   </g>\n   <g id=\"line2d_18\">\n    <path d=\"M 30.103125 42.2658 \nL 51.803125 27.25465 \nL 73.503125 24.47495 \nL 95.203125 22.99655 \nL 116.903125 21.74915 \nL 138.603125 21.33335 \nL 160.303125 20.34005 \nL 182.003125 19.85495 \nL 203.703125 19.58545 \nL 225.403125 18.9733 \n\" clip-path=\"url(#pc9198035d9)\" style=\"fill: none; stroke-dasharray: 5.55,2.4; stroke-dashoffset: 0; stroke: #bf00bf; stroke-width: 1.5\"/>\n   </g>\n   <g id=\"line2d_19\">\n    <path d=\"M 30.103125 32.9334 \nL 51.803125 28.5675 \nL 73.503125 27.528 \nL 95.203125 27.2046 \nL 116.903125 24.5019 \nL 138.603125 25.1718 \nL 160.303125 23.2314 \nL 182.003125 26.835 \nL 203.703125 26.9274 \nL 225.403125 22.7463 \n\" clip-path=\"url(#pc9198035d9)\" style=\"fill: none; stroke-dasharray: 9.6,2.4,1.5,2.4; stroke-dashoffset: 0; stroke: #008000; stroke-width: 1.5\"/>\n   </g>\n   <g id=\"patch_3\">\n    <path d=\"M 30.103125 145.8 \nL 30.103125 7.2 \n\" style=\"fill: none; stroke: #000000; stroke-width: 0.8; stroke-linejoin: miter; stroke-linecap: square\"/>\n   </g>\n   <g id=\"patch_4\">\n    <path d=\"M 225.403125 145.8 \nL 225.403125 7.2 \n\" style=\"fill: none; stroke: #000000; stroke-width: 0.8; stroke-linejoin: miter; stroke-linecap: square\"/>\n   </g>\n   <g id=\"patch_5\">\n    <path d=\"M 30.103125 145.8 \nL 225.403125 145.8 \n\" style=\"fill: none; stroke: #000000; stroke-width: 0.8; stroke-linejoin: miter; stroke-linecap: square\"/>\n   </g>\n   <g id=\"patch_6\">\n    <path d=\"M 30.103125 7.2 \nL 225.403125 7.2 \n\" style=\"fill: none; stroke: #000000; stroke-width: 0.8; stroke-linejoin: miter; stroke-linecap: square\"/>\n   </g>\n   <g id=\"legend_1\">\n    <g id=\"patch_7\">\n     <path d=\"M 140.634375 100.017188 \nL 218.403125 100.017188 \nQ 220.403125 100.017188 220.403125 98.017188 \nL 220.403125 54.982812 \nQ 220.403125 52.982812 218.403125 52.982812 \nL 140.634375 52.982812 \nQ 138.634375 52.982812 138.634375 54.982812 \nL 138.634375 98.017188 \nQ 138.634375 100.017188 140.634375 100.017188 \nz\n\" style=\"fill: #ffffff; opacity: 0.8; stroke: #cccccc; stroke-linejoin: miter\"/>\n    </g>\n    <g id=\"line2d_20\">\n     <path d=\"M 142.634375 61.08125 \nL 152.634375 61.08125 \nL 162.634375 61.08125 \n\" style=\"fill: none; stroke: #1f77b4; stroke-width: 1.5; stroke-linecap: square\"/>\n    </g>\n    <g id=\"text_10\">\n     <!-- train loss -->\n     <g transform=\"translate(170.634375 64.58125) scale(0.1 -0.1)\">\n      <defs>\n       <path id=\"DejaVuSans-74\" d=\"M 1172 4494 \nL 1172 3500 \nL 2356 3500 \nL 2356 3053 \nL 1172 3053 \nL 1172 1153 \nQ 1172 725 1289 603 \nQ 1406 481 1766 481 \nL 2356 481 \nL 2356 0 \nL 1766 0 \nQ 1100 0 847 248 \nQ 594 497 594 1153 \nL 594 3053 \nL 172 3053 \nL 172 3500 \nL 594 3500 \nL 594 4494 \nL 1172 4494 \nz\n\" transform=\"scale(0.015625)\"/>\n       <path id=\"DejaVuSans-72\" d=\"M 2631 2963 \nQ 2534 3019 2420 3045 \nQ 2306 3072 2169 3072 \nQ 1681 3072 1420 2755 \nQ 1159 2438 1159 1844 \nL 1159 0 \nL 581 0 \nL 581 3500 \nL 1159 3500 \nL 1159 2956 \nQ 1341 3275 1631 3429 \nQ 1922 3584 2338 3584 \nQ 2397 3584 2469 3576 \nQ 2541 3569 2628 3553 \nL 2631 2963 \nz\n\" transform=\"scale(0.015625)\"/>\n       <path id=\"DejaVuSans-61\" d=\"M 2194 1759 \nQ 1497 1759 1228 1600 \nQ 959 1441 959 1056 \nQ 959 750 1161 570 \nQ 1363 391 1709 391 \nQ 2188 391 2477 730 \nQ 2766 1069 2766 1631 \nL 2766 1759 \nL 2194 1759 \nz\nM 3341 1997 \nL 3341 0 \nL 2766 0 \nL 2766 531 \nQ 2569 213 2275 61 \nQ 1981 -91 1556 -91 \nQ 1019 -91 701 211 \nQ 384 513 384 1019 \nQ 384 1609 779 1909 \nQ 1175 2209 1959 2209 \nL 2766 2209 \nL 2766 2266 \nQ 2766 2663 2505 2880 \nQ 2244 3097 1772 3097 \nQ 1472 3097 1187 3025 \nQ 903 2953 641 2809 \nL 641 3341 \nQ 956 3463 1253 3523 \nQ 1550 3584 1831 3584 \nQ 2591 3584 2966 3190 \nQ 3341 2797 3341 1997 \nz\n\" transform=\"scale(0.015625)\"/>\n       <path id=\"DejaVuSans-69\" d=\"M 603 3500 \nL 1178 3500 \nL 1178 0 \nL 603 0 \nL 603 3500 \nz\nM 603 4863 \nL 1178 4863 \nL 1178 4134 \nL 603 4134 \nL 603 4863 \nz\n\" transform=\"scale(0.015625)\"/>\n       <path id=\"DejaVuSans-6e\" d=\"M 3513 2113 \nL 3513 0 \nL 2938 0 \nL 2938 2094 \nQ 2938 2591 2744 2837 \nQ 2550 3084 2163 3084 \nQ 1697 3084 1428 2787 \nQ 1159 2491 1159 1978 \nL 1159 0 \nL 581 0 \nL 581 3500 \nL 1159 3500 \nL 1159 2956 \nQ 1366 3272 1645 3428 \nQ 1925 3584 2291 3584 \nQ 2894 3584 3203 3211 \nQ 3513 2838 3513 2113 \nz\n\" transform=\"scale(0.015625)\"/>\n       <path id=\"DejaVuSans-20\" transform=\"scale(0.015625)\"/>\n       <path id=\"DejaVuSans-6c\" d=\"M 603 4863 \nL 1178 4863 \nL 1178 0 \nL 603 0 \nL 603 4863 \nz\n\" transform=\"scale(0.015625)\"/>\n       <path id=\"DejaVuSans-73\" d=\"M 2834 3397 \nL 2834 2853 \nQ 2591 2978 2328 3040 \nQ 2066 3103 1784 3103 \nQ 1356 3103 1142 2972 \nQ 928 2841 928 2578 \nQ 928 2378 1081 2264 \nQ 1234 2150 1697 2047 \nL 1894 2003 \nQ 2506 1872 2764 1633 \nQ 3022 1394 3022 966 \nQ 3022 478 2636 193 \nQ 2250 -91 1575 -91 \nQ 1294 -91 989 -36 \nQ 684 19 347 128 \nL 347 722 \nQ 666 556 975 473 \nQ 1284 391 1588 391 \nQ 1994 391 2212 530 \nQ 2431 669 2431 922 \nQ 2431 1156 2273 1281 \nQ 2116 1406 1581 1522 \nL 1381 1569 \nQ 847 1681 609 1914 \nQ 372 2147 372 2553 \nQ 372 3047 722 3315 \nQ 1072 3584 1716 3584 \nQ 2034 3584 2315 3537 \nQ 2597 3491 2834 3397 \nz\n\" transform=\"scale(0.015625)\"/>\n      </defs>\n      <use xlink:href=\"#DejaVuSans-74\"/>\n      <use xlink:href=\"#DejaVuSans-72\" x=\"39.208984\"/>\n      <use xlink:href=\"#DejaVuSans-61\" x=\"80.322266\"/>\n      <use xlink:href=\"#DejaVuSans-69\" x=\"141.601562\"/>\n      <use xlink:href=\"#DejaVuSans-6e\" x=\"169.384766\"/>\n      <use xlink:href=\"#DejaVuSans-20\" x=\"232.763672\"/>\n      <use xlink:href=\"#DejaVuSans-6c\" x=\"264.550781\"/>\n      <use xlink:href=\"#DejaVuSans-6f\" x=\"292.333984\"/>\n      <use xlink:href=\"#DejaVuSans-73\" x=\"353.515625\"/>\n      <use xlink:href=\"#DejaVuSans-73\" x=\"405.615234\"/>\n     </g>\n    </g>\n    <g id=\"line2d_21\">\n     <path d=\"M 142.634375 75.759375 \nL 152.634375 75.759375 \nL 162.634375 75.759375 \n\" style=\"fill: none; stroke-dasharray: 5.55,2.4; stroke-dashoffset: 0; stroke: #bf00bf; stroke-width: 1.5\"/>\n    </g>\n    <g id=\"text_11\">\n     <!-- train acc -->\n     <g transform=\"translate(170.634375 79.259375) scale(0.1 -0.1)\">\n      <use xlink:href=\"#DejaVuSans-74\"/>\n      <use xlink:href=\"#DejaVuSans-72\" x=\"39.208984\"/>\n      <use xlink:href=\"#DejaVuSans-61\" x=\"80.322266\"/>\n      <use xlink:href=\"#DejaVuSans-69\" x=\"141.601562\"/>\n      <use xlink:href=\"#DejaVuSans-6e\" x=\"169.384766\"/>\n      <use xlink:href=\"#DejaVuSans-20\" x=\"232.763672\"/>\n      <use xlink:href=\"#DejaVuSans-61\" x=\"264.550781\"/>\n      <use xlink:href=\"#DejaVuSans-63\" x=\"325.830078\"/>\n      <use xlink:href=\"#DejaVuSans-63\" x=\"380.810547\"/>\n     </g>\n    </g>\n    <g id=\"line2d_22\">\n     <path d=\"M 142.634375 90.4375 \nL 152.634375 90.4375 \nL 162.634375 90.4375 \n\" style=\"fill: none; stroke-dasharray: 9.6,2.4,1.5,2.4; stroke-dashoffset: 0; stroke: #008000; stroke-width: 1.5\"/>\n    </g>\n    <g id=\"text_12\">\n     <!-- test acc -->\n     <g transform=\"translate(170.634375 93.9375) scale(0.1 -0.1)\">\n      <use xlink:href=\"#DejaVuSans-74\"/>\n      <use xlink:href=\"#DejaVuSans-65\" x=\"39.208984\"/>\n      <use xlink:href=\"#DejaVuSans-73\" x=\"100.732422\"/>\n      <use xlink:href=\"#DejaVuSans-74\" x=\"152.832031\"/>\n      <use xlink:href=\"#DejaVuSans-20\" x=\"192.041016\"/>\n      <use xlink:href=\"#DejaVuSans-61\" x=\"223.828125\"/>\n      <use xlink:href=\"#DejaVuSans-63\" x=\"285.107422\"/>\n      <use xlink:href=\"#DejaVuSans-63\" x=\"340.087891\"/>\n     </g>\n    </g>\n   </g>\n  </g>\n </g>\n <defs>\n  <clipPath id=\"pc9198035d9\">\n   <rect x=\"30.103125\" y=\"7.2\" width=\"195.3\" height=\"138.6\"/>\n  </clipPath>\n </defs>\n</svg>\n"
          },
          "metadata": {}
        }
      ],
      "source": [
        "num_epochs = 10\n",
        "train_ch3(net, train_iter, test_iter, cross_entropy, num_epochs, updater)"
      ]
    },
    {
      "cell_type": "markdown",
      "id": "a8121f40",
      "metadata": {
        "origin_pos": 56,
        "id": "a8121f40"
      },
      "source": [
        "## 预测\n",
        "\n",
        "现在训练已经完成，我们的模型已经准备好[**对图像进行分类预测**]。\n",
        "给定一系列图像，我们将比较它们的实际标签（文本输出的第一行）和模型预测（文本输出的第二行）。\n"
      ]
    },
    {
      "cell_type": "code",
      "execution_count": 21,
      "id": "74ba2d12",
      "metadata": {
        "execution": {
          "iopub.execute_input": "2023-08-18T07:06:16.277808Z",
          "iopub.status.busy": "2023-08-18T07:06:16.277179Z",
          "iopub.status.idle": "2023-08-18T07:06:16.734243Z",
          "shell.execute_reply": "2023-08-18T07:06:16.733343Z"
        },
        "origin_pos": 57,
        "tab": [
          "pytorch"
        ],
        "colab": {
          "base_uri": "https://localhost:8080/",
          "height": 191
        },
        "id": "74ba2d12",
        "outputId": "dbfebd13-a634-47b0-9b98-79ee4f558460"
      },
      "outputs": [
        {
          "output_type": "display_data",
          "data": {
            "text/plain": [
              "<Figure size 3000x150 with 20 Axes>"
            ],
            "image/svg+xml": "<?xml version=\"1.0\" encoding=\"utf-8\" standalone=\"no\"?>\n<!DOCTYPE svg PUBLIC \"-//W3C//DTD SVG 1.1//EN\"\n  \"http://www.w3.org/Graphics/SVG/1.1/DTD/svg11.dtd\">\n<svg xmlns:xlink=\"http://www.w3.org/1999/xlink\" width=\"1688.4pt\" height=\"113.291634pt\" viewBox=\"0 0 1688.4 113.291634\" xmlns=\"http://www.w3.org/2000/svg\" version=\"1.1\">\n <metadata>\n  <rdf:RDF xmlns:dc=\"http://purl.org/dc/elements/1.1/\" xmlns:cc=\"http://creativecommons.org/ns#\" xmlns:rdf=\"http://www.w3.org/1999/02/22-rdf-syntax-ns#\">\n   <cc:Work>\n    <dc:type rdf:resource=\"http://purl.org/dc/dcmitype/StillImage\"/>\n    <dc:date>2025-06-13T14:19:08.510439</dc:date>\n    <dc:format>image/svg+xml</dc:format>\n    <dc:creator>\n     <cc:Agent>\n      <dc:title>Matplotlib v3.7.2, https://matplotlib.org/</dc:title>\n     </cc:Agent>\n    </dc:creator>\n   </cc:Work>\n  </rdf:RDF>\n </metadata>\n <defs>\n  <style type=\"text/css\">*{stroke-linejoin: round; stroke-linecap: butt}</style>\n </defs>\n <g id=\"figure_1\">\n  <g id=\"patch_1\">\n   <path d=\"M 0 113.291634 \nL 1688.4 113.291634 \nL 1688.4 -0 \nL 0 -0 \nz\n\" style=\"fill: #ffffff\"/>\n  </g>\n  <g id=\"axes_1\">\n   <g id=\"patch_2\">\n    <path d=\"M 7.2 106.091634 \nL 77.536134 106.091634 \nL 77.536134 35.7555 \nL 7.2 35.7555 \nz\n\" style=\"fill: #ffffff\"/>\n   </g>\n   <g clip-path=\"url(#p5bae88da1c)\">\n    <image xlink:href=\"data:image/png;base64,\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\" id=\"imagebade2fd0fe\" transform=\"scale(1 -1) translate(0 -70.56)\" x=\"7.2\" y=\"-35.531634\" width=\"70.56\" height=\"70.56\"/>\n   </g>\n   <g id=\"patch_3\">\n    <path d=\"M 7.2 106.091634 \nL 7.2 35.7555 \n\" style=\"fill: none; stroke: #000000; stroke-width: 0.8; stroke-linejoin: miter; stroke-linecap: square\"/>\n   </g>\n   <g id=\"patch_4\">\n    <path d=\"M 77.536134 106.091634 \nL 77.536134 35.7555 \n\" style=\"fill: none; stroke: #000000; stroke-width: 0.8; stroke-linejoin: miter; stroke-linecap: square\"/>\n   </g>\n   <g id=\"patch_5\">\n    <path d=\"M 7.2 106.091634 \nL 77.536134 106.091634 \n\" style=\"fill: none; stroke: #000000; stroke-width: 0.8; stroke-linejoin: miter; stroke-linecap: square\"/>\n   </g>\n   <g id=\"patch_6\">\n    <path d=\"M 7.2 35.7555 \nL 77.536134 35.7555 \n\" style=\"fill: none; stroke: #000000; stroke-width: 0.8; stroke-linejoin: miter; stroke-linecap: square\"/>\n   </g>\n   <g id=\"text_1\">\n    <!-- ankle boot -->\n    <g transform=\"translate(10.644942 16.318125) scale(0.12 -0.12)\">\n     <defs>\n      <path id=\"DejaVuSans-61\" d=\"M 2194 1759 \nQ 1497 1759 1228 1600 \nQ 959 1441 959 1056 \nQ 959 750 1161 570 \nQ 1363 391 1709 391 \nQ 2188 391 2477 730 \nQ 2766 1069 2766 1631 \nL 2766 1759 \nL 2194 1759 \nz\nM 3341 1997 \nL 3341 0 \nL 2766 0 \nL 2766 531 \nQ 2569 213 2275 61 \nQ 1981 -91 1556 -91 \nQ 1019 -91 701 211 \nQ 384 513 384 1019 \nQ 384 1609 779 1909 \nQ 1175 2209 1959 2209 \nL 2766 2209 \nL 2766 2266 \nQ 2766 2663 2505 2880 \nQ 2244 3097 1772 3097 \nQ 1472 3097 1187 3025 \nQ 903 2953 641 2809 \nL 641 3341 \nQ 956 3463 1253 3523 \nQ 1550 3584 1831 3584 \nQ 2591 3584 2966 3190 \nQ 3341 2797 3341 1997 \nz\n\" transform=\"scale(0.015625)\"/>\n      <path id=\"DejaVuSans-6e\" d=\"M 3513 2113 \nL 3513 0 \nL 2938 0 \nL 2938 2094 \nQ 2938 2591 2744 2837 \nQ 2550 3084 2163 3084 \nQ 1697 3084 1428 2787 \nQ 1159 2491 1159 1978 \nL 1159 0 \nL 581 0 \nL 581 3500 \nL 1159 3500 \nL 1159 2956 \nQ 1366 3272 1645 3428 \nQ 1925 3584 2291 3584 \nQ 2894 3584 3203 3211 \nQ 3513 2838 3513 2113 \nz\n\" transform=\"scale(0.015625)\"/>\n      <path id=\"DejaVuSans-6b\" d=\"M 581 4863 \nL 1159 4863 \nL 1159 1991 \nL 2875 3500 \nL 3609 3500 \nL 1753 1863 \nL 3688 0 \nL 2938 0 \nL 1159 1709 \nL 1159 0 \nL 581 0 \nL 581 4863 \nz\n\" transform=\"scale(0.015625)\"/>\n      <path id=\"DejaVuSans-6c\" d=\"M 603 4863 \nL 1178 4863 \nL 1178 0 \nL 603 0 \nL 603 4863 \nz\n\" transform=\"scale(0.015625)\"/>\n      <path id=\"DejaVuSans-65\" d=\"M 3597 1894 \nL 3597 1613 \nL 953 1613 \nQ 991 1019 1311 708 \nQ 1631 397 2203 397 \nQ 2534 397 2845 478 \nQ 3156 559 3463 722 \nL 3463 178 \nQ 3153 47 2828 -22 \nQ 2503 -91 2169 -91 \nQ 1331 -91 842 396 \nQ 353 884 353 1716 \nQ 353 2575 817 3079 \nQ 1281 3584 2069 3584 \nQ 2775 3584 3186 3129 \nQ 3597 2675 3597 1894 \nz\nM 3022 2063 \nQ 3016 2534 2758 2815 \nQ 2500 3097 2075 3097 \nQ 1594 3097 1305 2825 \nQ 1016 2553 972 2059 \nL 3022 2063 \nz\n\" transform=\"scale(0.015625)\"/>\n      <path id=\"DejaVuSans-20\" transform=\"scale(0.015625)\"/>\n      <path id=\"DejaVuSans-62\" d=\"M 3116 1747 \nQ 3116 2381 2855 2742 \nQ 2594 3103 2138 3103 \nQ 1681 3103 1420 2742 \nQ 1159 2381 1159 1747 \nQ 1159 1113 1420 752 \nQ 1681 391 2138 391 \nQ 2594 391 2855 752 \nQ 3116 1113 3116 1747 \nz\nM 1159 2969 \nQ 1341 3281 1617 3432 \nQ 1894 3584 2278 3584 \nQ 2916 3584 3314 3078 \nQ 3713 2572 3713 1747 \nQ 3713 922 3314 415 \nQ 2916 -91 2278 -91 \nQ 1894 -91 1617 61 \nQ 1341 213 1159 525 \nL 1159 0 \nL 581 0 \nL 581 4863 \nL 1159 4863 \nL 1159 2969 \nz\n\" transform=\"scale(0.015625)\"/>\n      <path id=\"DejaVuSans-6f\" d=\"M 1959 3097 \nQ 1497 3097 1228 2736 \nQ 959 2375 959 1747 \nQ 959 1119 1226 758 \nQ 1494 397 1959 397 \nQ 2419 397 2687 759 \nQ 2956 1122 2956 1747 \nQ 2956 2369 2687 2733 \nQ 2419 3097 1959 3097 \nz\nM 1959 3584 \nQ 2709 3584 3137 3096 \nQ 3566 2609 3566 1747 \nQ 3566 888 3137 398 \nQ 2709 -91 1959 -91 \nQ 1206 -91 779 398 \nQ 353 888 353 1747 \nQ 353 2609 779 3096 \nQ 1206 3584 1959 3584 \nz\n\" transform=\"scale(0.015625)\"/>\n      <path id=\"DejaVuSans-74\" d=\"M 1172 4494 \nL 1172 3500 \nL 2356 3500 \nL 2356 3053 \nL 1172 3053 \nL 1172 1153 \nQ 1172 725 1289 603 \nQ 1406 481 1766 481 \nL 2356 481 \nL 2356 0 \nL 1766 0 \nQ 1100 0 847 248 \nQ 594 497 594 1153 \nL 594 3053 \nL 172 3053 \nL 172 3500 \nL 594 3500 \nL 594 4494 \nL 1172 4494 \nz\n\" transform=\"scale(0.015625)\"/>\n     </defs>\n     <use xlink:href=\"#DejaVuSans-61\"/>\n     <use xlink:href=\"#DejaVuSans-6e\" x=\"61.279297\"/>\n     <use xlink:href=\"#DejaVuSans-6b\" x=\"124.658203\"/>\n     <use xlink:href=\"#DejaVuSans-6c\" x=\"182.568359\"/>\n     <use xlink:href=\"#DejaVuSans-65\" x=\"210.351562\"/>\n     <use xlink:href=\"#DejaVuSans-20\" x=\"271.875\"/>\n     <use xlink:href=\"#DejaVuSans-62\" x=\"303.662109\"/>\n     <use xlink:href=\"#DejaVuSans-6f\" x=\"367.138672\"/>\n     <use xlink:href=\"#DejaVuSans-6f\" x=\"428.320312\"/>\n     <use xlink:href=\"#DejaVuSans-74\" x=\"489.501953\"/>\n    </g>\n    <!-- ankle boot -->\n    <g transform=\"translate(10.644942 29.7555) scale(0.12 -0.12)\">\n     <use xlink:href=\"#DejaVuSans-61\"/>\n     <use xlink:href=\"#DejaVuSans-6e\" x=\"61.279297\"/>\n     <use xlink:href=\"#DejaVuSans-6b\" x=\"124.658203\"/>\n     <use xlink:href=\"#DejaVuSans-6c\" x=\"182.568359\"/>\n     <use xlink:href=\"#DejaVuSans-65\" x=\"210.351562\"/>\n     <use xlink:href=\"#DejaVuSans-20\" x=\"271.875\"/>\n     <use xlink:href=\"#DejaVuSans-62\" x=\"303.662109\"/>\n     <use xlink:href=\"#DejaVuSans-6f\" x=\"367.138672\"/>\n     <use xlink:href=\"#DejaVuSans-6f\" x=\"428.320312\"/>\n     <use xlink:href=\"#DejaVuSans-74\" x=\"489.501953\"/>\n    </g>\n   </g>\n  </g>\n  <g id=\"axes_2\">\n   <g id=\"patch_7\">\n    <path d=\"M 91.603361 106.091634 \nL 161.939496 106.091634 \nL 161.939496 35.7555 \nL 91.603361 35.7555 \nz\n\" style=\"fill: #ffffff\"/>\n   </g>\n   <g clip-path=\"url(#pcee3c785fd)\">\n    <image xlink:href=\"data:image/png;base64,\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\" id=\"imagea7d31a09a5\" transform=\"scale(1 -1) translate(0 -70.56)\" x=\"91.603361\" y=\"-35.531634\" width=\"70.56\" height=\"70.56\"/>\n   </g>\n   <g id=\"patch_8\">\n    <path d=\"M 91.603361 106.091634 \nL 91.603361 35.7555 \n\" style=\"fill: none; stroke: #000000; stroke-width: 0.8; stroke-linejoin: miter; stroke-linecap: square\"/>\n   </g>\n   <g id=\"patch_9\">\n    <path d=\"M 161.939496 106.091634 \nL 161.939496 35.7555 \n\" style=\"fill: none; stroke: #000000; stroke-width: 0.8; stroke-linejoin: miter; stroke-linecap: square\"/>\n   </g>\n   <g id=\"patch_10\">\n    <path d=\"M 91.603361 106.091634 \nL 161.939496 106.091634 \n\" style=\"fill: none; stroke: #000000; stroke-width: 0.8; stroke-linejoin: miter; stroke-linecap: square\"/>\n   </g>\n   <g id=\"patch_11\">\n    <path d=\"M 91.603361 35.7555 \nL 161.939496 35.7555 \n\" style=\"fill: none; stroke: #000000; stroke-width: 0.8; stroke-linejoin: miter; stroke-linecap: square\"/>\n   </g>\n   <g id=\"text_2\">\n    <!-- pullover -->\n    <g transform=\"translate(102.445179 16.318125) scale(0.12 -0.12)\">\n     <defs>\n      <path id=\"DejaVuSans-70\" d=\"M 1159 525 \nL 1159 -1331 \nL 581 -1331 \nL 581 3500 \nL 1159 3500 \nL 1159 2969 \nQ 1341 3281 1617 3432 \nQ 1894 3584 2278 3584 \nQ 2916 3584 3314 3078 \nQ 3713 2572 3713 1747 \nQ 3713 922 3314 415 \nQ 2916 -91 2278 -91 \nQ 1894 -91 1617 61 \nQ 1341 213 1159 525 \nz\nM 3116 1747 \nQ 3116 2381 2855 2742 \nQ 2594 3103 2138 3103 \nQ 1681 3103 1420 2742 \nQ 1159 2381 1159 1747 \nQ 1159 1113 1420 752 \nQ 1681 391 2138 391 \nQ 2594 391 2855 752 \nQ 3116 1113 3116 1747 \nz\n\" transform=\"scale(0.015625)\"/>\n      <path id=\"DejaVuSans-75\" d=\"M 544 1381 \nL 544 3500 \nL 1119 3500 \nL 1119 1403 \nQ 1119 906 1312 657 \nQ 1506 409 1894 409 \nQ 2359 409 2629 706 \nQ 2900 1003 2900 1516 \nL 2900 3500 \nL 3475 3500 \nL 3475 0 \nL 2900 0 \nL 2900 538 \nQ 2691 219 2414 64 \nQ 2138 -91 1772 -91 \nQ 1169 -91 856 284 \nQ 544 659 544 1381 \nz\nM 1991 3584 \nL 1991 3584 \nz\n\" transform=\"scale(0.015625)\"/>\n      <path id=\"DejaVuSans-76\" d=\"M 191 3500 \nL 800 3500 \nL 1894 563 \nL 2988 3500 \nL 3597 3500 \nL 2284 0 \nL 1503 0 \nL 191 3500 \nz\n\" transform=\"scale(0.015625)\"/>\n      <path id=\"DejaVuSans-72\" d=\"M 2631 2963 \nQ 2534 3019 2420 3045 \nQ 2306 3072 2169 3072 \nQ 1681 3072 1420 2755 \nQ 1159 2438 1159 1844 \nL 1159 0 \nL 581 0 \nL 581 3500 \nL 1159 3500 \nL 1159 2956 \nQ 1341 3275 1631 3429 \nQ 1922 3584 2338 3584 \nQ 2397 3584 2469 3576 \nQ 2541 3569 2628 3553 \nL 2631 2963 \nz\n\" transform=\"scale(0.015625)\"/>\n     </defs>\n     <use xlink:href=\"#DejaVuSans-70\"/>\n     <use xlink:href=\"#DejaVuSans-75\" x=\"63.476562\"/>\n     <use xlink:href=\"#DejaVuSans-6c\" x=\"126.855469\"/>\n     <use xlink:href=\"#DejaVuSans-6c\" x=\"154.638672\"/>\n     <use xlink:href=\"#DejaVuSans-6f\" x=\"182.421875\"/>\n     <use xlink:href=\"#DejaVuSans-76\" x=\"243.603516\"/>\n     <use xlink:href=\"#DejaVuSans-65\" x=\"302.783203\"/>\n     <use xlink:href=\"#DejaVuSans-72\" x=\"364.306641\"/>\n    </g>\n    <!-- pullover -->\n    <g transform=\"translate(102.445179 29.7555) scale(0.12 -0.12)\">\n     <use xlink:href=\"#DejaVuSans-70\"/>\n     <use xlink:href=\"#DejaVuSans-75\" x=\"63.476562\"/>\n     <use xlink:href=\"#DejaVuSans-6c\" x=\"126.855469\"/>\n     <use xlink:href=\"#DejaVuSans-6c\" x=\"154.638672\"/>\n     <use xlink:href=\"#DejaVuSans-6f\" x=\"182.421875\"/>\n     <use xlink:href=\"#DejaVuSans-76\" x=\"243.603516\"/>\n     <use xlink:href=\"#DejaVuSans-65\" x=\"302.783203\"/>\n     <use xlink:href=\"#DejaVuSans-72\" x=\"364.306641\"/>\n    </g>\n   </g>\n  </g>\n  <g id=\"axes_3\">\n   <g id=\"patch_12\">\n    <path d=\"M 176.006723 106.091634 \nL 246.342857 106.091634 \nL 246.342857 35.7555 \nL 176.006723 35.7555 \nz\n\" style=\"fill: #ffffff\"/>\n   </g>\n   <g clip-path=\"url(#pdc9f595431)\">\n    <image xlink:href=\"data:image/png;base64,\niVBORw0KGgoAAAANSUhEUgAAAGIAAABiCAYAAACrpQYOAAAF5UlEQVR4nO2dTWhcVRSA33uT92YyyUwy+SlpogRt/cGaGEsh1QpqCUXB6iYFLYK74koE3bsTlyrUheBOqAuLuAkWNypY/IlWalGjFqeRmoRmpslMJnmT9+funnsu3PFFMu+exflW584J90049/y8+zf2nD2fWARZee1R1A4faQh58ON+pCt99I22n60zs0L2zq0iXb1VFHLlfdxnfuH79F92H3AyfRqjhQ1BBDYEEXoyf6Jtg5zo09PJs9+h9tsHF4W8PttCuvnGq0JWY/vmC1tCvnbkU6RrJ4GQp359BenuWtB+ta7AHkEENgQRMg9Ndo8r5CTY1f7d6cErqP1Tuy3kS1szSNep1IwiGGvrEQ5pa5IuX7Mtk7BHEIENQQQ2BBEyzxFJFGl1jbPHhTzlfY10zRhKXdfW96Hy7OGfhVyPsS6yIC/0rSjKjGGPIAIbggjZv1kn+hBw6xlfyK0Yv3UXpery/OenkO6wpZ993YmgXM5ZuE+5HeW5fGUsNgQZ2BBEMJAj9DOuHx7/QMibsYt0bg5mSscup19UnMhvaHVy+dqucI5gLDYEGbIPTR2oxX1CHnbwTGldKmfLS5tI1+md+Mn+X4TsJzmkm/YKQt7Dy3pXYI8gAhuCCGwIIhjNEbkH7kXte1yYcf07LCNdLYT8EV/9LfUzSjaUvbGlL1E5RzCWZbEhyGA0NK08MYLaow6EjrqNNxYc9ZpCfncPz7jbhTf0pUAff2yz60LsEVRgQxCBDUEEozmieWIHtX1p9a7k4BzxxtrjUiuw0pK3IUf4HSZtE8NDkj2CCGwIIhgNTc8fWUTtjRjGxZCDS82FpQeFfMjC+2LTUo/6lU9gP22U/19d7hvsEURgQxCBDUEEoznisf7fUTuQxoWvbETr+bM3VZ9OoaDVFWx92duznar7rsEeQQQ2BBGMhqanim3U/mIHbgIYchtI1x5L9zZte55W5yeu8gk8X1p3MgJ7BBHYEERgQxCB1AazXWkDmLpgNj5ZS9XH9on7UHszviTkRjyg/LWUI4qWUdgjiMCGIAKp0NTnQKioR7jUfGkSjmddtA5o+1h+Go+tog3lbJCQ+ncR7BFEYEMQgQ1BBFJBUz5u20jwktmLpaqQO+WIwjg+VxEksNKX63iSwizsEURgQxCBVGiSacZ4gacoDRmniF+D421Y1Tk2sYx07SQUctRh3AVlvhSFsdgQZGBDEMHs+YhwC7VdaTqiFas7vuDmmo3nppGmfAGmP9654zOscyDX+LG6QgdEQ+n303YD9ggisCGIYDQ0XfbHUft+b03I6iVXMs0zTdQuXwC5ksOlrXxf7GCuw+alnZxelwHsEURgQxCBDUEEozliyT+I2kfz/wjZtUOkW5ZK3TenPkG68xa+wUDGl1blCo7+LnJn1+yYZI8gAhuCCEZD08UbD6H2uZkfhewpt5RUQzh2dbK3jnRf/gDj6XaES9RdC8pZdfPAdgyhKqnow1YWsEcQgQ1BBDYEEYzmiNaVYdR2H4ZxcTOoIN1MAVbeboR4+uP10a+E/G0b9ynjKJsHViLIC5Pj6fbWdgv2CCKwIYhgNDSNXMWhYsCBk6OjPfjolnx9dC3GJ0yrISz+qLO2cjiKLbwwVJMWn0Z78SIVvlm2+7BHEIENQQQ2BBGM5oiBxRWtruz4qC1vOOtTLl6UbxRQNx140lWv6uaBYek8xvXbuOwdsbItZ9kjiMCGIILR0BRWl7W6khKaWslebhQA5AUmR7nc9ZALM7r19RLS4Rtpuw97BBHYEERgQxCB1PkIeYOAa+Ov9oc/JuQ7XVxayvlkNcS3C9QDyAPq7KuMd1Ofg7KAPYIIbAgiZB+aHGmPaYw3CLy1Nifk9ybwD8FOe6vaLq8HENKOefitu+hAyFGPAVgWhK3BJW33mcAeQQQ2BBHYEESw5+z59L/Aui9PlKZDlR+Qbc3PCjn/Mp6ZrV6DsxTOATz94fwFK3ZhH+4zGYSZ2STA425y8hY871T1P754d2GPIAIbggj/AoACdMTn3stBAAAAAElFTkSuQmCC\" id=\"image8753f87e73\" transform=\"scale(1 -1) translate(0 -70.56)\" x=\"176.006723\" y=\"-35.531634\" width=\"70.56\" height=\"70.56\"/>\n   </g>\n   <g id=\"patch_13\">\n    <path d=\"M 176.006723 106.091634 \nL 176.006723 35.7555 \n\" style=\"fill: none; stroke: #000000; stroke-width: 0.8; stroke-linejoin: miter; stroke-linecap: square\"/>\n   </g>\n   <g id=\"patch_14\">\n    <path d=\"M 246.342857 106.091634 \nL 246.342857 35.7555 \n\" style=\"fill: none; stroke: #000000; stroke-width: 0.8; stroke-linejoin: miter; stroke-linecap: square\"/>\n   </g>\n   <g id=\"patch_15\">\n    <path d=\"M 176.006723 106.091634 \nL 246.342857 106.091634 \n\" style=\"fill: none; stroke: #000000; stroke-width: 0.8; stroke-linejoin: miter; stroke-linecap: square\"/>\n   </g>\n   <g id=\"patch_16\">\n    <path d=\"M 176.006723 35.7555 \nL 246.342857 35.7555 \n\" style=\"fill: none; stroke: #000000; stroke-width: 0.8; stroke-linejoin: miter; stroke-linecap: square\"/>\n   </g>\n   <g id=\"text_3\">\n    <!-- trouser -->\n    <g transform=\"translate(189.733227 16.318125) scale(0.12 -0.12)\">\n     <defs>\n      <path id=\"DejaVuSans-73\" d=\"M 2834 3397 \nL 2834 2853 \nQ 2591 2978 2328 3040 \nQ 2066 3103 1784 3103 \nQ 1356 3103 1142 2972 \nQ 928 2841 928 2578 \nQ 928 2378 1081 2264 \nQ 1234 2150 1697 2047 \nL 1894 2003 \nQ 2506 1872 2764 1633 \nQ 3022 1394 3022 966 \nQ 3022 478 2636 193 \nQ 2250 -91 1575 -91 \nQ 1294 -91 989 -36 \nQ 684 19 347 128 \nL 347 722 \nQ 666 556 975 473 \nQ 1284 391 1588 391 \nQ 1994 391 2212 530 \nQ 2431 669 2431 922 \nQ 2431 1156 2273 1281 \nQ 2116 1406 1581 1522 \nL 1381 1569 \nQ 847 1681 609 1914 \nQ 372 2147 372 2553 \nQ 372 3047 722 3315 \nQ 1072 3584 1716 3584 \nQ 2034 3584 2315 3537 \nQ 2597 3491 2834 3397 \nz\n\" transform=\"scale(0.015625)\"/>\n     </defs>\n     <use xlink:href=\"#DejaVuSans-74\"/>\n     <use xlink:href=\"#DejaVuSans-72\" x=\"39.208984\"/>\n     <use xlink:href=\"#DejaVuSans-6f\" x=\"78.072266\"/>\n     <use xlink:href=\"#DejaVuSans-75\" x=\"139.253906\"/>\n     <use xlink:href=\"#DejaVuSans-73\" x=\"202.632812\"/>\n     <use xlink:href=\"#DejaVuSans-65\" x=\"254.732422\"/>\n     <use xlink:href=\"#DejaVuSans-72\" x=\"316.255859\"/>\n    </g>\n    <!-- trouser -->\n    <g transform=\"translate(189.733227 29.7555) scale(0.12 -0.12)\">\n     <use xlink:href=\"#DejaVuSans-74\"/>\n     <use xlink:href=\"#DejaVuSans-72\" x=\"39.208984\"/>\n     <use xlink:href=\"#DejaVuSans-6f\" x=\"78.072266\"/>\n     <use xlink:href=\"#DejaVuSans-75\" x=\"139.253906\"/>\n     <use xlink:href=\"#DejaVuSans-73\" x=\"202.632812\"/>\n     <use xlink:href=\"#DejaVuSans-65\" x=\"254.732422\"/>\n     <use xlink:href=\"#DejaVuSans-72\" x=\"316.255859\"/>\n    </g>\n   </g>\n  </g>\n  <g id=\"axes_4\">\n   <g id=\"patch_17\">\n    <path d=\"M 260.410084 106.091634 \nL 330.746218 106.091634 \nL 330.746218 35.7555 \nL 260.410084 35.7555 \nz\n\" style=\"fill: #ffffff\"/>\n   </g>\n   <g clip-path=\"url(#pa012ce08d4)\">\n    <image xlink:href=\"data:image/png;base64,\niVBORw0KGgoAAAANSUhEUgAAAGIAAABiCAYAAACrpQYOAAAGC0lEQVR4nO2dz28bRRTHd9e7trN24kLihiZxWiJcoNBWpEUCFVRaVVTihFDDgQvqhQMS/wB/Qg9cKw5IwA2BkOBGJQSHgFSKUEoJShNKC4gmStI4juMfa3t3uc3Md6QNJko8T+J9Tm/6nNndvnnvzc6+2bUv2JdiiwjuxLiQax+kQVf5+pCQx65833OfSx+eStSVL/8kG7HZ/wbH6NEZARuCCGwIIrimT0DlzluTQl44fhV0lwsvCvn+ld77fO/MJ0I+m10F3etn3hayMzvXe6f7AHsEEdgQRCAVmsKMlNfDOujSTndXfa50CkL+y1sHXe1wVsiF2V11v2ewRxCBDUEENgQRSOWI8+fmhLwRoc6ztX9IIDX8MLTLmVuyDwv7qE3KcViwzMIeQQQ2BBFIhabnh+4IeTPC1deBVLu3Tg4OQzNrd4TciPFyW8Xewl0/YI8gAhuCCGwIIpDKEd9Vy0KeKuJKaSdOKa3k5Y6wMABtzw4T+rCsaIBzBKPBhiACqdBUTNeEvNYdAt2It620slYSUUYLP7Eca20LdZZLpm6CPYIKbAgisCGIQCpHFNymkGsR5gHfUZc4knNE6OHYytpyqvsgzIHuwMGaRQX2CCKwIYhgNjTZNjSr3YGEH/ZOKsC75XrsCfl2awx0nVCbzhqEPYIIbAgisCGIYDZHaHsSgkiezpd/HwfdZ8c+FvK3uYugi+qyGC3Spq8LgcwL78+/ADpnPv8fT3j/YI8gAhuCCKTurD+/cVrIIz/g1PK1mTeF7LwyArr8p9eFvH4iA7pbjQkhl67i5cZOsPuT3WPYI4jAhiACG4IIpHKEtyHzQvAQLn9U5otCTj+O40edhG6dxLj/45rcDtYpYf7ILfdYtNYH2COIwIYgAqnQpO7OymzgXXezKENVJ5/80P/Z8j1o392UtbADWyHo0lUZmkyXEbBHEIENQQQ2BBGM5gjbxcN3fRmp7Qinr44S3tujHSuJN0avQ/vdlVeFnGtjJnAaMkdg9ug/7BFEYEMQwWhocgpY3xr68sF/J6+dWiTDSqriWUmU3A1ot9uynzCL4y4Ylffk7vy/n+9+wh5BBDYEEdgQRDCaI6Ijh6DttJVxoa05uA05nY132NdQj3FbsO/L1dhgCAvYMhXTCxsS9ggisCGIYDQ0tUZ9aMfKzbQdaXfBHakMM8khZcrdhnasdBpq1fzbEzKMFRytDjbq7702ewQR2BBEYEMQwWiOiFO4whp7yt4GW4vZyk+jXHL8LqawQEBd4rBzeLyUUmdge1rxWcA54n8JG4IIRkNTx9fGgaOuvmIY6Soz3VQeX4oSvjSttG7gMVryEl1t+qq+Z9bJYEgLg/7WxbJHEIENQQQ2BBHM5ghtOuk05LiItSHiL8tljcoU/t3qtAz+jja24qa8REerObDVGaqWI/oNewQR2BBEMBqavAauokZK8YC/guHHDZJXXNWa2UrUQqXyZ6EWfZRNrFZcx88k9Bv2CCKwIYjAhiCC0RxReQLHgVeReaE+jjlCfXz33GN3QfX0M/eFnLex+OzA2JaQN51B0Nmh/K09qL2FoNHY4cz3HvYIIrAhiGD2wZCDU9LuuFzxPDq5DDrHlr99eRgLVYuuDD+zLXxv31PFFSGXj/wMuo8C+ZFBq6lNe/sMewQR2BBEYEMQwWyO0Gao544uCnlmBJ+03WzKNwiE2tLsL82SkDPaEms5Jz9/cNL/E3SFw1XZSCfvuegH7BFEYEMQweyDoRK+lMRVto56NhYIqCGn5D3AfpQvpVRDrKc9m18Q8nwwDrpIiY2t6UdB513DY+w37BFEYEMQgQ1BBLNvHtjAKeOpwT+E/GtrAnSVrly6WLIfSexzsT4K7dP+70K+18KXMqrLJmsncMvX2LXEQ+wL7BFEYEMQwWhoyq7jOJjJ/ybkm218UPPN9pNCPu/fBt1X9WNCXqoWQbc0JMOY+sUWy7KszRX5oKhg+PV+7BFEYEMQgQ1BBPuCfcnY9nu3hFPUxXfkKqq3pW2z2uEBWqaqXIJ2Nep3YsM09umvyoK2whdzoIta/X1ixx5BBDYEEf4BDFpjqLetbBwAAAAASUVORK5CYII=\" id=\"imagec48b1098ae\" transform=\"scale(1 -1) translate(0 -70.56)\" x=\"260.410084\" y=\"-35.531634\" width=\"70.56\" height=\"70.56\"/>\n   </g>\n   <g id=\"patch_18\">\n    <path d=\"M 260.410084 106.091634 \nL 260.410084 35.7555 \n\" style=\"fill: none; stroke: #000000; stroke-width: 0.8; stroke-linejoin: miter; stroke-linecap: square\"/>\n   </g>\n   <g id=\"patch_19\">\n    <path d=\"M 330.746218 106.091634 \nL 330.746218 35.7555 \n\" style=\"fill: none; stroke: #000000; stroke-width: 0.8; stroke-linejoin: miter; stroke-linecap: square\"/>\n   </g>\n   <g id=\"patch_20\">\n    <path d=\"M 260.410084 106.091634 \nL 330.746218 106.091634 \n\" style=\"fill: none; stroke: #000000; stroke-width: 0.8; stroke-linejoin: miter; stroke-linecap: square\"/>\n   </g>\n   <g id=\"patch_21\">\n    <path d=\"M 260.410084 35.7555 \nL 330.746218 35.7555 \n\" style=\"fill: none; stroke: #000000; stroke-width: 0.8; stroke-linejoin: miter; stroke-linecap: square\"/>\n   </g>\n   <g id=\"text_4\">\n    <!-- trouser -->\n    <g transform=\"translate(274.136589 16.318125) scale(0.12 -0.12)\">\n     <use xlink:href=\"#DejaVuSans-74\"/>\n     <use xlink:href=\"#DejaVuSans-72\" x=\"39.208984\"/>\n     <use xlink:href=\"#DejaVuSans-6f\" x=\"78.072266\"/>\n     <use xlink:href=\"#DejaVuSans-75\" x=\"139.253906\"/>\n     <use xlink:href=\"#DejaVuSans-73\" x=\"202.632812\"/>\n     <use xlink:href=\"#DejaVuSans-65\" x=\"254.732422\"/>\n     <use xlink:href=\"#DejaVuSans-72\" x=\"316.255859\"/>\n    </g>\n    <!-- trouser -->\n    <g transform=\"translate(274.136589 29.7555) scale(0.12 -0.12)\">\n     <use xlink:href=\"#DejaVuSans-74\"/>\n     <use xlink:href=\"#DejaVuSans-72\" x=\"39.208984\"/>\n     <use xlink:href=\"#DejaVuSans-6f\" x=\"78.072266\"/>\n     <use xlink:href=\"#DejaVuSans-75\" x=\"139.253906\"/>\n     <use xlink:href=\"#DejaVuSans-73\" x=\"202.632812\"/>\n     <use xlink:href=\"#DejaVuSans-65\" x=\"254.732422\"/>\n     <use xlink:href=\"#DejaVuSans-72\" x=\"316.255859\"/>\n    </g>\n   </g>\n  </g>\n  <g id=\"axes_5\">\n   <g id=\"patch_22\">\n    <path d=\"M 344.813445 106.091634 \nL 415.14958 106.091634 \nL 415.14958 35.7555 \nL 344.813445 35.7555 \nz\n\" style=\"fill: #ffffff\"/>\n   </g>\n   <g clip-path=\"url(#pec828254fa)\">\n    <image xlink:href=\"data:image/png;base64,\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\" id=\"imagedfcd9f99b5\" transform=\"scale(1 -1) translate(0 -70.56)\" x=\"344.813445\" y=\"-35.531634\" width=\"70.56\" height=\"70.56\"/>\n   </g>\n   <g id=\"patch_23\">\n    <path d=\"M 344.813445 106.091634 \nL 344.813445 35.7555 \n\" style=\"fill: none; stroke: #000000; stroke-width: 0.8; stroke-linejoin: miter; stroke-linecap: square\"/>\n   </g>\n   <g id=\"patch_24\">\n    <path d=\"M 415.14958 106.091634 \nL 415.14958 35.7555 \n\" style=\"fill: none; stroke: #000000; stroke-width: 0.8; stroke-linejoin: miter; stroke-linecap: square\"/>\n   </g>\n   <g id=\"patch_25\">\n    <path d=\"M 344.813445 106.091634 \nL 415.14958 106.091634 \n\" style=\"fill: none; stroke: #000000; stroke-width: 0.8; stroke-linejoin: miter; stroke-linecap: square\"/>\n   </g>\n   <g id=\"patch_26\">\n    <path d=\"M 344.813445 35.7555 \nL 415.14958 35.7555 \n\" style=\"fill: none; stroke: #000000; stroke-width: 0.8; stroke-linejoin: miter; stroke-linecap: square\"/>\n   </g>\n   <g id=\"text_5\">\n    <!-- shirt -->\n    <g transform=\"translate(366.567763 16.318125) scale(0.12 -0.12)\">\n     <defs>\n      <path id=\"DejaVuSans-68\" d=\"M 3513 2113 \nL 3513 0 \nL 2938 0 \nL 2938 2094 \nQ 2938 2591 2744 2837 \nQ 2550 3084 2163 3084 \nQ 1697 3084 1428 2787 \nQ 1159 2491 1159 1978 \nL 1159 0 \nL 581 0 \nL 581 4863 \nL 1159 4863 \nL 1159 2956 \nQ 1366 3272 1645 3428 \nQ 1925 3584 2291 3584 \nQ 2894 3584 3203 3211 \nQ 3513 2838 3513 2113 \nz\n\" transform=\"scale(0.015625)\"/>\n      <path id=\"DejaVuSans-69\" d=\"M 603 3500 \nL 1178 3500 \nL 1178 0 \nL 603 0 \nL 603 3500 \nz\nM 603 4863 \nL 1178 4863 \nL 1178 4134 \nL 603 4134 \nL 603 4863 \nz\n\" transform=\"scale(0.015625)\"/>\n     </defs>\n     <use xlink:href=\"#DejaVuSans-73\"/>\n     <use xlink:href=\"#DejaVuSans-68\" x=\"52.099609\"/>\n     <use xlink:href=\"#DejaVuSans-69\" x=\"115.478516\"/>\n     <use xlink:href=\"#DejaVuSans-72\" x=\"143.261719\"/>\n     <use xlink:href=\"#DejaVuSans-74\" x=\"184.375\"/>\n    </g>\n    <!-- shirt -->\n    <g transform=\"translate(366.567763 29.7555) scale(0.12 -0.12)\">\n     <use xlink:href=\"#DejaVuSans-73\"/>\n     <use xlink:href=\"#DejaVuSans-68\" x=\"52.099609\"/>\n     <use xlink:href=\"#DejaVuSans-69\" x=\"115.478516\"/>\n     <use xlink:href=\"#DejaVuSans-72\" x=\"143.261719\"/>\n     <use xlink:href=\"#DejaVuSans-74\" x=\"184.375\"/>\n    </g>\n   </g>\n  </g>\n  <g id=\"axes_6\">\n   <g id=\"patch_27\">\n    <path d=\"M 429.216807 106.091634 \nL 499.552941 106.091634 \nL 499.552941 35.7555 \nL 429.216807 35.7555 \nz\n\" style=\"fill: #ffffff\"/>\n   </g>\n   <g clip-path=\"url(#p97752d849d)\">\n    <image xlink:href=\"data:image/png;base64,\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\" id=\"imagef7706eb21b\" transform=\"scale(1 -1) translate(0 -70.56)\" x=\"429.216807\" y=\"-35.531634\" width=\"70.56\" height=\"70.56\"/>\n   </g>\n   <g id=\"patch_28\">\n    <path d=\"M 429.216807 106.091634 \nL 429.216807 35.7555 \n\" style=\"fill: none; stroke: #000000; stroke-width: 0.8; stroke-linejoin: miter; stroke-linecap: square\"/>\n   </g>\n   <g id=\"patch_29\">\n    <path d=\"M 499.552941 106.091634 \nL 499.552941 35.7555 \n\" style=\"fill: none; stroke: #000000; stroke-width: 0.8; stroke-linejoin: miter; stroke-linecap: square\"/>\n   </g>\n   <g id=\"patch_30\">\n    <path d=\"M 429.216807 106.091634 \nL 499.552941 106.091634 \n\" style=\"fill: none; stroke: #000000; stroke-width: 0.8; stroke-linejoin: miter; stroke-linecap: square\"/>\n   </g>\n   <g id=\"patch_31\">\n    <path d=\"M 429.216807 35.7555 \nL 499.552941 35.7555 \n\" style=\"fill: none; stroke: #000000; stroke-width: 0.8; stroke-linejoin: miter; stroke-linecap: square\"/>\n   </g>\n   <g id=\"text_6\">\n    <!-- trouser -->\n    <g transform=\"translate(442.943311 16.318125) scale(0.12 -0.12)\">\n     <use xlink:href=\"#DejaVuSans-74\"/>\n     <use xlink:href=\"#DejaVuSans-72\" x=\"39.208984\"/>\n     <use xlink:href=\"#DejaVuSans-6f\" x=\"78.072266\"/>\n     <use xlink:href=\"#DejaVuSans-75\" x=\"139.253906\"/>\n     <use xlink:href=\"#DejaVuSans-73\" x=\"202.632812\"/>\n     <use xlink:href=\"#DejaVuSans-65\" x=\"254.732422\"/>\n     <use xlink:href=\"#DejaVuSans-72\" x=\"316.255859\"/>\n    </g>\n    <!-- trouser -->\n    <g transform=\"translate(442.943311 29.7555) scale(0.12 -0.12)\">\n     <use xlink:href=\"#DejaVuSans-74\"/>\n     <use xlink:href=\"#DejaVuSans-72\" x=\"39.208984\"/>\n     <use xlink:href=\"#DejaVuSans-6f\" x=\"78.072266\"/>\n     <use xlink:href=\"#DejaVuSans-75\" x=\"139.253906\"/>\n     <use xlink:href=\"#DejaVuSans-73\" x=\"202.632812\"/>\n     <use xlink:href=\"#DejaVuSans-65\" x=\"254.732422\"/>\n     <use xlink:href=\"#DejaVuSans-72\" x=\"316.255859\"/>\n    </g>\n   </g>\n  </g>\n  <g id=\"axes_7\">\n   <g id=\"patch_32\">\n    <path d=\"M 513.620168 106.091634 \nL 583.956303 106.091634 \nL 583.956303 35.7555 \nL 513.620168 35.7555 \nz\n\" style=\"fill: #ffffff\"/>\n   </g>\n   <g clip-path=\"url(#p264819cae5)\">\n    <image xlink:href=\"data:image/png;base64,\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\" id=\"imageafca74975b\" transform=\"scale(1 -1) translate(0 -70.56)\" x=\"513.620168\" y=\"-35.531634\" width=\"70.56\" height=\"70.56\"/>\n   </g>\n   <g id=\"patch_33\">\n    <path d=\"M 513.620168 106.091634 \nL 513.620168 35.7555 \n\" style=\"fill: none; stroke: #000000; stroke-width: 0.8; stroke-linejoin: miter; stroke-linecap: square\"/>\n   </g>\n   <g id=\"patch_34\">\n    <path d=\"M 583.956303 106.091634 \nL 583.956303 35.7555 \n\" style=\"fill: none; stroke: #000000; stroke-width: 0.8; stroke-linejoin: miter; stroke-linecap: square\"/>\n   </g>\n   <g id=\"patch_35\">\n    <path d=\"M 513.620168 106.091634 \nL 583.956303 106.091634 \n\" style=\"fill: none; stroke: #000000; stroke-width: 0.8; stroke-linejoin: miter; stroke-linecap: square\"/>\n   </g>\n   <g id=\"patch_36\">\n    <path d=\"M 513.620168 35.7555 \nL 583.956303 35.7555 \n\" style=\"fill: none; stroke: #000000; stroke-width: 0.8; stroke-linejoin: miter; stroke-linecap: square\"/>\n   </g>\n   <g id=\"text_7\">\n    <!-- coat -->\n    <g transform=\"translate(535.78886 16.318125) scale(0.12 -0.12)\">\n     <defs>\n      <path id=\"DejaVuSans-63\" d=\"M 3122 3366 \nL 3122 2828 \nQ 2878 2963 2633 3030 \nQ 2388 3097 2138 3097 \nQ 1578 3097 1268 2742 \nQ 959 2388 959 1747 \nQ 959 1106 1268 751 \nQ 1578 397 2138 397 \nQ 2388 397 2633 464 \nQ 2878 531 3122 666 \nL 3122 134 \nQ 2881 22 2623 -34 \nQ 2366 -91 2075 -91 \nQ 1284 -91 818 406 \nQ 353 903 353 1747 \nQ 353 2603 823 3093 \nQ 1294 3584 2113 3584 \nQ 2378 3584 2631 3529 \nQ 2884 3475 3122 3366 \nz\n\" transform=\"scale(0.015625)\"/>\n     </defs>\n     <use xlink:href=\"#DejaVuSans-63\"/>\n     <use xlink:href=\"#DejaVuSans-6f\" x=\"54.980469\"/>\n     <use xlink:href=\"#DejaVuSans-61\" x=\"116.162109\"/>\n     <use xlink:href=\"#DejaVuSans-74\" x=\"177.441406\"/>\n    </g>\n    <!-- coat -->\n    <g transform=\"translate(535.78886 29.7555) scale(0.12 -0.12)\">\n     <use xlink:href=\"#DejaVuSans-63\"/>\n     <use xlink:href=\"#DejaVuSans-6f\" x=\"54.980469\"/>\n     <use xlink:href=\"#DejaVuSans-61\" x=\"116.162109\"/>\n     <use xlink:href=\"#DejaVuSans-74\" x=\"177.441406\"/>\n    </g>\n   </g>\n  </g>\n  <g id=\"axes_8\">\n   <g id=\"patch_37\">\n    <path d=\"M 598.023529 106.091634 \nL 668.359664 106.091634 \nL 668.359664 35.7555 \nL 598.023529 35.7555 \nz\n\" style=\"fill: #ffffff\"/>\n   </g>\n   <g clip-path=\"url(#p6477318da9)\">\n    <image xlink:href=\"data:image/png;base64,\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\" id=\"image1cb356b0f5\" transform=\"scale(1 -1) translate(0 -70.56)\" x=\"598.023529\" y=\"-35.531634\" width=\"70.56\" height=\"70.56\"/>\n   </g>\n   <g id=\"patch_38\">\n    <path d=\"M 598.023529 106.091634 \nL 598.023529 35.7555 \n\" style=\"fill: none; stroke: #000000; stroke-width: 0.8; stroke-linejoin: miter; stroke-linecap: square\"/>\n   </g>\n   <g id=\"patch_39\">\n    <path d=\"M 668.359664 106.091634 \nL 668.359664 35.7555 \n\" style=\"fill: none; stroke: #000000; stroke-width: 0.8; stroke-linejoin: miter; stroke-linecap: square\"/>\n   </g>\n   <g id=\"patch_40\">\n    <path d=\"M 598.023529 106.091634 \nL 668.359664 106.091634 \n\" style=\"fill: none; stroke: #000000; stroke-width: 0.8; stroke-linejoin: miter; stroke-linecap: square\"/>\n   </g>\n   <g id=\"patch_41\">\n    <path d=\"M 598.023529 35.7555 \nL 668.359664 35.7555 \n\" style=\"fill: none; stroke: #000000; stroke-width: 0.8; stroke-linejoin: miter; stroke-linecap: square\"/>\n   </g>\n   <g id=\"text_8\">\n    <!-- shirt -->\n    <g transform=\"translate(619.777847 16.318125) scale(0.12 -0.12)\">\n     <use xlink:href=\"#DejaVuSans-73\"/>\n     <use xlink:href=\"#DejaVuSans-68\" x=\"52.099609\"/>\n     <use xlink:href=\"#DejaVuSans-69\" x=\"115.478516\"/>\n     <use xlink:href=\"#DejaVuSans-72\" x=\"143.261719\"/>\n     <use xlink:href=\"#DejaVuSans-74\" x=\"184.375\"/>\n    </g>\n    <!-- shirt -->\n    <g transform=\"translate(619.777847 29.7555) scale(0.12 -0.12)\">\n     <use xlink:href=\"#DejaVuSans-73\"/>\n     <use xlink:href=\"#DejaVuSans-68\" x=\"52.099609\"/>\n     <use xlink:href=\"#DejaVuSans-69\" x=\"115.478516\"/>\n     <use xlink:href=\"#DejaVuSans-72\" x=\"143.261719\"/>\n     <use xlink:href=\"#DejaVuSans-74\" x=\"184.375\"/>\n    </g>\n   </g>\n  </g>\n  <g id=\"axes_9\">\n   <g id=\"patch_42\">\n    <path d=\"M 682.426891 106.091634 \nL 752.763025 106.091634 \nL 752.763025 35.7555 \nL 682.426891 35.7555 \nz\n\" style=\"fill: #ffffff\"/>\n   </g>\n   <g clip-path=\"url(#pf53cf04841)\">\n    <image xlink:href=\"data:image/png;base64,\niVBORw0KGgoAAAANSUhEUgAAAGIAAABiCAYAAACrpQYOAAADYUlEQVR4nO2cv08TYRjH+94dWIraHGKliGBcBGNigooDLiYdNMRJSZxNjNHJjUVH/wMnNwcX46QLDMZRo0aJDkokTauoBbHhR1oKXO8cTN6nT83hLwzf4fuZnjffe+/e9HPve28vaU3OnI8SZMtxtnoA5AcUAQJFgEARIFAECBQBAkWAQBEgUAQIFAECRYBAESBQBAgUAQJFgEARIFAECBQBAkWAQBEgUAQIFAECRYBAESBQBAgUAQJFgEARIFAECBQBAkWAQBEgUAQIFAECRYBAESBQBAgUAYLn7snYRjl3QIUrGfFU6da/Ajah1G1zRmXVrvhfDIfbpKOzpvt5VWk3nzOdX7d1+7uvKgvyhdjr/S1u5y5prK3rsLUlvqNpuLcdE3tYfXZOtTkjQKAIELxEeoc0anpJ6XgrUzLzIlCZCeXY9xc9lR26OW/rSv9uldV819ZBUk/dsGHGR66KEsWGP0jozLSqbHH5iIwrn1JZ+4zU/tSaypJ5WeKKF3pUVh2oSWNZL0UmkHFHjv7MIq+h3XSbezvl+tl7+1XGGQECRYBAESCYzfh3monPk6o9cvS0rYMvpX89/S9xDvfbOn9DPz9GD76yddqrquzTqm/riQdDKkuV5GOpdcRvQ6OmW1k925q6hS1yzn2PVlXGGQECRYBgcs6onS/G1XvGqF6P7xnJNKufGtQnvS7bwunpLpX5k7LVzTxdUpk7v2jrmXO9KqsMybJyrO+DymarsgU/m32jssG2gq3vl4+r7NktGbd/50liK+GMAIEiQKAIENS7iZ+eCVH8ztZ40tV9/FJllY4Ttu67PKuykWFZw7uvLahsoS6vJx6W9LUH/Y+2Hr89rAdzpmzLk+1TKhq7ctXWrePPVeYn4p8LTjJp67BWiz1us+CMAIEiQNiUb9Yb4e3tVu2Vgaytg+16u7zUK8td52u9HBQuyTB77uq3vamibIPNtwWVBSW9NCqchuuHG2zVmzENX5k3WL7/BM4IECgCBIoA4b8/I8jvwRkBAkWAQBEgUAQIFAECRYBAESBQBAgUAQJFgEARIFAECBQBAkWAQBEgUAQIFAECRYBAESBQBAgUAQJFgEARIFAECBQBAkWAQBEgUAQIFAECRYBAESBQBAgUAQJFgEARIFAECBQBwneMU6jY7tLiJAAAAABJRU5ErkJggg==\" id=\"image49a7334b58\" transform=\"scale(1 -1) translate(0 -70.56)\" x=\"682.426891\" y=\"-35.531634\" width=\"70.56\" height=\"70.56\"/>\n   </g>\n   <g id=\"patch_43\">\n    <path d=\"M 682.426891 106.091634 \nL 682.426891 35.7555 \n\" style=\"fill: none; stroke: #000000; stroke-width: 0.8; stroke-linejoin: miter; stroke-linecap: square\"/>\n   </g>\n   <g id=\"patch_44\">\n    <path d=\"M 752.763025 106.091634 \nL 752.763025 35.7555 \n\" style=\"fill: none; stroke: #000000; stroke-width: 0.8; stroke-linejoin: miter; stroke-linecap: square\"/>\n   </g>\n   <g id=\"patch_45\">\n    <path d=\"M 682.426891 106.091634 \nL 752.763025 106.091634 \n\" style=\"fill: none; stroke: #000000; stroke-width: 0.8; stroke-linejoin: miter; stroke-linecap: square\"/>\n   </g>\n   <g id=\"patch_46\">\n    <path d=\"M 682.426891 35.7555 \nL 752.763025 35.7555 \n\" style=\"fill: none; stroke: #000000; stroke-width: 0.8; stroke-linejoin: miter; stroke-linecap: square\"/>\n   </g>\n   <g id=\"text_9\">\n    <!-- sandal -->\n    <g transform=\"translate(697.837145 16.318125) scale(0.12 -0.12)\">\n     <defs>\n      <path id=\"DejaVuSans-64\" d=\"M 2906 2969 \nL 2906 4863 \nL 3481 4863 \nL 3481 0 \nL 2906 0 \nL 2906 525 \nQ 2725 213 2448 61 \nQ 2172 -91 1784 -91 \nQ 1150 -91 751 415 \nQ 353 922 353 1747 \nQ 353 2572 751 3078 \nQ 1150 3584 1784 3584 \nQ 2172 3584 2448 3432 \nQ 2725 3281 2906 2969 \nz\nM 947 1747 \nQ 947 1113 1208 752 \nQ 1469 391 1925 391 \nQ 2381 391 2643 752 \nQ 2906 1113 2906 1747 \nQ 2906 2381 2643 2742 \nQ 2381 3103 1925 3103 \nQ 1469 3103 1208 2742 \nQ 947 2381 947 1747 \nz\n\" transform=\"scale(0.015625)\"/>\n     </defs>\n     <use xlink:href=\"#DejaVuSans-73\"/>\n     <use xlink:href=\"#DejaVuSans-61\" x=\"52.099609\"/>\n     <use xlink:href=\"#DejaVuSans-6e\" x=\"113.378906\"/>\n     <use xlink:href=\"#DejaVuSans-64\" x=\"176.757812\"/>\n     <use xlink:href=\"#DejaVuSans-61\" x=\"240.234375\"/>\n     <use xlink:href=\"#DejaVuSans-6c\" x=\"301.513672\"/>\n    </g>\n    <!-- sandal -->\n    <g transform=\"translate(697.837145 29.7555) scale(0.12 -0.12)\">\n     <use xlink:href=\"#DejaVuSans-73\"/>\n     <use xlink:href=\"#DejaVuSans-61\" x=\"52.099609\"/>\n     <use xlink:href=\"#DejaVuSans-6e\" x=\"113.378906\"/>\n     <use xlink:href=\"#DejaVuSans-64\" x=\"176.757812\"/>\n     <use xlink:href=\"#DejaVuSans-61\" x=\"240.234375\"/>\n     <use xlink:href=\"#DejaVuSans-6c\" x=\"301.513672\"/>\n    </g>\n   </g>\n  </g>\n  <g id=\"axes_10\">\n   <g id=\"patch_47\">\n    <path d=\"M 766.830252 106.091634 \nL 837.166387 106.091634 \nL 837.166387 35.7555 \nL 766.830252 35.7555 \nz\n\" style=\"fill: #ffffff\"/>\n   </g>\n   <g clip-path=\"url(#p151198fae2)\">\n    <image xlink:href=\"data:image/png;base64,\niVBORw0KGgoAAAANSUhEUgAAAGIAAABiCAYAAACrpQYOAAAFxklEQVR4nO2cTWxUVRTH75s3M+91ZtqZcTqlpUApUrQEsGKkoKkGIhs0Ygg7N2pM1ITUxMREV6782GiMOxcmmqgrXNREDRESkRgIKpXgB2BTC2LboaUf89XpfLznQr3n/gemaWqQk3h+q3Pzf3fe7fzfPffMfTe1HrIO+kq45QRu9QCEvxAjmCBGMEGMYIIYwQQxggliBBPECCaIEUwQI5ggRjBBjGCCGMEEMYIJYgQTxAgmiBFMECOYIEYwQYxgghjBBDGCCWIEE8QIJogRTBAjmCBGMCG40o6Bvs06rkXDDa/LdbnQdq9VdVxK4e2rjqVjJ+uBZpfpiK7l4XHdUJ4+0y5UQPNCtjFoC7SaQ5pdqoJWTtLf5EyVQPONzyzHQ6oR4Xkci10o07jO/gKazAgmiBFMECOYAEnavmMjiPN3terYq1tNAhXK0+4M5tfwqfM6dlo2g+ZO5Om6I+dBC7i0nlhrOkDzEtHrR/83tSjl6VK6CUVjWQhUcW1xf5vRcW5rGrRimp5RN4P9fJ/aznTd+mFTv2ozrh/FdkfHTc19oMmMYIIYwYSgnTampIclY+zwtw07WiHKVYEYpo3K9k0UN9ugXRqM6bjj6E7QkqcnaShXJkDzRzAFmJhPk9PwqhvQs0GHZumslFLtXxr3r/te7GqNxpXPg6YsGk0o3gxSOEntWgxLfpkRTBAjmCBGMCFYvHe9blzZjTWq1dmi41QCc2FblNqRYBm08fycjpMO5vZSjvLkrhdHQOt0qF/Rwxxa8qgUHC20gtYconscvXAnaIkTVBKXUrgO9O67qOPawChoWJAjduo2HVuJeMPr/PkctK3JqzoOJxOgyYxgghjBBGvde2/on4n9vTg9s2X3ug7/UPGoLM3kYqAV8sYv5AwWlM40ee/XPQYLXbRbGW0tgrZlFZWTG6NToK0KZXWcDmZBiwQWbzh+pZSaqdG4MxVMMe9+/4COH916FrS3O77T8aKPO6zvzFJq9Or+QDO9nnz6HtBkRjBBjGCCGMEEa+/2V/QaMfI4/iR3jXxeq9s7qMRoB9IP4e5keJb6RSZQq8SohCylUbOMnYRQDktNY0lSnoP9FtO05RBpK4CWiC7oOF5XSreEqd0axn6TJfouzoyuA80ZpTUwPAeSKicpju+4CtqeDiqXj711P2gyI5ggRjAh6A//pBu3D6/sQ8yDBEopVU7Ry5mxJ3Dnsn/DmI5/f3MTaOUoPRfFdryHb6RGH7OWCs0aL/PnW0CbdCjFjLs4lmCW+sUu1x8sMO7Xg7+zEzszOg5YmCbnjtPAFz9rA23b4DEdDw/PgiYzggliBBPECCas+ICZiffDzw0/dE1kB2h/qB4dr33pImg/TlF+dYcSoJm7BYVOzOeVCOZ+GJvTWAsYm8bx/eOgPdt1XMfXariFc3kxpeO7I5dAO5LYouOvzvSC9ul0n459F796mRFMECOYYC37/75adTWjcbZnSW0JzHNMSillda/V8WuffwjawU+ep35lvF/qHN0vux6frWqEtLp3Tap/gM6fvrz6C9AOfPSCjrsP445uoEzl7MTuFGgPPnlax7bCtPhNhg4rpA5hSSwzggliBBPECCYsf41YKQE8YKZ8I28ucy1RSqnANnrz9frQB6Ad+Po5um4aF4JQzjjw1YfbCqkovQUM78UydKVkBu/T8SNPnQCt26E3ix8fehg0mRFMECOYcPNT03/Ar+/Ti/iuzmnQxk+t1nHPwBho3jN0Zrd2Ac9YLYUVovTnV8oNrxt7dRe0H9t3Usfn9iRBkxnBBDGCCWIEE3itEeZWiVX3jHg19W9Z2I87wU1DpxtceXOwjXOytbl50GRGMEGMYAKv1PQ/RmYEE8QIJogRTBAjmCBGMEGMYIIYwQQxggliBBPECCaIEUwQI5ggRjBBjGCCGMEEMYIJYgQTxAgmiBFMECOYIEYwQYxgghjBBDGCCWIEE8QIJogRTPgT8EpektymxssAAAAASUVORK5CYII=\" id=\"image7f4b8b9260\" transform=\"scale(1 -1) translate(0 -70.56)\" x=\"766.830252\" y=\"-35.531634\" width=\"70.56\" height=\"70.56\"/>\n   </g>\n   <g id=\"patch_48\">\n    <path d=\"M 766.830252 106.091634 \nL 766.830252 35.7555 \n\" style=\"fill: none; stroke: #000000; stroke-width: 0.8; stroke-linejoin: miter; stroke-linecap: square\"/>\n   </g>\n   <g id=\"patch_49\">\n    <path d=\"M 837.166387 106.091634 \nL 837.166387 35.7555 \n\" style=\"fill: none; stroke: #000000; stroke-width: 0.8; stroke-linejoin: miter; stroke-linecap: square\"/>\n   </g>\n   <g id=\"patch_50\">\n    <path d=\"M 766.830252 106.091634 \nL 837.166387 106.091634 \n\" style=\"fill: none; stroke: #000000; stroke-width: 0.8; stroke-linejoin: miter; stroke-linecap: square\"/>\n   </g>\n   <g id=\"patch_51\">\n    <path d=\"M 766.830252 35.7555 \nL 837.166387 35.7555 \n\" style=\"fill: none; stroke: #000000; stroke-width: 0.8; stroke-linejoin: miter; stroke-linecap: square\"/>\n   </g>\n   <g id=\"text_10\">\n    <!-- sneaker -->\n    <g transform=\"translate(778.286132 16.318125) scale(0.12 -0.12)\">\n     <use xlink:href=\"#DejaVuSans-73\"/>\n     <use xlink:href=\"#DejaVuSans-6e\" x=\"52.099609\"/>\n     <use xlink:href=\"#DejaVuSans-65\" x=\"115.478516\"/>\n     <use xlink:href=\"#DejaVuSans-61\" x=\"177.001953\"/>\n     <use xlink:href=\"#DejaVuSans-6b\" x=\"238.28125\"/>\n     <use xlink:href=\"#DejaVuSans-65\" x=\"292.566406\"/>\n     <use xlink:href=\"#DejaVuSans-72\" x=\"354.089844\"/>\n    </g>\n    <!-- sneaker -->\n    <g transform=\"translate(778.286132 29.7555) scale(0.12 -0.12)\">\n     <use xlink:href=\"#DejaVuSans-73\"/>\n     <use xlink:href=\"#DejaVuSans-6e\" x=\"52.099609\"/>\n     <use xlink:href=\"#DejaVuSans-65\" x=\"115.478516\"/>\n     <use xlink:href=\"#DejaVuSans-61\" x=\"177.001953\"/>\n     <use xlink:href=\"#DejaVuSans-6b\" x=\"238.28125\"/>\n     <use xlink:href=\"#DejaVuSans-65\" x=\"292.566406\"/>\n     <use xlink:href=\"#DejaVuSans-72\" x=\"354.089844\"/>\n    </g>\n   </g>\n  </g>\n  <g id=\"axes_11\">\n   <g id=\"patch_52\">\n    <path d=\"M 851.233613 106.091634 \nL 921.569748 106.091634 \nL 921.569748 35.7555 \nL 851.233613 35.7555 \nz\n\" style=\"fill: #ffffff\"/>\n   </g>\n   <g clip-path=\"url(#pdd399da68f)\">\n    <image xlink:href=\"data:image/png;base64,\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\" id=\"imagee7c1afa952\" transform=\"scale(1 -1) translate(0 -70.56)\" x=\"851.233613\" y=\"-35.531634\" width=\"70.56\" height=\"70.56\"/>\n   </g>\n   <g id=\"patch_53\">\n    <path d=\"M 851.233613 106.091634 \nL 851.233613 35.7555 \n\" style=\"fill: none; stroke: #000000; stroke-width: 0.8; stroke-linejoin: miter; stroke-linecap: square\"/>\n   </g>\n   <g id=\"patch_54\">\n    <path d=\"M 921.569748 106.091634 \nL 921.569748 35.7555 \n\" style=\"fill: none; stroke: #000000; stroke-width: 0.8; stroke-linejoin: miter; stroke-linecap: square\"/>\n   </g>\n   <g id=\"patch_55\">\n    <path d=\"M 851.233613 106.091634 \nL 921.569748 106.091634 \n\" style=\"fill: none; stroke: #000000; stroke-width: 0.8; stroke-linejoin: miter; stroke-linecap: square\"/>\n   </g>\n   <g id=\"patch_56\">\n    <path d=\"M 851.233613 35.7555 \nL 921.569748 35.7555 \n\" style=\"fill: none; stroke: #000000; stroke-width: 0.8; stroke-linejoin: miter; stroke-linecap: square\"/>\n   </g>\n   <g id=\"text_11\">\n    <!-- coat -->\n    <g transform=\"translate(873.402306 16.318125) scale(0.12 -0.12)\">\n     <use xlink:href=\"#DejaVuSans-63\"/>\n     <use xlink:href=\"#DejaVuSans-6f\" x=\"54.980469\"/>\n     <use xlink:href=\"#DejaVuSans-61\" x=\"116.162109\"/>\n     <use xlink:href=\"#DejaVuSans-74\" x=\"177.441406\"/>\n    </g>\n    <!-- coat -->\n    <g transform=\"translate(873.402306 29.7555) scale(0.12 -0.12)\">\n     <use xlink:href=\"#DejaVuSans-63\"/>\n     <use xlink:href=\"#DejaVuSans-6f\" x=\"54.980469\"/>\n     <use xlink:href=\"#DejaVuSans-61\" x=\"116.162109\"/>\n     <use xlink:href=\"#DejaVuSans-74\" x=\"177.441406\"/>\n    </g>\n   </g>\n  </g>\n  <g id=\"axes_12\">\n   <g id=\"patch_57\">\n    <path d=\"M 935.636975 106.091634 \nL 1005.973109 106.091634 \nL 1005.973109 35.7555 \nL 935.636975 35.7555 \nz\n\" style=\"fill: #ffffff\"/>\n   </g>\n   <g clip-path=\"url(#p8ce1ba172d)\">\n    <image xlink:href=\"data:image/png;base64,\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\" id=\"imagece4de9e2b1\" transform=\"scale(1 -1) translate(0 -70.56)\" x=\"935.636975\" y=\"-35.531634\" width=\"70.56\" height=\"70.56\"/>\n   </g>\n   <g id=\"patch_58\">\n    <path d=\"M 935.636975 106.091634 \nL 935.636975 35.7555 \n\" style=\"fill: none; stroke: #000000; stroke-width: 0.8; stroke-linejoin: miter; stroke-linecap: square\"/>\n   </g>\n   <g id=\"patch_59\">\n    <path d=\"M 1005.973109 106.091634 \nL 1005.973109 35.7555 \n\" style=\"fill: none; stroke: #000000; stroke-width: 0.8; stroke-linejoin: miter; stroke-linecap: square\"/>\n   </g>\n   <g id=\"patch_60\">\n    <path d=\"M 935.636975 106.091634 \nL 1005.973109 106.091634 \n\" style=\"fill: none; stroke: #000000; stroke-width: 0.8; stroke-linejoin: miter; stroke-linecap: square\"/>\n   </g>\n   <g id=\"patch_61\">\n    <path d=\"M 935.636975 35.7555 \nL 1005.973109 35.7555 \n\" style=\"fill: none; stroke: #000000; stroke-width: 0.8; stroke-linejoin: miter; stroke-linecap: square\"/>\n   </g>\n   <g id=\"text_12\">\n    <!-- sandal -->\n    <g transform=\"translate(951.04723 16.318125) scale(0.12 -0.12)\">\n     <use xlink:href=\"#DejaVuSans-73\"/>\n     <use xlink:href=\"#DejaVuSans-61\" x=\"52.099609\"/>\n     <use xlink:href=\"#DejaVuSans-6e\" x=\"113.378906\"/>\n     <use xlink:href=\"#DejaVuSans-64\" x=\"176.757812\"/>\n     <use xlink:href=\"#DejaVuSans-61\" x=\"240.234375\"/>\n     <use xlink:href=\"#DejaVuSans-6c\" x=\"301.513672\"/>\n    </g>\n    <!-- sandal -->\n    <g transform=\"translate(951.04723 29.7555) scale(0.12 -0.12)\">\n     <use xlink:href=\"#DejaVuSans-73\"/>\n     <use xlink:href=\"#DejaVuSans-61\" x=\"52.099609\"/>\n     <use xlink:href=\"#DejaVuSans-6e\" x=\"113.378906\"/>\n     <use xlink:href=\"#DejaVuSans-64\" x=\"176.757812\"/>\n     <use xlink:href=\"#DejaVuSans-61\" x=\"240.234375\"/>\n     <use xlink:href=\"#DejaVuSans-6c\" x=\"301.513672\"/>\n    </g>\n   </g>\n  </g>\n  <g id=\"axes_13\">\n   <g id=\"patch_62\">\n    <path d=\"M 1020.040336 106.091634 \nL 1090.376471 106.091634 \nL 1090.376471 35.7555 \nL 1020.040336 35.7555 \nz\n\" style=\"fill: #ffffff\"/>\n   </g>\n   <g clip-path=\"url(#p752ef78d59)\">\n    <image xlink:href=\"data:image/png;base64,\niVBORw0KGgoAAAANSUhEUgAAAGIAAABiCAYAAACrpQYOAAAFU0lEQVR4nO2dT28bVRTF33jGHjuxiZ2kaZqQUlEikaYsKkARbEEsQSDEN+ArsKsQGz4AG+iiC6SukJCoKALEogtUQfkjUSpa0lCaQklD0ia4dmzHnj8skN59Z6qxAhLpXZzf6k7PvDfPPn333Xkzdb3nvVdTQx44hQc9APIPNEIJNEIJNEIJNEIJNEIJNEIJNEIJNEIJNEIJNEIJNEIJNEIJNEIJNEIJNEIJNEIJNEIJNEIJNEIJNEIJNEIJNEIJNEIJNEIJNEIJNEIJQTB90B5cPXkExOK2+NSfiLFlMZF4gH56FTm3Vu+AlqSedOFjn3Ei/UQx9lkoyCu61fIuaKnTZ7dfBK1SGuRq7XZZxlzAV4ALnhzHmbGkzZKc1/NAKznfWeNaAlr1g69NHpwRSqARSqARSvCOnz1pk+FXT70P4psbSzbe6o+CViv2bHyo1ATt1+6kjZf/Ogja1EjLxoGHOdQlSvHvSC+W/L4bBbnndga4DrjsDrBde0fWCD/I5POKrEMHRtug1UtdG7vfgzHGdJ1xVvwBaCeqv9n43VMvgcYZoQQaoQTvmc/fsKlpcfw2iBc+PGHjzgKWjEEY2dgtSY0xJu44KWCI1feVjCUpZ4tFLG2TRK4RDXwci3NuVkvcscQ4The/kylRncNkFMdSGpPvolHD8ry5U7FxJeyD9sqRSzZeKK+BxhmhBBqhBBqhhOCPVSk135o/C+IXC8dsXKlhmba7WrNxeCeTX5003TuE+TV1tkZSrCZN3JM/gHXGGGOcNSKb671NKUPDPmrFlsklciryygauV+5niEtYEqeBHLfKVdDimvSzPYXl67nguI1vjE+CxhmhBBqhhOCRj2UqPfcippFgXXYZo1sl0JKGpJjOUSzT/KaklaCJXiehpI54NP/O2t/Bdn5X2iWZm+f+mHyGAg7FpAWnXQnTz8BJI0mQ2e3FrAIkocRRJZPSAjkureNAvVnRLr/3BF4v/3JkP6ERSqARSgj6NanTTjenQYxm5FZ+fnYDtIX6uo2v3ZsCrVqUdmvtMdDWluXcsZ+wRHU3Y70Ec29vQnJ9gLsKJlyVeLeB5au7VeFnnqa5x+56YYwxcVUGk30K565X5TuoPXRT+hm5jSV/8LZsISWd66BxRiiBRighCLdlF/Vy52EQC87DkvVWDbQbF+ds7GfuZt0SsvMo1pNPP7li49oS7uie/3bRxuE05p/0qtzBhtt4vUHVSVtdkEz3gKSKwXhmF7UhqaOwgg++Ji9In+Nf3gIt+h2P90p+sc4ZoQYaoQQaoYSgcnElV4zbcos+cq4M2uz3m3Lw5yZocfOejT0fn5i1Hn/Mxt+9XgctnNmRdpdwTVp4Qca5/Nk8aO4WR33xLl7vZsPG1etYLs99ImtEfOVHk0eUqxjjBZldYvfzxpmd5yi/J84IJdAIJXju777e+/QoiMVTEzaufPTN/z4Y//yMjZd/OAxawSmR3bteY/Ad3fImlrazZ36Wdne3cq+dTTFpJq3smfS//YwuZ4QSaIQSaIQSIDHWX8Md1qSFO4QuhZqUl2m3m3telmEl3NZpWRfSJcy17qowOoNvBMy9I9so8fIvoA3L9PeVnjDQ/f3JdM4IJdAIJcDcTFpDXgLK8G/O3StjZ+SfNrUOPwta75ikv5mXr4A2tND0nHI2k26Gpcn9hjNCCTRCCTRCCR7/axsdcEYogUYogUYogUYogUYogUYogUYogUYogUYogUYogUYogUYogUYogUYogUYogUYogUYogUYogUYogUYogUYogUYogUYogUYogUYogUYogUYogUYogUYogUYo4W9e7W2JmASAnAAAAABJRU5ErkJggg==\" id=\"imagef8ced0d3cf\" transform=\"scale(1 -1) translate(0 -70.56)\" x=\"1020.040336\" y=\"-35.531634\" width=\"70.56\" height=\"70.56\"/>\n   </g>\n   <g id=\"patch_63\">\n    <path d=\"M 1020.040336 106.091634 \nL 1020.040336 35.7555 \n\" style=\"fill: none; stroke: #000000; stroke-width: 0.8; stroke-linejoin: miter; stroke-linecap: square\"/>\n   </g>\n   <g id=\"patch_64\">\n    <path d=\"M 1090.376471 106.091634 \nL 1090.376471 35.7555 \n\" style=\"fill: none; stroke: #000000; stroke-width: 0.8; stroke-linejoin: miter; stroke-linecap: square\"/>\n   </g>\n   <g id=\"patch_65\">\n    <path d=\"M 1020.040336 106.091634 \nL 1090.376471 106.091634 \n\" style=\"fill: none; stroke: #000000; stroke-width: 0.8; stroke-linejoin: miter; stroke-linecap: square\"/>\n   </g>\n   <g id=\"patch_66\">\n    <path d=\"M 1020.040336 35.7555 \nL 1090.376471 35.7555 \n\" style=\"fill: none; stroke: #000000; stroke-width: 0.8; stroke-linejoin: miter; stroke-linecap: square\"/>\n   </g>\n   <g id=\"text_13\">\n    <!-- sneaker -->\n    <g transform=\"translate(1031.496216 16.318125) scale(0.12 -0.12)\">\n     <use xlink:href=\"#DejaVuSans-73\"/>\n     <use xlink:href=\"#DejaVuSans-6e\" x=\"52.099609\"/>\n     <use xlink:href=\"#DejaVuSans-65\" x=\"115.478516\"/>\n     <use xlink:href=\"#DejaVuSans-61\" x=\"177.001953\"/>\n     <use xlink:href=\"#DejaVuSans-6b\" x=\"238.28125\"/>\n     <use xlink:href=\"#DejaVuSans-65\" x=\"292.566406\"/>\n     <use xlink:href=\"#DejaVuSans-72\" x=\"354.089844\"/>\n    </g>\n    <!-- sandal -->\n    <g transform=\"translate(1035.450591 29.7555) scale(0.12 -0.12)\">\n     <use xlink:href=\"#DejaVuSans-73\"/>\n     <use xlink:href=\"#DejaVuSans-61\" x=\"52.099609\"/>\n     <use xlink:href=\"#DejaVuSans-6e\" x=\"113.378906\"/>\n     <use xlink:href=\"#DejaVuSans-64\" x=\"176.757812\"/>\n     <use xlink:href=\"#DejaVuSans-61\" x=\"240.234375\"/>\n     <use xlink:href=\"#DejaVuSans-6c\" x=\"301.513672\"/>\n    </g>\n   </g>\n  </g>\n  <g id=\"axes_14\">\n   <g id=\"patch_67\">\n    <path d=\"M 1104.443697 106.091634 \nL 1174.779832 106.091634 \nL 1174.779832 35.7555 \nL 1104.443697 35.7555 \nz\n\" style=\"fill: #ffffff\"/>\n   </g>\n   <g clip-path=\"url(#p216d8429c4)\">\n    <image xlink:href=\"data:image/png;base64,\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\" id=\"imagef97f90e151\" transform=\"scale(1 -1) translate(0 -70.56)\" x=\"1104.443697\" y=\"-35.531634\" width=\"70.56\" height=\"70.56\"/>\n   </g>\n   <g id=\"patch_68\">\n    <path d=\"M 1104.443697 106.091634 \nL 1104.443697 35.7555 \n\" style=\"fill: none; stroke: #000000; stroke-width: 0.8; stroke-linejoin: miter; stroke-linecap: square\"/>\n   </g>\n   <g id=\"patch_69\">\n    <path d=\"M 1174.779832 106.091634 \nL 1174.779832 35.7555 \n\" style=\"fill: none; stroke: #000000; stroke-width: 0.8; stroke-linejoin: miter; stroke-linecap: square\"/>\n   </g>\n   <g id=\"patch_70\">\n    <path d=\"M 1104.443697 106.091634 \nL 1174.779832 106.091634 \n\" style=\"fill: none; stroke: #000000; stroke-width: 0.8; stroke-linejoin: miter; stroke-linecap: square\"/>\n   </g>\n   <g id=\"patch_71\">\n    <path d=\"M 1104.443697 35.7555 \nL 1174.779832 35.7555 \n\" style=\"fill: none; stroke: #000000; stroke-width: 0.8; stroke-linejoin: miter; stroke-linecap: square\"/>\n   </g>\n   <g id=\"text_14\">\n    <!-- dress -->\n    <g transform=\"translate(1123.528015 16.318125) scale(0.12 -0.12)\">\n     <use xlink:href=\"#DejaVuSans-64\"/>\n     <use xlink:href=\"#DejaVuSans-72\" x=\"63.476562\"/>\n     <use xlink:href=\"#DejaVuSans-65\" x=\"102.339844\"/>\n     <use xlink:href=\"#DejaVuSans-73\" x=\"163.863281\"/>\n     <use xlink:href=\"#DejaVuSans-73\" x=\"215.962891\"/>\n    </g>\n    <!-- dress -->\n    <g transform=\"translate(1123.528015 29.7555) scale(0.12 -0.12)\">\n     <use xlink:href=\"#DejaVuSans-64\"/>\n     <use xlink:href=\"#DejaVuSans-72\" x=\"63.476562\"/>\n     <use xlink:href=\"#DejaVuSans-65\" x=\"102.339844\"/>\n     <use xlink:href=\"#DejaVuSans-73\" x=\"163.863281\"/>\n     <use xlink:href=\"#DejaVuSans-73\" x=\"215.962891\"/>\n    </g>\n   </g>\n  </g>\n  <g id=\"axes_15\">\n   <g id=\"patch_72\">\n    <path d=\"M 1188.847059 106.091634 \nL 1259.183193 106.091634 \nL 1259.183193 35.7555 \nL 1188.847059 35.7555 \nz\n\" style=\"fill: #ffffff\"/>\n   </g>\n   <g clip-path=\"url(#p398ca10582)\">\n    <image xlink:href=\"data:image/png;base64,\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\" id=\"imagee5c5ade484\" transform=\"scale(1 -1) translate(0 -70.56)\" x=\"1188.847059\" y=\"-35.531634\" width=\"70.56\" height=\"70.56\"/>\n   </g>\n   <g id=\"patch_73\">\n    <path d=\"M 1188.847059 106.091634 \nL 1188.847059 35.7555 \n\" style=\"fill: none; stroke: #000000; stroke-width: 0.8; stroke-linejoin: miter; stroke-linecap: square\"/>\n   </g>\n   <g id=\"patch_74\">\n    <path d=\"M 1259.183193 106.091634 \nL 1259.183193 35.7555 \n\" style=\"fill: none; stroke: #000000; stroke-width: 0.8; stroke-linejoin: miter; stroke-linecap: square\"/>\n   </g>\n   <g id=\"patch_75\">\n    <path d=\"M 1188.847059 106.091634 \nL 1259.183193 106.091634 \n\" style=\"fill: none; stroke: #000000; stroke-width: 0.8; stroke-linejoin: miter; stroke-linecap: square\"/>\n   </g>\n   <g id=\"patch_76\">\n    <path d=\"M 1188.847059 35.7555 \nL 1259.183193 35.7555 \n\" style=\"fill: none; stroke: #000000; stroke-width: 0.8; stroke-linejoin: miter; stroke-linecap: square\"/>\n   </g>\n   <g id=\"text_15\">\n    <!-- coat -->\n    <g transform=\"translate(1211.015751 16.318125) scale(0.12 -0.12)\">\n     <use xlink:href=\"#DejaVuSans-63\"/>\n     <use xlink:href=\"#DejaVuSans-6f\" x=\"54.980469\"/>\n     <use xlink:href=\"#DejaVuSans-61\" x=\"116.162109\"/>\n     <use xlink:href=\"#DejaVuSans-74\" x=\"177.441406\"/>\n    </g>\n    <!-- coat -->\n    <g transform=\"translate(1211.015751 29.7555) scale(0.12 -0.12)\">\n     <use xlink:href=\"#DejaVuSans-63\"/>\n     <use xlink:href=\"#DejaVuSans-6f\" x=\"54.980469\"/>\n     <use xlink:href=\"#DejaVuSans-61\" x=\"116.162109\"/>\n     <use xlink:href=\"#DejaVuSans-74\" x=\"177.441406\"/>\n    </g>\n   </g>\n  </g>\n  <g id=\"axes_16\">\n   <g id=\"patch_77\">\n    <path d=\"M 1273.25042 106.091634 \nL 1343.586555 106.091634 \nL 1343.586555 35.7555 \nL 1273.25042 35.7555 \nz\n\" style=\"fill: #ffffff\"/>\n   </g>\n   <g clip-path=\"url(#p553e3e9c7d)\">\n    <image xlink:href=\"data:image/png;base64,\niVBORw0KGgoAAAANSUhEUgAAAGIAAABiCAYAAACrpQYOAAAF5UlEQVR4nO2dS28cRRDHex67szv7tL3G60diWwEMBCmKOEFyACkcUCQOKBLwAbjzWXLnxJ0DF26EAycCARQwkmUSP2JiZMe7fqz3MS9u3f1vMSFB8XZJrt+p2jWemdV/urq2u6bXueHcygQRnKuXpb11swE+b6Tshdv3wJcOBtLO3r4CvvVPS6rh4vWWv4ql7X/70/Pe7gvF/e9DmHHAQhCBhSCCQ2mMaHw/Je126Sj3uPudOWgX39+UtncHfTdn7kt7Y9AC3x9HbWlH7z5+vpt9wXCPIAILQQTf9g3o3F1blvbLi3+DbxirW/1rvwm+S0KFpu0u+jYaKhzt9NG3ujUr7VcEhyZGsBBkYCGIQGqMKJQjaVf8EfhqBTWN8SiZyD1HHHvQDrW5Ef0cQgiR9fFYm3CPIAILQQRSocn1UmkXvRh8caqeGddPRR61EMNPlKrwE6dGKPLJTCpwj6ACC0EEFoIIpMaIWjiU9mlcBJ/rqHie9Aq55wgLEbSHqfqIgTHuOIX8sWbccI8gAgtBBFKhSUdPV4UQoqSHladElDRzoN2NQmnrYUoIIbKIznNI507OOSwEEVgIIpAaI3oDlbIOjVnUZlmbukhwHNCpBzjFsXEyqc4/wpTYL2M6axPuEURgIYhAKjT191WqOXkPQ1Png0PVyI9Moh/jt+6Hq6pAwOvjc5fMDgUVuEcQgYUgAgtBBFJjhNBmQ8M9HAg62zXtuPyVtYKbQLu6ocYax5gaOa7kz+KOG+4RRGAhiGA1NDlBgG2tKCAu4a15AxWq4iKGH52SWXRQ0c5hZKtO9JQ8eMxwjyACC0EEFoIIdscIz5hhnehJOy4F5uEKNz99jTN8tvRFucIJHpsGXDzAGLAQRLAbmny8fJSoUGWWtyYl9QcnyE9fzeIBJ/l3Wwgh3AGd55DOnZxzWAgisBBEsDtGtCahnWnxvdDHFNXT4nmwkL+yVi3k+xIjIzZnY23CPYIILAQRrIamLMCFmUFf1R2FZUxDPa1caaZ+nHvOxfAA2r9rVfpG6atIAxX+vCZu1JV0D8U44R5BBBaCCCwEEayOEaN2DdqJlqLGZTzW1VbTKgXclSBZuijtqrcOPn1TxrgELpF5Wors2H0muUcQgYUggtXQlATGTgDaN93ESF/9U2VXffz2/Pi1C9L2nDXwZdolXKMK39HL+327JV7cI4jAQhCBhSCC5THCWE0rJJoPj9UX3lLjBYmTOfUxXIGztok2i+L38+/FqYb4h738Y88C7hFEYCGIYDU0DRuYvvolNcU6bOIboPojs33cBNf+O2qK9cSIafoMa+RjSMuqKp+N2nhO5+GmGCfcI4jAQhCBhSCC1TGiN4cxe3G6I+0Hu5hO6ulrw9hd4LPrX0v7x+Nl8GUrqp62Ymy8uFJXq3D780vgq4jxwj2CCCwEEayGJnMb1uutP6V9cAlXhlwtNEXGP95ee0/aV1/aAd9bC9vSHhn/1y6pIoRHTXwmOTSdU1gIIrAQRLBbPDCJxad7I1VMcKGOBV6HI7Xy3yjiNKr+cwR3dy+AT99wy3x3Qt8rvDePvikxXrhHEIGFIILdhaEKhqbdgQpNvrG5SaLtA7sQdsH368F87jXMPf50to9UvetwOv91sHHAPYIILAQRWAgi2H11a4jPwc6JitkzIW4TsFR/Iu3QxdrXjfUZaQdTmNperKgZ3a0e/lqX/qqY7Z1quEcQgYUggt2CTwdrkPY6Kn2dKGGI8bRjXy3vgu/aFVXvuhQ+AZ/+UwWrm7Pgc/dUgULQ4bJ8RrAQZGAhiGB1jCh2jVWxZfUSxFIVX9MtaylrL8Uisg9bP0t7kOIrw3e6r0s76+PHbb2xL+2DX6af9bbPBO4RRGAhiGC3eMC4+hdvfint705XwPdR7TdpP4jq4Jv2VO3S5SIWHVwrfyPtj1s/gK/mqhT58/STZ7zrs4F7BBFYCCKwEERwbji36Py69v/En21LOz3CnWvSnho/hGO8KlZUUxzZ0O7P3HCPIAILQYR/AG8GY0LsnpR7AAAAAElFTkSuQmCC\" id=\"image5aa3194cf3\" transform=\"scale(1 -1) translate(0 -70.56)\" x=\"1273.25042\" y=\"-35.531634\" width=\"70.56\" height=\"70.56\"/>\n   </g>\n   <g id=\"patch_78\">\n    <path d=\"M 1273.25042 106.091634 \nL 1273.25042 35.7555 \n\" style=\"fill: none; stroke: #000000; stroke-width: 0.8; stroke-linejoin: miter; stroke-linecap: square\"/>\n   </g>\n   <g id=\"patch_79\">\n    <path d=\"M 1343.586555 106.091634 \nL 1343.586555 35.7555 \n\" style=\"fill: none; stroke: #000000; stroke-width: 0.8; stroke-linejoin: miter; stroke-linecap: square\"/>\n   </g>\n   <g id=\"patch_80\">\n    <path d=\"M 1273.25042 106.091634 \nL 1343.586555 106.091634 \n\" style=\"fill: none; stroke: #000000; stroke-width: 0.8; stroke-linejoin: miter; stroke-linecap: square\"/>\n   </g>\n   <g id=\"patch_81\">\n    <path d=\"M 1273.25042 35.7555 \nL 1343.586555 35.7555 \n\" style=\"fill: none; stroke: #000000; stroke-width: 0.8; stroke-linejoin: miter; stroke-linecap: square\"/>\n   </g>\n   <g id=\"text_16\">\n    <!-- trouser -->\n    <g transform=\"translate(1286.976925 16.318125) scale(0.12 -0.12)\">\n     <use xlink:href=\"#DejaVuSans-74\"/>\n     <use xlink:href=\"#DejaVuSans-72\" x=\"39.208984\"/>\n     <use xlink:href=\"#DejaVuSans-6f\" x=\"78.072266\"/>\n     <use xlink:href=\"#DejaVuSans-75\" x=\"139.253906\"/>\n     <use xlink:href=\"#DejaVuSans-73\" x=\"202.632812\"/>\n     <use xlink:href=\"#DejaVuSans-65\" x=\"254.732422\"/>\n     <use xlink:href=\"#DejaVuSans-72\" x=\"316.255859\"/>\n    </g>\n    <!-- trouser -->\n    <g transform=\"translate(1286.976925 29.7555) scale(0.12 -0.12)\">\n     <use xlink:href=\"#DejaVuSans-74\"/>\n     <use xlink:href=\"#DejaVuSans-72\" x=\"39.208984\"/>\n     <use xlink:href=\"#DejaVuSans-6f\" x=\"78.072266\"/>\n     <use xlink:href=\"#DejaVuSans-75\" x=\"139.253906\"/>\n     <use xlink:href=\"#DejaVuSans-73\" x=\"202.632812\"/>\n     <use xlink:href=\"#DejaVuSans-65\" x=\"254.732422\"/>\n     <use xlink:href=\"#DejaVuSans-72\" x=\"316.255859\"/>\n    </g>\n   </g>\n  </g>\n  <g id=\"axes_17\">\n   <g id=\"patch_82\">\n    <path d=\"M 1357.653782 106.091634 \nL 1427.989916 106.091634 \nL 1427.989916 35.7555 \nL 1357.653782 35.7555 \nz\n\" style=\"fill: #ffffff\"/>\n   </g>\n   <g clip-path=\"url(#pa279a226df)\">\n    <image xlink:href=\"data:image/png;base64,\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\" id=\"image1c5adae895\" transform=\"scale(1 -1) translate(0 -70.56)\" x=\"1357.653782\" y=\"-35.531634\" width=\"70.56\" height=\"70.56\"/>\n   </g>\n   <g id=\"patch_83\">\n    <path d=\"M 1357.653782 106.091634 \nL 1357.653782 35.7555 \n\" style=\"fill: none; stroke: #000000; stroke-width: 0.8; stroke-linejoin: miter; stroke-linecap: square\"/>\n   </g>\n   <g id=\"patch_84\">\n    <path d=\"M 1427.989916 106.091634 \nL 1427.989916 35.7555 \n\" style=\"fill: none; stroke: #000000; stroke-width: 0.8; stroke-linejoin: miter; stroke-linecap: square\"/>\n   </g>\n   <g id=\"patch_85\">\n    <path d=\"M 1357.653782 106.091634 \nL 1427.989916 106.091634 \n\" style=\"fill: none; stroke: #000000; stroke-width: 0.8; stroke-linejoin: miter; stroke-linecap: square\"/>\n   </g>\n   <g id=\"patch_86\">\n    <path d=\"M 1357.653782 35.7555 \nL 1427.989916 35.7555 \n\" style=\"fill: none; stroke: #000000; stroke-width: 0.8; stroke-linejoin: miter; stroke-linecap: square\"/>\n   </g>\n   <g id=\"text_17\">\n    <!-- pullover -->\n    <g transform=\"translate(1368.495599 16.318125) scale(0.12 -0.12)\">\n     <use xlink:href=\"#DejaVuSans-70\"/>\n     <use xlink:href=\"#DejaVuSans-75\" x=\"63.476562\"/>\n     <use xlink:href=\"#DejaVuSans-6c\" x=\"126.855469\"/>\n     <use xlink:href=\"#DejaVuSans-6c\" x=\"154.638672\"/>\n     <use xlink:href=\"#DejaVuSans-6f\" x=\"182.421875\"/>\n     <use xlink:href=\"#DejaVuSans-76\" x=\"243.603516\"/>\n     <use xlink:href=\"#DejaVuSans-65\" x=\"302.783203\"/>\n     <use xlink:href=\"#DejaVuSans-72\" x=\"364.306641\"/>\n    </g>\n    <!-- pullover -->\n    <g transform=\"translate(1368.495599 29.7555) scale(0.12 -0.12)\">\n     <use xlink:href=\"#DejaVuSans-70\"/>\n     <use xlink:href=\"#DejaVuSans-75\" x=\"63.476562\"/>\n     <use xlink:href=\"#DejaVuSans-6c\" x=\"126.855469\"/>\n     <use xlink:href=\"#DejaVuSans-6c\" x=\"154.638672\"/>\n     <use xlink:href=\"#DejaVuSans-6f\" x=\"182.421875\"/>\n     <use xlink:href=\"#DejaVuSans-76\" x=\"243.603516\"/>\n     <use xlink:href=\"#DejaVuSans-65\" x=\"302.783203\"/>\n     <use xlink:href=\"#DejaVuSans-72\" x=\"364.306641\"/>\n    </g>\n   </g>\n  </g>\n  <g id=\"axes_18\">\n   <g id=\"patch_87\">\n    <path d=\"M 1442.057143 106.091634 \nL 1512.393277 106.091634 \nL 1512.393277 35.7555 \nL 1442.057143 35.7555 \nz\n\" style=\"fill: #ffffff\"/>\n   </g>\n   <g clip-path=\"url(#p1b095f687e)\">\n    <image xlink:href=\"data:image/png;base64,\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\" id=\"imagea389576831\" transform=\"scale(1 -1) translate(0 -70.56)\" x=\"1442.057143\" y=\"-35.531634\" width=\"70.56\" height=\"70.56\"/>\n   </g>\n   <g id=\"patch_88\">\n    <path d=\"M 1442.057143 106.091634 \nL 1442.057143 35.7555 \n\" style=\"fill: none; stroke: #000000; stroke-width: 0.8; stroke-linejoin: miter; stroke-linecap: square\"/>\n   </g>\n   <g id=\"patch_89\">\n    <path d=\"M 1512.393277 106.091634 \nL 1512.393277 35.7555 \n\" style=\"fill: none; stroke: #000000; stroke-width: 0.8; stroke-linejoin: miter; stroke-linecap: square\"/>\n   </g>\n   <g id=\"patch_90\">\n    <path d=\"M 1442.057143 106.091634 \nL 1512.393277 106.091634 \n\" style=\"fill: none; stroke: #000000; stroke-width: 0.8; stroke-linejoin: miter; stroke-linecap: square\"/>\n   </g>\n   <g id=\"patch_91\">\n    <path d=\"M 1442.057143 35.7555 \nL 1512.393277 35.7555 \n\" style=\"fill: none; stroke: #000000; stroke-width: 0.8; stroke-linejoin: miter; stroke-linecap: square\"/>\n   </g>\n   <g id=\"text_18\">\n    <!-- coat -->\n    <g transform=\"translate(1464.225835 16.318125) scale(0.12 -0.12)\">\n     <use xlink:href=\"#DejaVuSans-63\"/>\n     <use xlink:href=\"#DejaVuSans-6f\" x=\"54.980469\"/>\n     <use xlink:href=\"#DejaVuSans-61\" x=\"116.162109\"/>\n     <use xlink:href=\"#DejaVuSans-74\" x=\"177.441406\"/>\n    </g>\n    <!-- coat -->\n    <g transform=\"translate(1464.225835 29.7555) scale(0.12 -0.12)\">\n     <use xlink:href=\"#DejaVuSans-63\"/>\n     <use xlink:href=\"#DejaVuSans-6f\" x=\"54.980469\"/>\n     <use xlink:href=\"#DejaVuSans-61\" x=\"116.162109\"/>\n     <use xlink:href=\"#DejaVuSans-74\" x=\"177.441406\"/>\n    </g>\n   </g>\n  </g>\n  <g id=\"axes_19\">\n   <g id=\"patch_92\">\n    <path d=\"M 1526.460504 106.091634 \nL 1596.796639 106.091634 \nL 1596.796639 35.7555 \nL 1526.460504 35.7555 \nz\n\" style=\"fill: #ffffff\"/>\n   </g>\n   <g clip-path=\"url(#p3941fedac8)\">\n    <image xlink:href=\"data:image/png;base64,\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\" id=\"image0785f21472\" transform=\"scale(1 -1) translate(0 -70.56)\" x=\"1526.460504\" y=\"-35.531634\" width=\"70.56\" height=\"70.56\"/>\n   </g>\n   <g id=\"patch_93\">\n    <path d=\"M 1526.460504 106.091634 \nL 1526.460504 35.7555 \n\" style=\"fill: none; stroke: #000000; stroke-width: 0.8; stroke-linejoin: miter; stroke-linecap: square\"/>\n   </g>\n   <g id=\"patch_94\">\n    <path d=\"M 1596.796639 106.091634 \nL 1596.796639 35.7555 \n\" style=\"fill: none; stroke: #000000; stroke-width: 0.8; stroke-linejoin: miter; stroke-linecap: square\"/>\n   </g>\n   <g id=\"patch_95\">\n    <path d=\"M 1526.460504 106.091634 \nL 1596.796639 106.091634 \n\" style=\"fill: none; stroke: #000000; stroke-width: 0.8; stroke-linejoin: miter; stroke-linecap: square\"/>\n   </g>\n   <g id=\"patch_96\">\n    <path d=\"M 1526.460504 35.7555 \nL 1596.796639 35.7555 \n\" style=\"fill: none; stroke: #000000; stroke-width: 0.8; stroke-linejoin: miter; stroke-linecap: square\"/>\n   </g>\n   <g id=\"text_19\">\n    <!-- bag -->\n    <g transform=\"translate(1550.333571 16.318125) scale(0.12 -0.12)\">\n     <defs>\n      <path id=\"DejaVuSans-67\" d=\"M 2906 1791 \nQ 2906 2416 2648 2759 \nQ 2391 3103 1925 3103 \nQ 1463 3103 1205 2759 \nQ 947 2416 947 1791 \nQ 947 1169 1205 825 \nQ 1463 481 1925 481 \nQ 2391 481 2648 825 \nQ 2906 1169 2906 1791 \nz\nM 3481 434 \nQ 3481 -459 3084 -895 \nQ 2688 -1331 1869 -1331 \nQ 1566 -1331 1297 -1286 \nQ 1028 -1241 775 -1147 \nL 775 -588 \nQ 1028 -725 1275 -790 \nQ 1522 -856 1778 -856 \nQ 2344 -856 2625 -561 \nQ 2906 -266 2906 331 \nL 2906 616 \nQ 2728 306 2450 153 \nQ 2172 0 1784 0 \nQ 1141 0 747 490 \nQ 353 981 353 1791 \nQ 353 2603 747 3093 \nQ 1141 3584 1784 3584 \nQ 2172 3584 2450 3431 \nQ 2728 3278 2906 2969 \nL 2906 3500 \nL 3481 3500 \nL 3481 434 \nz\n\" transform=\"scale(0.015625)\"/>\n     </defs>\n     <use xlink:href=\"#DejaVuSans-62\"/>\n     <use xlink:href=\"#DejaVuSans-61\" x=\"63.476562\"/>\n     <use xlink:href=\"#DejaVuSans-67\" x=\"124.755859\"/>\n    </g>\n    <!-- bag -->\n    <g transform=\"translate(1550.333571 29.7555) scale(0.12 -0.12)\">\n     <use xlink:href=\"#DejaVuSans-62\"/>\n     <use xlink:href=\"#DejaVuSans-61\" x=\"63.476562\"/>\n     <use xlink:href=\"#DejaVuSans-67\" x=\"124.755859\"/>\n    </g>\n   </g>\n  </g>\n  <g id=\"axes_20\">\n   <g id=\"patch_97\">\n    <path d=\"M 1610.863866 106.091634 \nL 1681.2 106.091634 \nL 1681.2 35.7555 \nL 1610.863866 35.7555 \nz\n\" style=\"fill: #ffffff\"/>\n   </g>\n   <g clip-path=\"url(#p8c80179bc9)\">\n    <image xlink:href=\"data:image/png;base64,\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\" id=\"imagebeeb9c9607\" transform=\"scale(1 -1) translate(0 -70.56)\" x=\"1610.863866\" y=\"-35.531634\" width=\"70.56\" height=\"70.56\"/>\n   </g>\n   <g id=\"patch_98\">\n    <path d=\"M 1610.863866 106.091634 \nL 1610.863866 35.7555 \n\" style=\"fill: none; stroke: #000000; stroke-width: 0.8; stroke-linejoin: miter; stroke-linecap: square\"/>\n   </g>\n   <g id=\"patch_99\">\n    <path d=\"M 1681.2 106.091634 \nL 1681.2 35.7555 \n\" style=\"fill: none; stroke: #000000; stroke-width: 0.8; stroke-linejoin: miter; stroke-linecap: square\"/>\n   </g>\n   <g id=\"patch_100\">\n    <path d=\"M 1610.863866 106.091634 \nL 1681.2 106.091634 \n\" style=\"fill: none; stroke: #000000; stroke-width: 0.8; stroke-linejoin: miter; stroke-linecap: square\"/>\n   </g>\n   <g id=\"patch_101\">\n    <path d=\"M 1610.863866 35.7555 \nL 1681.2 35.7555 \n\" style=\"fill: none; stroke: #000000; stroke-width: 0.8; stroke-linejoin: miter; stroke-linecap: square\"/>\n   </g>\n   <g id=\"text_20\">\n    <!-- t-shirt -->\n    <g transform=\"translate(1628.101308 16.318125) scale(0.12 -0.12)\">\n     <defs>\n      <path id=\"DejaVuSans-2d\" d=\"M 313 2009 \nL 1997 2009 \nL 1997 1497 \nL 313 1497 \nL 313 2009 \nz\n\" transform=\"scale(0.015625)\"/>\n     </defs>\n     <use xlink:href=\"#DejaVuSans-74\"/>\n     <use xlink:href=\"#DejaVuSans-2d\" x=\"39.208984\"/>\n     <use xlink:href=\"#DejaVuSans-73\" x=\"75.292969\"/>\n     <use xlink:href=\"#DejaVuSans-68\" x=\"127.392578\"/>\n     <use xlink:href=\"#DejaVuSans-69\" x=\"190.771484\"/>\n     <use xlink:href=\"#DejaVuSans-72\" x=\"218.554688\"/>\n     <use xlink:href=\"#DejaVuSans-74\" x=\"259.667969\"/>\n    </g>\n    <!-- t-shirt -->\n    <g transform=\"translate(1628.101308 29.7555) scale(0.12 -0.12)\">\n     <use xlink:href=\"#DejaVuSans-74\"/>\n     <use xlink:href=\"#DejaVuSans-2d\" x=\"39.208984\"/>\n     <use xlink:href=\"#DejaVuSans-73\" x=\"75.292969\"/>\n     <use xlink:href=\"#DejaVuSans-68\" x=\"127.392578\"/>\n     <use xlink:href=\"#DejaVuSans-69\" x=\"190.771484\"/>\n     <use xlink:href=\"#DejaVuSans-72\" x=\"218.554688\"/>\n     <use xlink:href=\"#DejaVuSans-74\" x=\"259.667969\"/>\n    </g>\n   </g>\n  </g>\n </g>\n <defs>\n  <clipPath id=\"p5bae88da1c\">\n   <rect x=\"7.2\" y=\"35.7555\" width=\"70.336134\" height=\"70.336134\"/>\n  </clipPath>\n  <clipPath id=\"pcee3c785fd\">\n   <rect x=\"91.603361\" y=\"35.7555\" width=\"70.336134\" height=\"70.336134\"/>\n  </clipPath>\n  <clipPath id=\"pdc9f595431\">\n   <rect x=\"176.006723\" y=\"35.7555\" width=\"70.336134\" height=\"70.336134\"/>\n  </clipPath>\n  <clipPath id=\"pa012ce08d4\">\n   <rect x=\"260.410084\" y=\"35.7555\" width=\"70.336134\" height=\"70.336134\"/>\n  </clipPath>\n  <clipPath id=\"pec828254fa\">\n   <rect x=\"344.813445\" y=\"35.7555\" width=\"70.336134\" height=\"70.336134\"/>\n  </clipPath>\n  <clipPath id=\"p97752d849d\">\n   <rect x=\"429.216807\" y=\"35.7555\" width=\"70.336134\" height=\"70.336134\"/>\n  </clipPath>\n  <clipPath id=\"p264819cae5\">\n   <rect x=\"513.620168\" y=\"35.7555\" width=\"70.336134\" height=\"70.336134\"/>\n  </clipPath>\n  <clipPath id=\"p6477318da9\">\n   <rect x=\"598.023529\" y=\"35.7555\" width=\"70.336134\" height=\"70.336134\"/>\n  </clipPath>\n  <clipPath id=\"pf53cf04841\">\n   <rect x=\"682.426891\" y=\"35.7555\" width=\"70.336134\" height=\"70.336134\"/>\n  </clipPath>\n  <clipPath id=\"p151198fae2\">\n   <rect x=\"766.830252\" y=\"35.7555\" width=\"70.336134\" height=\"70.336134\"/>\n  </clipPath>\n  <clipPath id=\"pdd399da68f\">\n   <rect x=\"851.233613\" y=\"35.7555\" width=\"70.336134\" height=\"70.336134\"/>\n  </clipPath>\n  <clipPath id=\"p8ce1ba172d\">\n   <rect x=\"935.636975\" y=\"35.7555\" width=\"70.336134\" height=\"70.336134\"/>\n  </clipPath>\n  <clipPath id=\"p752ef78d59\">\n   <rect x=\"1020.040336\" y=\"35.7555\" width=\"70.336134\" height=\"70.336134\"/>\n  </clipPath>\n  <clipPath id=\"p216d8429c4\">\n   <rect x=\"1104.443697\" y=\"35.7555\" width=\"70.336134\" height=\"70.336134\"/>\n  </clipPath>\n  <clipPath id=\"p398ca10582\">\n   <rect x=\"1188.847059\" y=\"35.7555\" width=\"70.336134\" height=\"70.336134\"/>\n  </clipPath>\n  <clipPath id=\"p553e3e9c7d\">\n   <rect x=\"1273.25042\" y=\"35.7555\" width=\"70.336134\" height=\"70.336134\"/>\n  </clipPath>\n  <clipPath id=\"pa279a226df\">\n   <rect x=\"1357.653782\" y=\"35.7555\" width=\"70.336134\" height=\"70.336134\"/>\n  </clipPath>\n  <clipPath id=\"p1b095f687e\">\n   <rect x=\"1442.057143\" y=\"35.7555\" width=\"70.336134\" height=\"70.336134\"/>\n  </clipPath>\n  <clipPath id=\"p3941fedac8\">\n   <rect x=\"1526.460504\" y=\"35.7555\" width=\"70.336134\" height=\"70.336134\"/>\n  </clipPath>\n  <clipPath id=\"p8c80179bc9\">\n   <rect x=\"1610.863866\" y=\"35.7555\" width=\"70.336134\" height=\"70.336134\"/>\n  </clipPath>\n </defs>\n</svg>\n"
          },
          "metadata": {}
        }
      ],
      "source": [
        "def predict_ch3(net, test_iter, n=6):\n",
        "    \"\"\"预测标签（定义见第3章）\"\"\"\n",
        "    for X, y in test_iter:\n",
        "        break\n",
        "    trues = d2l.get_fashion_mnist_labels(y)\n",
        "    preds = d2l.get_fashion_mnist_labels(net(X).argmax(axis=1))\n",
        "    titles = [true +'\\n' + pred for true, pred in zip(trues, preds)]\n",
        "    d2l.show_images(\n",
        "        X[0:n].reshape((n, 28, 28)), 1, n, titles=titles[0:n])\n",
        "\n",
        "predict_ch3(net, test_iter, 20)"
      ]
    },
    {
      "cell_type": "markdown",
      "id": "fd6f7fb0",
      "metadata": {
        "origin_pos": 58,
        "id": "fd6f7fb0"
      },
      "source": [
        "## 小结\n",
        "\n",
        "* 借助softmax回归，我们可以训练多分类的模型。\n",
        "* 训练softmax回归循环模型与训练线性回归模型非常相似：先读取数据，再定义模型和损失函数，然后使用优化算法训练模型。大多数常见的深度学习模型都有类似的训练过程。\n",
        "\n",
        "## 练习\n",
        "\n",
        "1. 本节直接实现了基于数学定义softmax运算的`softmax`函数。这可能会导致什么问题？提示：尝试计算$\\exp(50)$的大小。\n",
        "1. 本节中的函数`cross_entropy`是根据交叉熵损失函数的定义实现的。它可能有什么问题？提示：考虑对数的定义域。\n",
        "1. 请想一个解决方案来解决上述两个问题。\n",
        "1. 返回概率最大的分类标签总是最优解吗？例如，医疗诊断场景下可以这样做吗？\n",
        "1. 假设我们使用softmax回归来预测下一个单词，可选取的单词数目过多可能会带来哪些问题?\n"
      ]
    },
    {
      "cell_type": "markdown",
      "id": "ed8131a1",
      "metadata": {
        "origin_pos": 60,
        "tab": [
          "pytorch"
        ],
        "id": "ed8131a1"
      },
      "source": [
        "[Discussions](https://discuss.d2l.ai/t/1789)\n"
      ]
    }
  ],
  "metadata": {
    "kernelspec": {
      "display_name": "Python 3",
      "name": "python3"
    },
    "language_info": {
      "name": "python"
    },
    "required_libs": [],
    "colab": {
      "provenance": []
    }
  },
  "nbformat": 4,
  "nbformat_minor": 5
}